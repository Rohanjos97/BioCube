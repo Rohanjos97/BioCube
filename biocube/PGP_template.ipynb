{
 "cells": [
  {
   "cell_type": "code",
   "execution_count": 1,
   "id": "eb10bbca",
   "metadata": {},
   "outputs": [],
   "source": [
    "from PIL import Image, ImageDraw, ImageFont\n",
    "import random\n",
    "import cv2\n",
    "import os\n",
    "import matplotlib.pyplot as plt"
   ]
  },
  {
   "cell_type": "code",
   "execution_count": 12,
   "id": "45dbadda",
   "metadata": {},
   "outputs": [],
   "source": [
    "def num_to_color(xor_num):\n",
    "    # Simple mapping function to convert XOR result to RGB values\n",
    "    r = xor_num % 256\n",
    "    g = (xor_num // 256) % 256\n",
    "    b = (xor_num // 65536) % 256\n",
    "    return r, g, b\n",
    "\n",
    "def draw_color_maze(image, draw, maze_size, color, user_id, number, savegif=False):\n",
    "    # Set a fixed seed for the random number generator based on user ID and number\n",
    "    random.seed(hash((user_id, number)))\n",
    "    \n",
    "    if savegif == True:\n",
    "        counter = 1\n",
    "    # Use the chosen color for the maze walls\n",
    "    for i in range(0, maze_size[0], 10):\n",
    "        for j in range(0, maze_size[1], 10):\n",
    "            if random.random() < 0.4:  # Adjust this probability to control maze density\n",
    "                draw.rectangle([i, j, i + 10, j + 10], fill=color)\n",
    "                if savegif == True:\n",
    "                    print('herhe')\n",
    "                    file_name = os.path.join(os.getcwd(), 'maze_steps', f'{counter}.png')\n",
    "                    image.save(file_name)\n",
    "                    counter += 1\n",
    "\n",
    "def create_color_maze_image_with_xor(user_id, number, output_path='color_maze_image.png', maze_size=(252, 252), font_size=30):\n",
    "    # XOR the user ID and the number\n",
    "    xor_result = user_id ^ number\n",
    "\n",
    "    # Map the XOR result to RGB values\n",
    "    bg_color = num_to_color(xor_result)\n",
    "    maze_color = num_to_color(user_id + 50)\n",
    "    \n",
    "    # Create a blank white image\n",
    "    image = Image.new('RGB', maze_size, bg_color)\n",
    "    draw = ImageDraw.Draw(image)\n",
    "\n",
    "    # Draw the color maze pattern\n",
    "    draw_color_maze(image, draw, maze_size, maze_color, user_id, number)\n",
    "\n",
    "    # Save the image\n",
    "    image.save(output_path)"
   ]
  },
  {
   "cell_type": "code",
   "execution_count": 23,
   "id": "23b66e4c",
   "metadata": {},
   "outputs": [],
   "source": [
    "# Manually change places at location 1, location 2, loaction 3 to generate multiple key for each user\n",
    "# user_ids = [102211000, 202222000, 131122000, 123100, 134200, 391100]\n",
    "user_id = 391100 # location 1\n",
    "with open('biohash_numbers_K1.txt', 'r') as f: # location 2\n",
    "    for biohash_index, line in enumerate(f.readlines(), start=user_id):\n",
    "        \n",
    "        # Read the biohash number\n",
    "        biohash_number = line\n",
    "        biohash_number = int(biohash_number.split('\\n')[0])\n",
    "        # long_biohash_number = ''.join([biohash_number]*4)\n",
    "        \n",
    "        # print(biohash_number, biohash_index)\n",
    "        dir_name = os.path.join(os.getcwd(), 'maze_dataset', 'k1', str(biohash_number)) # location 3\n",
    "        if not os.path.exists(dir_name):\n",
    "            os.makedirs(dir_name)\n",
    "        file_name1 = os.path.join(dir_name, '1.png')\n",
    "        file_name2 = os.path.join(dir_name, '2.png')\n",
    "        \n",
    "        create_color_maze_image_with_xor(user_id=biohash_index, number=biohash_number, output_path=file_name1)\n",
    "        create_color_maze_image_with_xor(user_id=biohash_index, number=biohash_number, output_path=file_name2)"
   ]
  },
  {
   "cell_type": "code",
   "execution_count": null,
   "id": "8729637e",
   "metadata": {},
   "outputs": [],
   "source": []
  }
 ],
 "metadata": {
  "kernelspec": {
   "display_name": "icpr",
   "language": "python",
   "name": "icpr"
  },
  "language_info": {
   "codemirror_mode": {
    "name": "ipython",
    "version": 3
   },
   "file_extension": ".py",
   "mimetype": "text/x-python",
   "name": "python",
   "nbconvert_exporter": "python",
   "pygments_lexer": "ipython3",
   "version": "3.12.2"
  }
 },
 "nbformat": 4,
 "nbformat_minor": 5
}
