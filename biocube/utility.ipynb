{
 "cells": [
  {
   "cell_type": "code",
   "execution_count": 2,
   "id": "77153212",
   "metadata": {},
   "outputs": [],
   "source": [
    "import os\n",
    "import numpy as np\n",
    "\n",
    "import shutil\n",
    "from PIL import Image\n",
    "import cv2\n",
    "import cv2 as cv\n",
    "import random\n",
    "\n",
    "import urllib\n",
    "from selenium import webdriver\n",
    "from bs4 import BeautifulSoup\n",
    "from selenium.webdriver.common.by import By\n",
    "\n",
    "import matplotlib.pyplot as plt"
   ]
  },
  {
   "cell_type": "code",
   "execution_count": 3,
   "id": "326a32a6",
   "metadata": {},
   "outputs": [
    {
     "data": {
      "text/plain": [
       "'C:\\\\Users\\\\HK Joshi\\\\Documents\\\\Github\\\\major_project\\\\biocube'"
      ]
     },
     "execution_count": 3,
     "metadata": {},
     "output_type": "execute_result"
    }
   ],
   "source": [
    "ROOT_DIR = os.getcwd()\n",
    "ROOT_DIR"
   ]
  },
  {
   "cell_type": "code",
   "execution_count": 3,
   "id": "718e1695",
   "metadata": {},
   "outputs": [],
   "source": [
    "data_path = os.path.join(ROOT_DIR, 'datasets', 'VERA-fingervein')\n",
    "cropped_data_path = os.path.join(ROOT_DIR, 'datasets',  'cropped-VERA-fingervein')\n",
    "new_data_path = os.path.join(ROOT_DIR, 'datasets',  'LR-VERA-fingervein')\n",
    "fingervein_feature_path = os.path.join(ROOT_DIR, 'datasets',  'LR-VERA-fingervein-max-curvature-images')"
   ]
  },
  {
   "cell_type": "markdown",
   "id": "ad13f9a7",
   "metadata": {},
   "source": [
    "## 1. Crop images 50 pixels from top, left and bottom to remove bachground info"
   ]
  },
  {
   "cell_type": "code",
   "execution_count": 5,
   "id": "cc2785fb",
   "metadata": {
    "scrolled": false
   },
   "outputs": [],
   "source": [
    "os.chdir(ROOT_DIR)\n",
    "os.chdir(data_path)\n",
    "\n",
    "for folder in os.listdir():\n",
    "    if folder == 'METADATA.ods':\n",
    "            continue\n",
    "    os.chdir(folder)\n",
    "    for file_name in os.listdir():\n",
    "        img = np.array(Image.open(file_name).convert(\"RGB\"))\n",
    "        new_img = Image.fromarray(img[50:-51, 50: ,:]) #[h, w, c]\n",
    "#         plt.imshow(img)\n",
    "#         plt.show()\n",
    "#         plt.imshow(new_img)\n",
    "#         plt.show()\n",
    "        \n",
    "        new_file_path = os.path.join(cropped_data_path, folder)\n",
    "        if os.path.isdir(new_file_path) == False:\n",
    "            os.makedirs(new_file_path)\n",
    "        dest = os.path.join(new_file_path)\n",
    "        new_img.save(os.path.join(dest, f\"{file_name.split('.')[0]}.{file_name.split('.')[1]}\"))\n",
    "    os.chdir('..')"
   ]
  },
  {
   "cell_type": "markdown",
   "id": "88fa788e",
   "metadata": {},
   "source": [
    "# 2. Separate Left and Right fingervein dataset into different class"
   ]
  },
  {
   "cell_type": "code",
   "execution_count": 6,
   "id": "d8072881",
   "metadata": {},
   "outputs": [],
   "source": [
    "os.chdir(ROOT_DIR)\n",
    "os.chdir(cropped_data_path)\n",
    "\n",
    "for folder in os.listdir():\n",
    "    # print(folder)\n",
    "    if folder == 'METADATA.ods':\n",
    "            continue\n",
    "    os.chdir(folder)\n",
    "    for file_name in os.listdir():\n",
    "        if file_name.split('_')[1] == 'L':\n",
    "            new_path = os.path.join(new_data_path, folder+'-L')\n",
    "            if os.path.isdir(new_path) == False:\n",
    "                os.makedirs(new_path)\n",
    "            dest = os.path.join(new_path)\n",
    "            shutil.copy2(file_name, dest)\n",
    "        else:\n",
    "            new_path = os.path.join(new_data_path, folder+'-R')\n",
    "            if os.path.isdir(new_path) == False:\n",
    "                os.makedirs(new_path)\n",
    "            dest = os.path.join(new_path)\n",
    "            shutil.copy2(file_name, dest)\n",
    "\n",
    "    os.chdir('..')\n",
    "os.chdir(ROOT_DIR)"
   ]
  },
  {
   "cell_type": "markdown",
   "id": "5df0eddb",
   "metadata": {},
   "source": [
    "# 3. Read images from a folder and rotate it for data augmentation\n",
    "\n",
    "There are 2 images in a folder. Read the two images, take a random number between [-7, 7] that represents angle in degree. Rotate each image by given angle and save it. The new image name will be: \"\\<old_img_name\\>rot\\<degree\\>.\\<image_format\\>\""
   ]
  },
  {
   "cell_type": "code",
   "execution_count": 7,
   "id": "07b22eb2",
   "metadata": {},
   "outputs": [],
   "source": [
    "degree_to_turn = 7\n",
    "\n",
    "def gen_rot_img(img_lst):\n",
    "    [path1, img1], [path2, img2] = img_lst\n",
    "#     print(path1, img1, path2, img2)\n",
    "    while(True): #Find the two values of angle such that none of them is zero\n",
    "        deg1 = random.randint((-1 * degree_to_turn), degree_to_turn)\n",
    "        deg2 = random.randint((-1 * degree_to_turn), degree_to_turn)\n",
    "        # Return two degree angles who are different and not 0\n",
    "        if (deg1 != 0 or deg2 != 0) and (deg1 != deg2):\n",
    "            break\n",
    "            \n",
    "    rot_img11, rot_img12 = img1.rotate(deg1), img1.rotate(deg2)\n",
    "    rot_img21, rot_img22 = img2.rotate(deg1), img2.rotate(deg2)\n",
    "    \n",
    "    rot_img11.save(f\"{path1.split('.')[0]}rot{deg1}.{path1.split('.')[1]}\"), rot_img12.save(f\"{path1.split('.')[0]}rot{deg2}.{path1.split('.')[1]}\")\n",
    "    rot_img21.save(f\"{path2.split('.')[0]}rot{deg1}.{path2.split('.')[1]}\"), rot_img22.save(f\"{path2.split('.')[0]}rot{deg2}.{path2.split('.')[1]}\")\n",
    "#     plt.subplot(141)\n",
    "#     plt.imshow(rot_img11)\n",
    "#     plt.subplot(142)\n",
    "#     plt.imshow(rot_img12)\n",
    "#     plt.subplot(143)\n",
    "#     plt.imshow(rot_img21)\n",
    "#     plt.subplot(144)\n",
    "#     plt.imshow(rot_img22)\n",
    "    "
   ]
  },
  {
   "cell_type": "code",
   "execution_count": 8,
   "id": "96411e68",
   "metadata": {},
   "outputs": [],
   "source": [
    "os.chdir(ROOT_DIR)\n",
    "os.chdir(new_data_path)\n",
    "\n",
    "for folder in os.listdir():\n",
    "    files_in_folder = []\n",
    "    os.chdir(folder)\n",
    "    \n",
    "    # Read the original two images in the folder\n",
    "    for file in os.listdir():\n",
    "        img = Image.open(file).convert(\"RGB\")\n",
    "        files_in_folder.append([file, img])\n",
    "    \n",
    "    # Create augmented images for both the images\n",
    "    gen_rot_img(files_in_folder)\n",
    "    \n",
    "    os.chdir('..')\n",
    "os.chdir(new_data_path)"
   ]
  },
  {
   "cell_type": "markdown",
   "id": "4f0f1d36",
   "metadata": {},
   "source": [
    "# 4. Augmentation for Conditional GAN"
   ]
  },
  {
   "cell_type": "code",
   "execution_count": 23,
   "id": "af77135c",
   "metadata": {
    "scrolled": false
   },
   "outputs": [],
   "source": [
    "os.chdir(ROOT_DIR)\n",
    "\n",
    "# Define the path to the folder containing your JAB code images\n",
    "# jabcode_folder = r'datasets\\jabcode_exchange_replace'\n",
    "jabcode_folder = r'datasets\\jabcode_exchange_XOR'\n",
    "\n",
    "# Define the output folder for augmented data\n",
    "# output_folder = r'datasets\\jabcode_exchange_replace_augmented'\n",
    "output_folder = r'datasets\\jabcode_exchange_XOR_augmented'\n",
    "\n",
    "# Ensure the output folder exists, create it if it doesn't\n",
    "if not os.path.exists(output_folder):\n",
    "    os.makedirs(output_folder)\n",
    "\n",
    "# Function to create augmented images\n",
    "def augment_image(image, output_folder, user_id, num_augmentations=10):\n",
    "    for i in range(1, num_augmentations+1):\n",
    "        augmented_image = image.copy()\n",
    "        \n",
    "        # Apply data augmentation here\n",
    "        # Example: Rotate the image by a random angle\n",
    "        angle = np.random.uniform(-10, 10)  # Adjust the range as needed\n",
    "        rows, cols, _ = augmented_image.shape\n",
    "        M = cv2.getRotationMatrix2D((cols / 2, rows / 2), angle, 1)\n",
    "        augmented_image = cv2.warpAffine(augmented_image, M, (cols, rows))\n",
    "        \n",
    "        # Save the augmented image to the user's folder\n",
    "        output_filename = f'jabcode_user_{user_id}_augmented_{i}.png'\n",
    "        output_path = os.path.join(output_folder, output_filename)\n",
    "        cv2.imwrite(output_path, augmented_image)\n",
    "\n",
    "# Loop through the JAB code files and apply data augmentation\n",
    "for foldername in os.listdir(jabcode_folder):\n",
    "    # print(foldername)\n",
    "    for filename in os.listdir(os.path.join(jabcode_folder, foldername)):\n",
    "        # print(filename)\n",
    "        user_id = int(foldername.split('_')[-1])\n",
    "        if filename.endswith('.png'):\n",
    "            user_folder = os.path.join(output_folder, foldername)\n",
    "            if not os.path.exists(user_folder):\n",
    "                os.makedirs(user_folder)\n",
    "\n",
    "            image_path = os.path.join(jabcode_folder, foldername, filename)\n",
    "            image = cv2.imread(image_path)\n",
    "            # plt.imshow(image)\n",
    "            # plt.show()\n",
    "            \n",
    "            # Apply data augmentation for each image\n",
    "            augment_image(image, user_folder, user_id, num_augmentations=20)\n",
    "#         break\n",
    "#     break"
   ]
  },
  {
   "cell_type": "markdown",
   "id": "544106cf",
   "metadata": {},
   "source": [
    "## 5. Script to generate jabcode and return an image"
   ]
  },
  {
   "cell_type": "code",
   "execution_count": 25,
   "id": "912802a2",
   "metadata": {},
   "outputs": [],
   "source": [
    "def download_jabcode(bhash_no, file_name, close_driver_flag=False):\n",
    "''' Saves the file in the given directory\n",
    "    Input:\n",
    "        bhash_no: Biohash number for which we need the jabcode\n",
    "        file_name: Filename of the jabcode file (mention the extension as well). Mention the full path to store in a specific directory.\n",
    "        close_driver_flag: Flag to indicate last file, to close the driver \n",
    "'''\n",
    "    chromedriver_path = r'C:\\Users\\HK Joshi\\Documents\\Github\\major_project\\biocube\\chrome-win64'\n",
    "\n",
    "    # Suppress Permission error\n",
    "    os.chmod(chromedriver_path, 755)\n",
    "\n",
    "    # Desired URL\n",
    "    url = \"https://jabcode.org/create\"\n",
    "\n",
    "    # create a new Chrome session\n",
    "    driver = webdriver.Chrome()\n",
    "    driver.implicitly_wait(30)\n",
    "    driver.get(url)\n",
    "    \n",
    "    # Find the textbox where we insert Biohash \n",
    "    text_area = driver.find_element(By.XPATH, '//*[@id=\"gatsby-focus-wrapper\"]/div/div/div/div/div/div[2]/div[2]/div[1]/div[1]/textarea')\n",
    "    text_area.send_keys(bhash_no)\n",
    "    driver.implicitly_wait(5)\n",
    "\n",
    "    # Find the submit button\n",
    "    submit_biohash = driver.find_element(By.XPATH, '//*[@id=\"gatsby-focus-wrapper\"]/div/div/div/div/div/div[2]/div[2]/div[1]/div[2]/div/button')\n",
    "    submit_biohash.click()\n",
    "    driver.implicitly_wait(5)\n",
    "    \n",
    "    img_url = driver.find_element(By.XPATH, '//*[@alt=\"jab code\"]').get_attribute(\"src\")\n",
    "    urllib.request.urlretrieve(img_url, file_name)\n",
    "    \n",
    "    if close_driver_flag == True:\n",
    "        driver.close()"
   ]
  },
  {
   "cell_type": "code",
   "execution_count": 2,
   "id": "11c6d670",
   "metadata": {},
   "outputs": [],
   "source": [
    "from tensorflow.keras.preprocessing.image import ImageDataGenerator, img_to_array, load_img\n",
    "import os"
   ]
  },
  {
   "cell_type": "code",
   "execution_count": 7,
   "id": "989fbcb3",
   "metadata": {},
   "outputs": [],
   "source": [
    "# Define the path to the image you want to augment\n",
    "input_image_path = os.path.join(os.getcwd(), 'datasets', 'labelled_jabcode')\n",
    "output_directory = os.path.join(os.getcwd(), 'datasets', 'augmented_labelled_jabcode')\n",
    "    \n",
    "for jabcode in os.listdir(input_image_path):\n",
    "    for image_name in os.listdir(os.path.join(input_image_path, jabcode)):\n",
    "        \n",
    "        img_path = os.path.join(input_image_path, jabcode, image_name)\n",
    "        save_dir = os.path.join(output_directory, jabcode)\n",
    "        # Create a directory to store augmented images\n",
    "        os.makedirs(save_dir, exist_ok=True)\n",
    "\n",
    "        # Load the image\n",
    "        img = load_img(img_path)\n",
    "        x = img_to_array(img)\n",
    "        x = x.reshape((1,) + x.shape)\n",
    "\n",
    "        # Configure the data generator for augmentation\n",
    "        datagen = ImageDataGenerator(\n",
    "            rotation_range=40,\n",
    "            width_shift_range=0.2,\n",
    "            height_shift_range=0.2,\n",
    "            shear_range=0.2,\n",
    "            zoom_range=0.2,\n",
    "            horizontal_flip=True,\n",
    "            fill_mode='nearest'\n",
    "        )\n",
    "\n",
    "        # Generate augmented images\n",
    "        num_samples = 100  # You can adjust this based on your needs\n",
    "\n",
    "        for i, batch in enumerate(datagen.flow(x, batch_size=1, save_to_dir=save_dir, save_prefix='aug', save_format='jpeg')):\n",
    "            if i >= num_samples:\n",
    "                break  # Break the loop after generating the desired number of samples\n"
   ]
  },
  {
   "cell_type": "markdown",
   "id": "81f2983d",
   "metadata": {},
   "source": [
    "## 6. Duplicate images in directory"
   ]
  },
  {
   "cell_type": "code",
   "execution_count": 9,
   "id": "25a6d715",
   "metadata": {},
   "outputs": [],
   "source": [
    "dataset_dir = os.path.join(os.getcwd(), 'datasets', 'jabcode_exchange_replace')\n",
    "\n",
    "for folder_name in os.listdir(dataset_dir):\n",
    "    folder_path = os.path.join(dataset_dir, folder_name)\n",
    "    # print(folder_path)\n",
    "    # Check if the path is a directory\n",
    "    if os.path.isdir(folder_path):\n",
    "        # Define the source and destination paths for copying\n",
    "        source_path = os.path.join(folder_path, '1.png')\n",
    "        destination_path = os.path.join(folder_path, '2.png')\n",
    "\n",
    "        # Copy the image\n",
    "        shutil.copyfile(source_path, destination_path)"
   ]
  }
 ],
 "metadata": {
  "kernelspec": {
   "display_name": "tensorflow_env",
   "language": "python",
   "name": "tensorflow_env"
  },
  "language_info": {
   "codemirror_mode": {
    "name": "ipython",
    "version": 3
   },
   "file_extension": ".py",
   "mimetype": "text/x-python",
   "name": "python",
   "nbconvert_exporter": "python",
   "pygments_lexer": "ipython3",
   "version": "3.11.2"
  }
 },
 "nbformat": 4,
 "nbformat_minor": 5
}
