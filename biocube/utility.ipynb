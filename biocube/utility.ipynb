{
 "cells": [
  {
   "cell_type": "code",
   "execution_count": 2,
   "id": "77153212",
   "metadata": {},
   "outputs": [],
   "source": [
    "import os\n",
    "import numpy as np\n",
    "\n",
    "import shutil\n",
    "from PIL import Image\n",
    "import cv2 as cv\n",
    "import random\n",
    "\n",
    "import matplotlib.pyplot as plt"
   ]
  },
  {
   "cell_type": "code",
   "execution_count": 3,
   "id": "326a32a6",
   "metadata": {},
   "outputs": [
    {
     "data": {
      "text/plain": [
       "'C:\\\\Users\\\\HK Joshi\\\\Documents\\\\Github\\\\major_project\\\\biocube'"
      ]
     },
     "execution_count": 3,
     "metadata": {},
     "output_type": "execute_result"
    }
   ],
   "source": [
    "ROOT_DIR = os.getcwd()\n",
    "ROOT_DIR"
   ]
  },
  {
   "cell_type": "code",
   "execution_count": 4,
   "id": "718e1695",
   "metadata": {},
   "outputs": [],
   "source": [
    "data_path = os.path.join(ROOT_DIR, 'datasets', 'VERA-fingervein')\n",
    "cropped_data_path = os.path.join(ROOT_DIR, 'datasets',  'cropped-VERA-fingervein')\n",
    "new_data_path = os.path.join(ROOT_DIR, 'datasets',  'LR-VERA-fingervein')"
   ]
  },
  {
   "cell_type": "markdown",
   "id": "ad13f9a7",
   "metadata": {},
   "source": [
    "## 1. Crop images 50 pixels from top, left and bottom to remove bachground info"
   ]
  },
  {
   "cell_type": "code",
   "execution_count": 5,
   "id": "cc2785fb",
   "metadata": {
    "scrolled": false
   },
   "outputs": [],
   "source": [
    "os.chdir(ROOT_DIR)\n",
    "os.chdir(data_path)\n",
    "\n",
    "for folder in os.listdir():\n",
    "    if folder == 'METADATA.ods':\n",
    "            continue\n",
    "    os.chdir(folder)\n",
    "    for file_name in os.listdir():\n",
    "        img = np.array(Image.open(file_name).convert(\"RGB\"))\n",
    "        new_img = Image.fromarray(img[50:-51, 50: ,:]) #[h, w, c]\n",
    "#         plt.imshow(img)\n",
    "#         plt.show()\n",
    "#         plt.imshow(new_img)\n",
    "#         plt.show()\n",
    "        \n",
    "        new_file_path = os.path.join(cropped_data_path, folder)\n",
    "        if os.path.isdir(new_file_path) == False:\n",
    "            os.makedirs(new_file_path)\n",
    "        dest = os.path.join(new_file_path)\n",
    "        new_img.save(os.path.join(dest, f\"{file_name.split('.')[0]}.{file_name.split('.')[1]}\"))\n",
    "    os.chdir('..')"
   ]
  },
  {
   "cell_type": "markdown",
   "id": "88fa788e",
   "metadata": {},
   "source": [
    "# 2. Separate Left and Right fingervein dataset into different class"
   ]
  },
  {
   "cell_type": "code",
   "execution_count": 6,
   "id": "d8072881",
   "metadata": {},
   "outputs": [],
   "source": [
    "os.chdir(ROOT_DIR)\n",
    "os.chdir(cropped_data_path)\n",
    "\n",
    "for folder in os.listdir():\n",
    "    # print(folder)\n",
    "    if folder == 'METADATA.ods':\n",
    "            continue\n",
    "    os.chdir(folder)\n",
    "    for file_name in os.listdir():\n",
    "        if file_name.split('_')[1] == 'L':\n",
    "            new_path = os.path.join(new_data_path, folder+'-L')\n",
    "            if os.path.isdir(new_path) == False:\n",
    "                os.makedirs(new_path)\n",
    "            dest = os.path.join(new_path)\n",
    "            shutil.copy2(file_name, dest)\n",
    "        else:\n",
    "            new_path = os.path.join(new_data_path, folder+'-R')\n",
    "            if os.path.isdir(new_path) == False:\n",
    "                os.makedirs(new_path)\n",
    "            dest = os.path.join(new_path)\n",
    "            shutil.copy2(file_name, dest)\n",
    "\n",
    "    os.chdir('..')\n",
    "os.chdir(ROOT_DIR)"
   ]
  },
  {
   "cell_type": "markdown",
   "id": "5df0eddb",
   "metadata": {},
   "source": [
    "# 3. Read images from a folder and rotate it for data augmentation\n",
    "\n",
    "There are 2 images in a folder. Read the two images, take a random number between [-7, 7] that represents angle in degree. Rotate each image by given angle and save it. The new image name will be: \"\\<old_img_name\\>rot\\<degree\\>.\\<image_format\\>\""
   ]
  },
  {
   "cell_type": "code",
   "execution_count": 7,
   "id": "07b22eb2",
   "metadata": {},
   "outputs": [],
   "source": [
    "degree_to_turn = 7\n",
    "\n",
    "def gen_rot_img(img_lst):\n",
    "    [path1, img1], [path2, img2] = img_lst\n",
    "#     print(path1, img1, path2, img2)\n",
    "    while(True): #Find the two values of angle such that none of them is zero\n",
    "        deg1 = random.randint((-1 * degree_to_turn), degree_to_turn)\n",
    "        deg2 = random.randint((-1 * degree_to_turn), degree_to_turn)\n",
    "        # Return two degree angles who are different and not 0\n",
    "        if (deg1 != 0 or deg2 != 0) and (deg1 != deg2):\n",
    "            break\n",
    "            \n",
    "    rot_img11, rot_img12 = img1.rotate(deg1), img1.rotate(deg2)\n",
    "    rot_img21, rot_img22 = img2.rotate(deg1), img2.rotate(deg2)\n",
    "    \n",
    "    rot_img11.save(f\"{path1.split('.')[0]}rot{deg1}.{path1.split('.')[1]}\"), rot_img12.save(f\"{path1.split('.')[0]}rot{deg2}.{path1.split('.')[1]}\")\n",
    "    rot_img21.save(f\"{path2.split('.')[0]}rot{deg1}.{path2.split('.')[1]}\"), rot_img22.save(f\"{path2.split('.')[0]}rot{deg2}.{path2.split('.')[1]}\")\n",
    "#     plt.subplot(141)\n",
    "#     plt.imshow(rot_img11)\n",
    "#     plt.subplot(142)\n",
    "#     plt.imshow(rot_img12)\n",
    "#     plt.subplot(143)\n",
    "#     plt.imshow(rot_img21)\n",
    "#     plt.subplot(144)\n",
    "#     plt.imshow(rot_img22)\n",
    "    "
   ]
  },
  {
   "cell_type": "code",
   "execution_count": 8,
   "id": "96411e68",
   "metadata": {},
   "outputs": [],
   "source": [
    "os.chdir(ROOT_DIR)\n",
    "os.chdir(new_data_path)\n",
    "\n",
    "for folder in os.listdir():\n",
    "    files_in_folder = []\n",
    "    os.chdir(folder)\n",
    "    \n",
    "    # Read the original two images in the folder\n",
    "    for file in os.listdir():\n",
    "        img = Image.open(file).convert(\"RGB\")\n",
    "        files_in_folder.append([file, img])\n",
    "    \n",
    "    # Create augmented images for both the images\n",
    "    gen_rot_img(files_in_folder)\n",
    "    \n",
    "    os.chdir('..')\n",
    "os.chdir(new_data_path)"
   ]
  }
 ],
 "metadata": {
  "kernelspec": {
   "display_name": "tensorflow_env",
   "language": "python",
   "name": "tensorflow_env"
  },
  "language_info": {
   "codemirror_mode": {
    "name": "ipython",
    "version": 3
   },
   "file_extension": ".py",
   "mimetype": "text/x-python",
   "name": "python",
   "nbconvert_exporter": "python",
   "pygments_lexer": "ipython3",
   "version": "3.11.2"
  }
 },
 "nbformat": 4,
 "nbformat_minor": 5
}
