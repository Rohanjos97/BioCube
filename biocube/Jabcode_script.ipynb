{
 "cells": [
  {
   "cell_type": "code",
   "execution_count": 1,
   "id": "3361ed92",
   "metadata": {},
   "outputs": [],
   "source": [
    "import os\n",
    "import numpy as np\n",
    "\n",
    "from PIL import Image\n",
    "import cv2 as cv\n",
    "\n",
    "import urllib\n",
    "from selenium import webdriver\n",
    "from bs4 import BeautifulSoup\n",
    "from selenium.webdriver.common.by import By\n",
    "from selenium.webdriver.common.keys import Keys\n",
    "\n",
    "import matplotlib.pyplot as plt"
   ]
  },
  {
   "cell_type": "code",
   "execution_count": 5,
   "id": "278fb22d",
   "metadata": {},
   "outputs": [],
   "source": [
    "# Start a selenium Chorme\n",
    "\n",
    "chromedriver_path = r'chrome-win64'\n",
    "\n",
    "# Suppress Permission error\n",
    "os.chmod(chromedriver_path, 755)\n",
    "\n",
    "# Desired URL\n",
    "url = \"https://jabcode.org/create\"\n",
    "\n",
    "#     # Headless mode\n",
    "#     options = webdriver.ChromeOptions()\n",
    "#     options.add_argument('--headless')\n",
    "\n",
    "# create a new Chrome session\n",
    "#     driver = webdriver.Chrome(options=options)\n",
    "driver = webdriver.Chrome()\n",
    "driver.implicitly_wait(10000)\n",
    "driver.get(url)\n",
    "driver.implicitly_wait(10000)"
   ]
  },
  {
   "cell_type": "code",
   "execution_count": 19,
   "id": "e6ccf752",
   "metadata": {},
   "outputs": [],
   "source": [
    "with open('biohash_numbers.txt', 'r') as f:\n",
    "    for biohash_index, line in enumerate(f.readlines()):\n",
    "        \n",
    "        # Read the biohash number\n",
    "        biohash_number = line\n",
    "        biohash_number = biohash_number.split('\\n')[0]\n",
    "        long_biohash_number = ''.join([biohash_number]*4)\n",
    "        # print(long_biohash_number)\n",
    "        # Create directory for jabcode and define filename\n",
    "        folder_name = f'user_{biohash_index+1}'\n",
    "        dir_name = os.path.join(os.getcwd(), 'datasets', 'labelled_long_jabcode', long_biohash_number)\n",
    "        if not os.path.exists(dir_name):\n",
    "            os.makedirs(dir_name)\n",
    "        file_name = os.path.join(dir_name, '1.png')\n",
    "\n",
    "        # Find the textbox where we insert Biohash \n",
    "        text_area = driver.find_element(By.XPATH, '//*[@id=\"gatsby-focus-wrapper\"]/div/div/div/div/div/div[2]/div[2]/div[1]/div[1]/textarea')\n",
    "        driver.implicitly_wait(3000)\n",
    "        \n",
    "        while text_area.text != '':\n",
    "                text_area.send_keys(Keys.BACK_SPACE);\n",
    "        text_area.send_keys(long_biohash_number)\n",
    "        driver.implicitly_wait(3000)\n",
    "\n",
    "        # Find the submit button\n",
    "        submit_biohash = driver.find_element(By.XPATH, '//*[@id=\"gatsby-focus-wrapper\"]/div/div/div/div/div/div[2]/div[2]/div[1]/div[2]/div/button')\n",
    "        submit_biohash.click()\n",
    "        driver.implicitly_wait(5000)\n",
    "        \n",
    "        img_url = driver.find_element(By.XPATH, '//*[@alt=\"jab code\"]').get_attribute(\"src\")\n",
    "        urllib.request.urlretrieve(img_url, file_name)\n",
    "        driver.implicitly_wait(7000)"
   ]
  },
  {
   "cell_type": "code",
   "execution_count": 79,
   "id": "8b3f144c",
   "metadata": {},
   "outputs": [],
   "source": [
    "driver.close()"
   ]
  }
 ],
 "metadata": {
  "kernelspec": {
   "display_name": "tensorflow_env",
   "language": "python",
   "name": "tensorflow_env"
  },
  "language_info": {
   "codemirror_mode": {
    "name": "ipython",
    "version": 3
   },
   "file_extension": ".py",
   "mimetype": "text/x-python",
   "name": "python",
   "nbconvert_exporter": "python",
   "pygments_lexer": "ipython3",
   "version": "3.11.2"
  }
 },
 "nbformat": 4,
 "nbformat_minor": 5
}
