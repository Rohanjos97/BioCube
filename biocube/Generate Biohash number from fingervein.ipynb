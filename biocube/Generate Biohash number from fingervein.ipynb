{
 "cells": [
  {
   "cell_type": "code",
   "execution_count": 8,
   "id": "d9fb4bba",
   "metadata": {},
   "outputs": [],
   "source": [
    "import cv2\n",
    "import numpy as np\n",
    "from scipy.fftpack import fft2, ifft2\n",
    "from skimage import exposure\n",
    "import pywt\n",
    "import os"
   ]
  },
  {
   "cell_type": "code",
   "execution_count": 96,
   "id": "07edbe73",
   "metadata": {},
   "outputs": [],
   "source": [
    "def wavelet_transform(image):\n",
    "    # Apply wavelet transformation\n",
    "    coeffs = pywt.dwt2(image, 'bior1.3')\n",
    "    cA, (cH, cV, cD) = coeffs\n",
    "    return cA\n",
    "\n",
    "def fft_transform(image):\n",
    "    # Apply FFT transformation\n",
    "    fft_result = fft2(image)\n",
    "    return fft_result\n",
    "\n",
    "def log_prob_transform(image):\n",
    "    # Apply log probability transform\n",
    "    log_prob_result = np.log(1 + np.abs(image))\n",
    "    return log_prob_result\n",
    "\n",
    "def high_pass_filtering(image):\n",
    "    # Apply high-pass filtering\n",
    "    rows, cols = image.shape\n",
    "    crow, ccol = rows // 2, cols // 2\n",
    "\n",
    "    # Create a mask for high-pass filtering\n",
    "    mask = np.ones((rows, cols), np.uint8)\n",
    "    r = 30  # Adjust this parameter for the size of the high-pass filter\n",
    "    center = [crow, ccol]\n",
    "    x, y = np.ogrid[:rows, :cols]\n",
    "    mask_area = (x - center[0]) ** 2 + (y - center[1]) ** 2 <= r*r\n",
    "    mask[mask_area] = 0\n",
    "\n",
    "    # Apply high-pass filter\n",
    "    image_filtered = image * mask\n",
    "    return image_filtered\n",
    "\n",
    "def get_feature_vector(img):\n",
    "    # Step 1: Apply wavelet transformation\n",
    "    trans = wavelet_transform(img)\n",
    "\n",
    "    # Step 2: Apply FFT to output 1\n",
    "    trans = fft_transform(trans)\n",
    "\n",
    "    # Step 3: Apply log probability transform on output 2\n",
    "    trans = log_prob_transform(trans)\n",
    "\n",
    "    # Step 4: High-pass filtering on output 3\n",
    "    hpf = high_pass_filtering(trans)\n",
    "\n",
    "    # Step 5: Apply FFT to output 4\n",
    "    fft = fft_transform(hpf)\n",
    "\n",
    "    # Concatenate output 4 and output 5\n",
    "    output = np.concatenate((hpf, np.abs(fft)), axis=None)\n",
    "\n",
    "    # Extract feature vector from concatenated output\n",
    "    output = output.flatten()\n",
    "    \n",
    "    return output\n",
    "\n",
    "def biohashing(img_vec, M, m, k, thresh):\n",
    "    # Step 1: Generate pseudo-random vectors {ri} based on user's seed k\n",
    "    np.random.seed(k)\n",
    "    r = np.random.rand(m, M)\n",
    "    \n",
    "    # Step 2: Apply Gram-Schmidt process to transform r into an orthonormal set of matrices\n",
    "    r_orthogonal = np.array([r[0]])\n",
    "    for i in range(1, m):\n",
    "        ri = r[i]\n",
    "        for j in range(i):\n",
    "            ri -= np.dot(r[i], r_orthogonal[j]) * r_orthogonal[j]\n",
    "        ri /= np.linalg.norm(ri)\n",
    "        r_orthogonal = np.vstack([r_orthogonal, ri])\n",
    "    \n",
    "    # Step 3: Compute ⟨img_vec, r⊥i⟩ for each r⊥i\n",
    "    inner_products = np.dot(img_vec, r_orthogonal.T)\n",
    "    \n",
    "    # Step 4: Compute m bits BioHash {bi}\n",
    "    bi = []\n",
    "    for i in range(m):\n",
    "        if inner_products[i] <= thresh:\n",
    "            bi.append(0)\n",
    "        else:\n",
    "            bi.append(1)\n",
    "    return bi\n",
    "\n",
    "def binatodeci(binary):\n",
    "    return sum(val*(2**idx) for idx, val in enumerate(reversed(binary)))"
   ]
  },
  {
   "cell_type": "code",
   "execution_count": 152,
   "id": "f5ac849b",
   "metadata": {
    "scrolled": true
   },
   "outputs": [],
   "source": [
    "m = 16 # Replace with the desired length of the protected template\n",
    "thresh = 0.4  # Replace with the preset threshold\n",
    "\n",
    "# sigmas = [3, 4, 5, 6, 7, 8, 9, 10] Others dont give unqiue biohash, so delted from database\n",
    "sigmas = [4, 8, 9]\n",
    "sigma_nums = []\n",
    "\n",
    "# All feature vectors with sigma values 3... 10\n",
    "for sigma in sigmas:\n",
    "    dataset_path = f'/home/manjunathjoshi/202211050/major_project/datasets/LR-VERA-fingervein-max-curvature-images-sigma-{sigma}'\n",
    "    # print(f'*******************************************************************************************************************')\n",
    "    # print(f'******************************************************** {sigma} ********************************************************')\n",
    "    # print(f'*******************************************************************************************************************')\n",
    "    \n",
    "    biohash_nums = []\n",
    "    k = 202211000 # Replace with the user's seed\n",
    "    \n",
    "    # User_1.... User_220\n",
    "    for user_class in os.listdir(dataset_path):\n",
    "        user_folder = os.path.join(dataset_path, user_class)\n",
    "\n",
    "        k += 1\n",
    "#         if k >= 202211006:\n",
    "#             break\n",
    "\n",
    "        for user_img in os.listdir(user_folder):\n",
    "            img_path = os.path.join(dataset_path, user_class, user_img)\n",
    "            image = cv2.imread(img_path, cv2.IMREAD_GRAYSCALE)\n",
    "\n",
    "            feature_vec = get_feature_vector(image.copy())\n",
    "            M = len(feature_vec)\n",
    "\n",
    "            binary_temp = biohashing(feature_vec.copy(), M, m, k, thresh)\n",
    "            decimal_temp = binatodeci(binary_temp)\n",
    "            \n",
    "            # print(user_class, user_img, k, decimal_temp)\n",
    "            # print()\n",
    "        biohash_nums.append(decimal_temp)\n",
    "    sigma_nums.append(biohash_nums)"
   ]
  },
  {
   "cell_type": "code",
   "execution_count": 153,
   "id": "93228b5c",
   "metadata": {
    "scrolled": false
   },
   "outputs": [
    {
     "name": "stdout",
     "output_type": "stream",
     "text": [
      "[37144, 39592, 37392, 48523, 40216, 47649, 40212, 44659, 47484, 46078, 37135, 45468, 48634, 34605, 43792, 39263, 35279, 46044, 37371, 35313, 43314, 32889, 42321, 47174, 41045, 39762, 42035, 40030, 47797, 44297, 34364, 45783, 49026, 33256, 42377, 33405, 42871, 44859, 42135, 48633, 36030, 46358, 46468, 46250, 42780, 45818, 38544, 39771, 45677, 34055, 33127, 45129, 35604, 44880, 41859, 35930, 41250, 48821, 46969, 45189, 35144, 41845, 37724, 35379, 45950, 40800, 32837, 35449, 42156, 35898, 33589, 40434, 43499, 35368, 42219, 48097, 43085, 34065, 48963, 42385, 43482, 36851, 34846, 45955, 39191, 41228, 39938, 33398, 43784, 33829, 38123, 46662, 41965, 44062, 34419, 44957, 38051, 47868, 44960, 47225, 43186, 45250, 42688, 46093, 35096, 41860, 41097, 47074, 46102, 41295, 39870, 42101, 35132, 47901, 38299, 35256, 45156, 45287, 35562, 34625, 34648, 40919, 34559, 46230, 48459, 45461, 35020, 39171, 34986, 43013, 37647, 44068, 34233, 38807, 44602, 47570, 45804, 43512, 37338, 40280, 47630, 46722, 37575, 39440, 33118, 48044, 41925, 40731, 39485, 42182, 33648, 33788, 36487, 44243, 34422, 47022, 38471, 39759, 42346, 37404, 35259, 46531, 33260, 43164, 35421, 48628, 48328, 35975, 45128, 41215, 33403, 37238, 38639, 40541, 35256, 46229, 37633, 37657, 37741, 45775, 37619, 33983, 33981, 35628, 36123, 35332, 46219, 48413, 37013, 43824, 33970, 47726, 46507, 44671, 36280, 40390, 47762, 34742, 35849, 38045, 47649, 49041, 43379, 42068, 38431, 41764, 37475, 34204, 40058, 39584, 34467, 41609, 40736, 35704, 44162, 47526, 43571, 40410, 42922, 35756]\n"
     ]
    }
   ],
   "source": [
    "print(sigma_nums[0])"
   ]
  },
  {
   "cell_type": "code",
   "execution_count": 154,
   "id": "c53d0c84",
   "metadata": {},
   "outputs": [
    {
     "data": {
      "text/plain": [
       "220"
      ]
     },
     "execution_count": 154,
     "metadata": {},
     "output_type": "execute_result"
    }
   ],
   "source": [
    "len(sigma_nums[0])"
   ]
  },
  {
   "cell_type": "code",
   "execution_count": 156,
   "id": "afe733f6",
   "metadata": {},
   "outputs": [
    {
     "name": "stdout",
     "output_type": "stream",
     "text": [
      "No of unique items in sigma 3 list are: 218\n",
      "No of unique items in sigma 4 list are: 220\n",
      "No of unique items in sigma 5 list are: 219\n",
      "No of unique items in sigma 6 list are: 219\n",
      "No of unique items in sigma 7 list are: 219\n",
      "No of unique items in sigma 8 list are: 220\n",
      "No of unique items in sigma 9 list are: 220\n",
      "No of unique items in sigma 10 list are: 219\n"
     ]
    }
   ],
   "source": [
    "from collections import Counter\n",
    "\n",
    "for ind, input_list in enumerate(sigma_nums):\n",
    "    \n",
    "    items = Counter(input_list).keys()\n",
    "    print(f'No of unique items in sigma {ind+3} list are:', len(items))"
   ]
  },
  {
   "cell_type": "code",
   "execution_count": 157,
   "id": "c6cde668",
   "metadata": {},
   "outputs": [
    {
     "name": "stdout",
     "output_type": "stream",
     "text": [
      "Numbers saved to biohash_numbers.txt successfully.\n"
     ]
    }
   ],
   "source": [
    "def save_numbers_to_notepad(numbers, file_path):\n",
    "    try:\n",
    "        with open(file_path, 'w') as file:\n",
    "            for number in numbers:\n",
    "                file.write(str(number) + '\\n')\n",
    "        print(f\"Numbers saved to {file_path} successfully.\")\n",
    "    except Exception as e:\n",
    "        print(f\"Error: {e}\")\n",
    "\n",
    "\n",
    "        # Example usage:\n",
    "numbers_list = [1, 2, 3, 4, 5]\n",
    "\n",
    "# Specify the file path where you want to save the numbers\n",
    "file_path = 'biohash_numbers.txt'\n",
    "\n",
    "# Call the function to save numbers to the Notepad file\n",
    "save_numbers_to_notepad(sigma_nums[5], file_path)"
   ]
  }
 ],
 "metadata": {
  "kernelspec": {
   "display_name": "Python 3 (ipykernel)",
   "language": "python",
   "name": "python3"
  },
  "language_info": {
   "codemirror_mode": {
    "name": "ipython",
    "version": 3
   },
   "file_extension": ".py",
   "mimetype": "text/x-python",
   "name": "python",
   "nbconvert_exporter": "python",
   "pygments_lexer": "ipython3",
   "version": "3.6.8"
  }
 },
 "nbformat": 4,
 "nbformat_minor": 5
}
