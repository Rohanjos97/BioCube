{
 "cells": [
  {
   "cell_type": "code",
   "execution_count": 1,
   "id": "b19e2bdd",
   "metadata": {},
   "outputs": [],
   "source": [
    "import os\n",
    "import numpy as np\n",
    "import cv2\n",
    "import matplotlib.pyplot as plt\n",
    "\n",
    "from sklearn.metrics.pairwise import cosine_similarity\n",
    "\n",
    "import tensorflow\n",
    "import tensorflow as tf\n",
    "from tensorflow.keras import layers, models\n",
    "from tensorflow.keras.optimizers import Adam"
   ]
  },
  {
   "cell_type": "code",
   "execution_count": 6,
   "id": "c9c084b1",
   "metadata": {},
   "outputs": [],
   "source": [
    "BATCH_SIZE = 32\n",
    "EPOCHS = 2\n",
    "NUM_USERS = 1\n",
    "NUM_IMAGES_PER_USER = 20"
   ]
  },
  {
   "cell_type": "code",
   "execution_count": 7,
   "id": "2b03ad80",
   "metadata": {},
   "outputs": [],
   "source": [
    "def build_cgan():\n",
    "    \n",
    "    # Generator network\n",
    "    generator = models.Sequential()\n",
    "    generator.add(layers.Dense(256, activation='relu', input_dim=101))  # 101 is the total dimension after concatenation\n",
    "    generator.add(layers.Reshape((8, 8, 4)))\n",
    "    \n",
    "    generator.add(layers.Conv2DTranspose(316, (5, 5), strides=(1, 1), padding='same', activation='relu'))\n",
    "    generator.add(layers.BatchNormalization())\n",
    "    \n",
    "    generator.add(layers.Conv2DTranspose(256, (5, 5), strides=(2, 2), padding='same', activation='relu'))\n",
    "    generator.add(layers.BatchNormalization())\n",
    "    \n",
    "    generator.add(layers.Conv2DTranspose(128, (5, 5), strides=(2, 2), padding='same', activation='relu'))\n",
    "    generator.add(layers.BatchNormalization())\n",
    "    \n",
    "    generator.add(layers.Conv2DTranspose(64, (5, 5), strides=(2, 2), padding='same', activation='relu'))\n",
    "    generator.add(layers.BatchNormalization())\n",
    "    \n",
    "    generator.add(layers.Conv2DTranspose(1, (5, 5), strides=(4, 4), padding='same', activation='tanh'))\n",
    "\n",
    "    # Discriminator network\n",
    "    discriminator = models.Sequential()\n",
    "    discriminator.add(layers.Input(shape=(256, 256, 1)))\n",
    "    \n",
    "    discriminator.add(layers.Conv2D(64, (5, 5), strides=(1, 1), padding='same', activation='relu'))\n",
    "    discriminator.add(layers.BatchNormalization())\n",
    "    \n",
    "    discriminator.add(layers.Conv2D(128, (5, 5), strides=(1, 1), padding='same', activation='relu'))\n",
    "    discriminator.add(layers.BatchNormalization())\n",
    "\n",
    "#     discriminator.add(layers.Flatten())\n",
    "    discriminator.add(layers.Dense(1, activation='sigmoid'))\n",
    "\n",
    "    return generator, discriminator\n",
    "\n",
    "\n",
    "# Define user ID and noise input layers\n",
    "user_id_input = layers.Input(shape=(1,), dtype=tf.int32)\n",
    "noise_input = layers.Input(shape=(100,))\n",
    "\n",
    "# Create cGAN model\n",
    "generator, discriminator = build_cgan()\n",
    "\n",
    "# Define loss functions and optimizers for generator and discriminator\n",
    "cross_entropy = tf.keras.losses.BinaryCrossentropy()\n",
    "\n",
    "def discriminator_loss(real_output, fake_output):\n",
    "    real_loss = cross_entropy(tf.ones_like(real_output), real_output)\n",
    "    fake_loss = cross_entropy(tf.zeros_like(fake_output), fake_output)\n",
    "    total_loss = real_loss + fake_loss\n",
    "    return total_loss\n",
    "\n",
    "def generator_loss(fake_output):\n",
    "    return cross_entropy(tf.ones_like(fake_output), fake_output)\n",
    "\n",
    "generator_optimizer = Adam(1e-4)\n",
    "discriminator_optimizer = Adam(1e-4)\n",
    "\n",
    "# Training loop\n",
    "@tf.function\n",
    "def train_step(images, user_ids):\n",
    "    noise = tf.random.normal([BATCH_SIZE, 100])\n",
    "    user_id_float = layers.Lambda(lambda x: tf.cast(x, tf.float32))(user_ids)\n",
    "    user_id_float = tf.reshape(user_id_float, (BATCH_SIZE, 1))\n",
    "    # print(noise.shape, user_id_float.shape)\n",
    "    concatenated_inputs = tf.concat([user_id_float, noise], axis=1)  # Concatenate user ID and noise\n",
    "    # print(concatenated_inputs.shape)\n",
    "    with tf.GradientTape() as gen_tape, tf.GradientTape() as disc_tape:\n",
    "        generated_images = generator(concatenated_inputs, training=True)\n",
    "        # print(generated_images)\n",
    "        real_output = discriminator(images, training=True)\n",
    "        fake_output = discriminator(generated_images, training=True)\n",
    "\n",
    "        gen_loss = generator_loss(fake_output)\n",
    "        disc_loss = discriminator_loss(real_output, fake_output)\n",
    "\n",
    "    gradients_of_generator = gen_tape.gradient(gen_loss, generator.trainable_variables)\n",
    "    gradients_of_discriminator = disc_tape.gradient(disc_loss, discriminator.trainable_variables)\n",
    "\n",
    "    generator_optimizer.apply_gradients(zip(gradients_of_generator, generator.trainable_variables))\n",
    "    discriminator_optimizer.apply_gradients(zip(gradients_of_discriminator, discriminator.trainable_variables))"
   ]
  },
  {
   "cell_type": "code",
   "execution_count": 8,
   "id": "01fdebbe",
   "metadata": {},
   "outputs": [
    {
     "name": "stdout",
     "output_type": "stream",
     "text": [
      "Model: \"sequential_2\"\n",
      "_________________________________________________________________\n",
      " Layer (type)                Output Shape              Param #   \n",
      "=================================================================\n",
      " dense_2 (Dense)             (None, 256)               26112     \n",
      "                                                                 \n",
      " reshape_1 (Reshape)         (None, 8, 8, 4)           0         \n",
      "                                                                 \n",
      " conv2d_transpose_5 (Conv2DT  (None, 8, 8, 316)        31916     \n",
      " ranspose)                                                       \n",
      "                                                                 \n",
      " batch_normalization_6 (Batc  (None, 8, 8, 316)        1264      \n",
      " hNormalization)                                                 \n",
      "                                                                 \n",
      " conv2d_transpose_6 (Conv2DT  (None, 16, 16, 256)      2022656   \n",
      " ranspose)                                                       \n",
      "                                                                 \n",
      " batch_normalization_7 (Batc  (None, 16, 16, 256)      1024      \n",
      " hNormalization)                                                 \n",
      "                                                                 \n",
      " conv2d_transpose_7 (Conv2DT  (None, 32, 32, 128)      819328    \n",
      " ranspose)                                                       \n",
      "                                                                 \n",
      " batch_normalization_8 (Batc  (None, 32, 32, 128)      512       \n",
      " hNormalization)                                                 \n",
      "                                                                 \n",
      " conv2d_transpose_8 (Conv2DT  (None, 64, 64, 64)       204864    \n",
      " ranspose)                                                       \n",
      "                                                                 \n",
      " batch_normalization_9 (Batc  (None, 64, 64, 64)       256       \n",
      " hNormalization)                                                 \n",
      "                                                                 \n",
      " conv2d_transpose_9 (Conv2DT  (None, 256, 256, 1)      1601      \n",
      " ranspose)                                                       \n",
      "                                                                 \n",
      "=================================================================\n",
      "Total params: 3,109,533\n",
      "Trainable params: 3,108,005\n",
      "Non-trainable params: 1,528\n",
      "_________________________________________________________________\n"
     ]
    }
   ],
   "source": [
    "generator.summary()"
   ]
  },
  {
   "cell_type": "code",
   "execution_count": 9,
   "id": "9c9899dc",
   "metadata": {
    "scrolled": false
   },
   "outputs": [
    {
     "name": "stdout",
     "output_type": "stream",
     "text": [
      "Model: \"sequential_3\"\n",
      "_________________________________________________________________\n",
      " Layer (type)                Output Shape              Param #   \n",
      "=================================================================\n",
      " conv2d_2 (Conv2D)           (None, 256, 256, 64)      1664      \n",
      "                                                                 \n",
      " batch_normalization_10 (Bat  (None, 256, 256, 64)     256       \n",
      " chNormalization)                                                \n",
      "                                                                 \n",
      " conv2d_3 (Conv2D)           (None, 256, 256, 128)     204928    \n",
      "                                                                 \n",
      " batch_normalization_11 (Bat  (None, 256, 256, 128)    512       \n",
      " chNormalization)                                                \n",
      "                                                                 \n",
      " dense_3 (Dense)             (None, 256, 256, 1)       129       \n",
      "                                                                 \n",
      "=================================================================\n",
      "Total params: 207,489\n",
      "Trainable params: 207,105\n",
      "Non-trainable params: 384\n",
      "_________________________________________________________________\n"
     ]
    }
   ],
   "source": [
    "discriminator.summary()"
   ]
  },
  {
   "cell_type": "code",
   "execution_count": null,
   "id": "49b32f91",
   "metadata": {},
   "outputs": [],
   "source": [
    "# MEMORY EFFICIENT CODE\n",
    "\n",
    "augmented_data_folder = r'datasets\\jabcode_exchange_replace_augmented'\n",
    "\n",
    "# # Initialize empty lists to store user data and user IDs\n",
    "# user_data = []\n",
    "# user_ids = []\n",
    "\n",
    "user_ids_mapping = {}\n",
    "for i in range(1, NUM_USERS+1):\n",
    "    user_ids_mapping[i] = np.array([i] * BATCH_SIZE, dtype=np.int32)\n",
    "\n",
    "# Loop through the folders for each user\n",
    "for user_id in range(1, NUM_USERS + 1):\n",
    "    user_data_folder = os.path.join(augmented_data_folder, f'user_{user_id}')\n",
    "    \n",
    "    user_images = []  # To store images for the current user\n",
    "#     user_id_array = np.array([user_id] * NUM_IMAGES_PER_USER, dtype=np.int32)  # User IDs for the current user\n",
    "    \n",
    "    for image_id in range(1, NUM_IMAGES_PER_USER+1):\n",
    "        image_filename = f'jabcode_user_{user_id}_augmented_{image_id}.png'\n",
    "        image_path = os.path.join(user_data_folder, image_filename)\n",
    "        \n",
    "        # Load and preprocess the image\n",
    "        image = cv2.imread(image_path, cv2.IMREAD_GRAYSCALE)  # Load as grayscale image\n",
    "        image = cv2.resize(image, (256, 256))  # Resize if needed\n",
    "        image = np.reshape(image, (256, 256, 1))\n",
    "        # print(image.shape)\n",
    "#         user_images.append(image)\n",
    "    \n",
    "        # Main training loop\n",
    "        for epoch in range(EPOCHS):\n",
    "            print('***********************************************************************************************************')\n",
    "            print(f'user_id {user_id}\\n')\n",
    "            print(f'    Epoch {epoch+1}')\n",
    "\n",
    "            print(user_ids_mapping[user_id])\n",
    "            train_step(image, user_ids_mapping[user_id])\n",
    "        print('***********************************************************************************************************')\n",
    "        "
   ]
  },
  {
   "cell_type": "code",
   "execution_count": 141,
   "id": "57c5cbf4",
   "metadata": {
    "scrolled": false
   },
   "outputs": [],
   "source": [
    "augmented_data_folder = os.path.join('datasets', 'augmented_jabcode')\n",
    "\n",
    "NUM_USERS = 10\n",
    "NUM_IMAGES_PER_USER = 10\n",
    "\n",
    "# Initialize empty lists to store user data and user IDs\n",
    "user_data = []\n",
    "user_ids = []\n",
    "\n",
    "# Loop through the folders for each user\n",
    "for user_id in range(1, NUM_USERS + 1):\n",
    "    user_data_folder = os.path.join(augmented_data_folder, f'user_{user_id}')\n",
    "    \n",
    "    user_images = []  # To store images for the current user\n",
    "    user_id_array = np.array([user_id] * NUM_IMAGES_PER_USER, dtype=np.int32)  # User IDs for the current user\n",
    "    \n",
    "    for image_id in range(NUM_IMAGES_PER_USER):\n",
    "        image_filename = f'jabcode_user_{user_id}_augmented_{image_id}.png'\n",
    "        image_path = os.path.join(user_data_folder, image_filename)\n",
    "        # Load and preprocess the image\n",
    "        image = cv2.imread(image_path, cv2.IMREAD_GRAYSCALE)  # Load as grayscale image\n",
    "        image = cv2.resize(image, (256, 256))  # Resize if needed\n",
    "        image = np.reshape(image, (256, 256, 1))\n",
    "        image = np.expand_dims(image, axis=0)\n",
    "        image = image.astype(np.float32)\n",
    "        # print(image.shape)\n",
    "        user_images.append(image)\n",
    "    \n",
    "    user_data.append(user_images)\n",
    "    user_ids.append(user_id_array)\n",
    "\n",
    "# Now you have user_data, a list of lists containing user-specific images, and user_ids, a list of user IDs corresponding to each user's images.\n",
    "\n",
    "# You can use these arrays to train your cGAN.\n",
    "\n",
    "# Assuming you have already loaded and organized your data as user_data and user_ids\n",
    "\n",
    "# Create a user ID to condition mapping\n",
    "\n",
    "if os.path.exists('checkpoints/discriminator/my_checkpoint.index') and \\\n",
    "    os.path.exists('checkpoints/generator/my_checkpoint.index') == True:\n",
    "    generator.load_weights('./checkpoints/generator/my_checkpoint')\n",
    "    discriminator.load_weights('./checkpoints/discriminator/my_checkpoint')\n",
    "\n",
    "else:\n",
    "    user_ids_mapping = {}\n",
    "    for i in range(NUM_USERS):\n",
    "        user_ids_mapping[i] = np.array([i] * BATCH_SIZE, dtype=np.int32)\n",
    "\n",
    "    # Main training loop\n",
    "    for epoch in range(EPOCHS):\n",
    "        for user_id in range(NUM_USERS):\n",
    "            for batch_images in user_data[user_id]:\n",
    "                train_step(batch_images, user_ids_mapping[user_id])\n",
    "    \n",
    "    generator.save_weights('./checkpoints/generator/my_checkpoint')\n",
    "    discriminator.save_weights('./checkpoints/discriminator/my_checkpoint')"
   ]
  },
  {
   "cell_type": "code",
   "execution_count": 142,
   "id": "601ebfc8",
   "metadata": {
    "scrolled": true
   },
   "outputs": [
    {
     "name": "stdout",
     "output_type": "stream",
     "text": [
      "----- ----- ----- ----- user_1.png ----- ----- ----- -----\n"
     ]
    },
    {
     "data": {
      "image/png": "[encoded data removed]",
      "text/plain": [
       "<Figure size 432x288 with 1 Axes>"
      ]
     },
     "metadata": {
      "needs_background": "light"
     },
     "output_type": "display_data"
    },
    {
     "data": {
      "image/png": "[encoded data removed]",
      "text/plain": [
       "<Figure size 432x288 with 1 Axes>"
      ]
     },
     "metadata": {
      "needs_background": "light"
     },
     "output_type": "display_data"
    },
    {
     "name": "stdout",
     "output_type": "stream",
     "text": [
      "----- ----- ----- ----- user_2.png ----- ----- ----- -----\n"
     ]
    },
    {
     "data": {
      "image/png": "[encoded data removed]",
      "text/plain": [
       "<Figure size 432x288 with 1 Axes>"
      ]
     },
     "metadata": {
      "needs_background": "light"
     },
     "output_type": "display_data"
    },
    {
     "data": {
      "image/png": "[encoded data removed]",
      "text/plain": [
       "<Figure size 432x288 with 1 Axes>"
      ]
     },
     "metadata": {
      "needs_background": "light"
     },
     "output_type": "display_data"
    },
    {
     "name": "stdout",
     "output_type": "stream",
     "text": [
      "----- ----- ----- ----- user_3.png ----- ----- ----- -----\n"
     ]
    },
    {
     "data": {
      "image/png": "[encoded data removed]",
      "text/plain": [
       "<Figure size 432x288 with 1 Axes>"
      ]
     },
     "metadata": {
      "needs_background": "light"
     },
     "output_type": "display_data"
    },
    {
     "data": {
      "image/png": "[encoded data removed]",
      "text/plain": [
       "<Figure size 432x288 with 1 Axes>"
      ]
     },
     "metadata": {
      "needs_background": "light"
     },
     "output_type": "display_data"
    },
    {
     "name": "stdout",
     "output_type": "stream",
     "text": [
      "----- ----- ----- ----- user_4.png ----- ----- ----- -----\n"
     ]
    },
    {
     "data": {
      "image/png": "[encoded data removed]",
      "text/plain": [
       "<Figure size 432x288 with 1 Axes>"
      ]
     },
     "metadata": {
      "needs_background": "light"
     },
     "output_type": "display_data"
    },
    {
     "data": {
      "image/png": "[encoded data removed]",
      "text/plain": [
       "<Figure size 432x288 with 1 Axes>"
      ]
     },
     "metadata": {
      "needs_background": "light"
     },
     "output_type": "display_data"
    },
    {
     "name": "stdout",
     "output_type": "stream",
     "text": [
      "----- ----- ----- ----- user_5.png ----- ----- ----- -----\n"
     ]
    },
    {
     "data": {
      "image/png": "[encoded data removed]",
      "text/plain": [
       "<Figure size 432x288 with 1 Axes>"
      ]
     },
     "metadata": {
      "needs_background": "light"
     },
     "output_type": "display_data"
    },
    {
     "data": {
      "image/png": "[encoded data removed]",
      "text/plain": [
       "<Figure size 432x288 with 1 Axes>"
      ]
     },
     "metadata": {
      "needs_background": "light"
     },
     "output_type": "display_data"
    },
    {
     "name": "stdout",
     "output_type": "stream",
     "text": [
      "----- ----- ----- ----- user_6.png ----- ----- ----- -----\n"
     ]
    },
    {
     "data": {
      "image/png": "[encoded data removed]",
      "text/plain": [
       "<Figure size 432x288 with 1 Axes>"
      ]
     },
     "metadata": {
      "needs_background": "light"
     },
     "output_type": "display_data"
    },
    {
     "data": {
      "image/png": "[encoded data removed]",
      "text/plain": [
       "<Figure size 432x288 with 1 Axes>"
      ]
     },
     "metadata": {
      "needs_background": "light"
     },
     "output_type": "display_data"
    },
    {
     "name": "stdout",
     "output_type": "stream",
     "text": [
      "----- ----- ----- ----- user_7.png ----- ----- ----- -----\n"
     ]
    },
    {
     "data": {
      "image/png": "[encoded data removed]",
      "text/plain": [
       "<Figure size 432x288 with 1 Axes>"
      ]
     },
     "metadata": {
      "needs_background": "light"
     },
     "output_type": "display_data"
    },
    {
     "data": {
      "image/png": "[encoded data removed]",
      "text/plain": [
       "<Figure size 432x288 with 1 Axes>"
      ]
     },
     "metadata": {
      "needs_background": "light"
     },
     "output_type": "display_data"
    },
    {
     "name": "stdout",
     "output_type": "stream",
     "text": [
      "----- ----- ----- ----- user_8.png ----- ----- ----- -----\n"
     ]
    },
    {
     "data": {
      "image/png": "[encoded data removed]",
      "text/plain": [
       "<Figure size 432x288 with 1 Axes>"
      ]
     },
     "metadata": {
      "needs_background": "light"
     },
     "output_type": "display_data"
    },
    {
     "data": {
      "image/png": "[encoded data removed]",
      "text/plain": [
       "<Figure size 432x288 with 1 Axes>"
      ]
     },
     "metadata": {
      "needs_background": "light"
     },
     "output_type": "display_data"
    },
    {
     "name": "stdout",
     "output_type": "stream",
     "text": [
      "----- ----- ----- ----- user_9.png ----- ----- ----- -----\n"
     ]
    },
    {
     "data": {
      "image/png": "[encoded data removed]",
      "text/plain": [
       "<Figure size 432x288 with 1 Axes>"
      ]
     },
     "metadata": {
      "needs_background": "light"
     },
     "output_type": "display_data"
    },
    {
     "data": {
      "image/png": "[encoded data removed]",
      "text/plain": [
       "<Figure size 432x288 with 1 Axes>"
      ]
     },
     "metadata": {
      "needs_background": "light"
     },
     "output_type": "display_data"
    },
    {
     "name": "stdout",
     "output_type": "stream",
     "text": [
      "----- ----- ----- ----- user_10.png ----- ----- ----- -----\n"
     ]
    },
    {
     "data": {
      "image/png": "[encoded data removed]",
      "text/plain": [
       "<Figure size 432x288 with 1 Axes>"
      ]
     },
     "metadata": {
      "needs_background": "light"
     },
     "output_type": "display_data"
    },
    {
     "data": {
      "image/png": "[encoded data removed]",
      "text/plain": [
       "<Figure size 432x288 with 1 Axes>"
      ]
     },
     "metadata": {
      "needs_background": "light"
     },
     "output_type": "display_data"
    }
   ],
   "source": [
    "for index in range(1, 11):\n",
    "    folder_name, file_name = f'user_{index}', f'user_{index}.png'\n",
    "    image_filename = os.path.join('datasets', 'jabcode', folder_name, file_name)\n",
    "    # print(image_filename)\n",
    "    print(f'----- ----- ----- ----- {file_name} ----- ----- ----- -----')\n",
    "    image = cv2.imread(image_filename, cv2.IMREAD_GRAYSCALE)  # Load as grayscale image\n",
    "    image = cv2.resize(image, (256, 256))  # Resize if needed\n",
    "    image = np.reshape(image, (256, 256, 1))\n",
    "    image = np.expand_dims(image, axis=0)\n",
    "    image = image.astype(np.float32)\n",
    "    \n",
    "    save_dir = os.path.join('datasets', 'jabcode_exchange_XOR', folder_name)\n",
    "    if os.path.exists(save_dir) == False:\n",
    "        os.makedirs(save_dir)\n",
    "    \n",
    "    inp_img = np.reshape(image, (256, 256))\n",
    "    plt.imshow(inp_img, cmap='gray')\n",
    "    plt.axis('off')\n",
    "    plt.show()\n",
    "    \n",
    "    disc_op = discriminator.predict(image)\n",
    "    disc_op = np.reshape(disc_op, (256, 256))\n",
    "    plt.imshow(disc_op, cmap='gray')\n",
    "    plt.axis('off')\n",
    "    plt.savefig(os.path.join(save_dir, file_name), bbox_inches='tight', pad_inches=0)\n",
    "#     plt.imshow(image[0])\n",
    "    \n",
    "    plt.show()"
   ]
  },
  {
   "cell_type": "markdown",
   "id": "e94dd0b2",
   "metadata": {},
   "source": [
    "COSINE SIMILARITY"
   ]
  },
  {
   "cell_type": "code",
   "execution_count": 2,
   "id": "8916fd88",
   "metadata": {},
   "outputs": [],
   "source": [
    "def calculate_cosine_similarity(image1, image2):\n",
    "    # Flatten the images to 1D arrays\n",
    "    img1_vector = image1.flatten()\n",
    "    img2_vector = image2.flatten()\n",
    "    if np.array_equal(img1_vector, img2_vector):\n",
    "        print('equal vectors')\n",
    "    # Compute cosine similarity\n",
    "    dot_product = np.dot(img1_vector, img2_vector)\n",
    "    norm_img1 = np.linalg.norm(img1_vector, ord=2)\n",
    "    norm_img2 = np.linalg.norm(img2_vector, ord=2)\n",
    "    \n",
    "    similarity = dot_product / (norm_img1 * norm_img2)\n",
    "    return similarity"
   ]
  },
  {
   "cell_type": "code",
   "execution_count": 12,
   "id": "f7d5b70d",
   "metadata": {},
   "outputs": [],
   "source": [
    "img11 = os.path.join(os.getcwd(), 'datasets', 'jabcode_exchange_XOR', 'user_1', '1.png')\n",
    "img12 = os.path.join(os.getcwd(), 'datasets', 'jabcode_exchange_XOR', 'user_1', '2.png')\n",
    "\n",
    "img21 = os.path.join(os.getcwd(), 'datasets', 'jabcode_exchange_XOR', 'user_2', '1.png')\n",
    "img22 = os.path.join(os.getcwd(), 'datasets', 'jabcode_exchange_XOR', 'user_2', '2.png')\n",
    "\n",
    "img11 = cv2.imread(img11)\n",
    "img12 = cv2.imread(img12)\n",
    "img21 = cv2.imread(img21)\n",
    "img22 = cv2.imread(img22)"
   ]
  },
  {
   "cell_type": "code",
   "execution_count": 13,
   "id": "3fb2353e",
   "metadata": {},
   "outputs": [
    {
     "name": "stdout",
     "output_type": "stream",
     "text": [
      "equal vectors\n"
     ]
    },
    {
     "data": {
      "text/plain": [
       "1.3943908258565518e-08"
      ]
     },
     "execution_count": 13,
     "metadata": {},
     "output_type": "execute_result"
    }
   ],
   "source": [
    "calculate_cosine_similarity(img11, img12)"
   ]
  },
  {
   "cell_type": "code",
   "execution_count": 14,
   "id": "71b5e623",
   "metadata": {},
   "outputs": [
    {
     "name": "stdout",
     "output_type": "stream",
     "text": [
      "equal vectors\n"
     ]
    },
    {
     "data": {
      "text/plain": [
       "2.7141806572704937e-09"
      ]
     },
     "execution_count": 14,
     "metadata": {},
     "output_type": "execute_result"
    }
   ],
   "source": [
    "calculate_cosine_similarity(img22, img22)"
   ]
  },
  {
   "cell_type": "code",
   "execution_count": 15,
   "id": "3317ba09",
   "metadata": {},
   "outputs": [
    {
     "data": {
      "text/plain": [
       "5.502456620975966e-09"
      ]
     },
     "execution_count": 15,
     "metadata": {},
     "output_type": "execute_result"
    }
   ],
   "source": [
    "calculate_cosine_similarity(img11, img21)"
   ]
  },
  {
   "cell_type": "code",
   "execution_count": 16,
   "id": "ce5ee0b3",
   "metadata": {},
   "outputs": [
    {
     "data": {
      "text/plain": [
       "5.502456620975966e-09"
      ]
     },
     "execution_count": 16,
     "metadata": {},
     "output_type": "execute_result"
    }
   ],
   "source": [
    "calculate_cosine_similarity(img11, img22)"
   ]
  },
  {
   "cell_type": "code",
   "execution_count": 17,
   "id": "45c1fb20",
   "metadata": {},
   "outputs": [
    {
     "data": {
      "text/plain": [
       "5.502456620975966e-09"
      ]
     },
     "execution_count": 17,
     "metadata": {},
     "output_type": "execute_result"
    }
   ],
   "source": [
    "calculate_cosine_similarity(img12, img21)"
   ]
  },
  {
   "cell_type": "code",
   "execution_count": 18,
   "id": "93ccb244",
   "metadata": {},
   "outputs": [
    {
     "data": {
      "text/plain": [
       "5.502456620975966e-09"
      ]
     },
     "execution_count": 18,
     "metadata": {},
     "output_type": "execute_result"
    }
   ],
   "source": [
    "calculate_cosine_similarity(img12, img22)"
   ]
  },
  {
   "cell_type": "code",
   "execution_count": 145,
   "id": "a5b08be3",
   "metadata": {
    "scrolled": true
   },
   "outputs": [
    {
     "name": "stdout",
     "output_type": "stream",
     "text": [
      "equal vectors\n",
      "Cosine Similarity between the images user_1.png and user_1.png is 2.1907067154142726e-07\n",
      "Cosine Similarity between the images user_1.png and user_2.png is 9.973084647050451e-08\n",
      "Cosine Similarity between the images user_1.png and user_3.png is 5.734738176955671e-07\n",
      "Cosine Similarity between the images user_1.png and user_4.png is 1.2850042711074213e-06\n",
      "Cosine Similarity between the images user_1.png and user_5.png is 9.080944052010485e-07\n",
      "Cosine Similarity between the images user_1.png and user_6.png is 2.995768095252291e-06\n",
      "Cosine Similarity between the images user_1.png and user_7.png is 1.8781861537210577e-06\n",
      "Cosine Similarity between the images user_1.png and user_8.png is 8.022588223149031e-07\n",
      "Cosine Similarity between the images user_1.png and user_9.png is 1.8916634479779955e-07\n",
      "Cosine Similarity between the images user_1.png and user_10.png is 7.299536432018359e-07\n",
      "\n",
      "\n",
      "\n",
      "Cosine Similarity between the images user_2.png and user_1.png is 9.973084647050451e-08\n",
      "equal vectors\n",
      "Cosine Similarity between the images user_2.png and user_2.png is 1.2059900318893917e-08\n",
      "Cosine Similarity between the images user_2.png and user_3.png is 1.9296562288115897e-06\n",
      "Cosine Similarity between the images user_2.png and user_4.png is 6.464160257751892e-07\n",
      "Cosine Similarity between the images user_2.png and user_5.png is 1.7688448792601704e-06\n",
      "Cosine Similarity between the images user_2.png and user_6.png is 0.0\n",
      "Cosine Similarity between the images user_2.png and user_7.png is 8.509763045416297e-07\n",
      "Cosine Similarity between the images user_2.png and user_8.png is 9.239307376257426e-07\n",
      "Cosine Similarity between the images user_2.png and user_9.png is 2.805980503555476e-06\n",
      "Cosine Similarity between the images user_2.png and user_10.png is 1.7775603021077982e-06\n",
      "\n",
      "\n",
      "\n",
      "Cosine Similarity between the images user_3.png and user_1.png is 5.734738176955671e-07\n",
      "Cosine Similarity between the images user_3.png and user_2.png is 1.9296562288115897e-06\n",
      "equal vectors\n",
      "Cosine Similarity between the images user_3.png and user_3.png is 2.3880389065087828e-06\n",
      "Cosine Similarity between the images user_3.png and user_4.png is 1.3674696655551847e-07\n",
      "Cosine Similarity between the images user_3.png and user_5.png is 8.429039205138478e-07\n",
      "Cosine Similarity between the images user_3.png and user_6.png is 1.0485364580311728e-06\n",
      "Cosine Similarity between the images user_3.png and user_7.png is 1.5525148428099067e-06\n",
      "Cosine Similarity between the images user_3.png and user_8.png is 3.0552452522769038e-06\n",
      "Cosine Similarity between the images user_3.png and user_9.png is 2.73288323423571e-06\n",
      "Cosine Similarity between the images user_3.png and user_10.png is 3.5309025346654364e-07\n",
      "\n",
      "\n",
      "\n",
      "Cosine Similarity between the images user_4.png and user_1.png is 1.2850042711074213e-06\n",
      "Cosine Similarity between the images user_4.png and user_2.png is 6.464160257751892e-07\n",
      "Cosine Similarity between the images user_4.png and user_3.png is 1.3674696655551847e-07\n",
      "equal vectors\n",
      "Cosine Similarity between the images user_4.png and user_4.png is 2.5627357060148514e-08\n",
      "Cosine Similarity between the images user_4.png and user_5.png is 2.1781537670578166e-06\n",
      "Cosine Similarity between the images user_4.png and user_6.png is 1.1779153231738463e-06\n",
      "Cosine Similarity between the images user_4.png and user_7.png is 1.0075572359217634e-06\n",
      "Cosine Similarity between the images user_4.png and user_8.png is 1.8285451879826741e-06\n",
      "Cosine Similarity between the images user_4.png and user_9.png is 8.048257076841821e-07\n",
      "Cosine Similarity between the images user_4.png and user_10.png is 3.262946010481372e-07\n",
      "\n",
      "\n",
      "\n",
      "Cosine Similarity between the images user_5.png and user_1.png is 9.080944052010485e-07\n",
      "Cosine Similarity between the images user_5.png and user_2.png is 1.7688448792601704e-06\n",
      "Cosine Similarity between the images user_5.png and user_3.png is 8.429039205138478e-07\n",
      "Cosine Similarity between the images user_5.png and user_4.png is 2.1781537670578166e-06\n",
      "equal vectors\n",
      "Cosine Similarity between the images user_5.png and user_5.png is 1.5892863403176238e-06\n",
      "Cosine Similarity between the images user_5.png and user_6.png is 1.6815316592984704e-06\n",
      "Cosine Similarity between the images user_5.png and user_7.png is 1.6074366052725303e-06\n",
      "Cosine Similarity between the images user_5.png and user_8.png is 1.3217959359574553e-06\n",
      "Cosine Similarity between the images user_5.png and user_9.png is 2.9542801901077224e-06\n",
      "Cosine Similarity between the images user_5.png and user_10.png is 1.258405327073025e-06\n",
      "\n",
      "\n",
      "\n",
      "Cosine Similarity between the images user_6.png and user_1.png is 2.995768095252291e-06\n",
      "Cosine Similarity between the images user_6.png and user_2.png is 0.0\n",
      "Cosine Similarity between the images user_6.png and user_3.png is 1.0485364580311728e-06\n",
      "Cosine Similarity between the images user_6.png and user_4.png is 1.1779153231738463e-06\n",
      "Cosine Similarity between the images user_6.png and user_5.png is 1.6815316592984704e-06\n",
      "equal vectors\n",
      "Cosine Similarity between the images user_6.png and user_6.png is 5.523979872826935e-07\n",
      "Cosine Similarity between the images user_6.png and user_7.png is 9.99791223876756e-07\n",
      "Cosine Similarity between the images user_6.png and user_8.png is 2.767830904729839e-07\n",
      "Cosine Similarity between the images user_6.png and user_9.png is 3.0032460870630077e-06\n",
      "Cosine Similarity between the images user_6.png and user_10.png is 1.1536572167523883e-06\n",
      "\n",
      "\n",
      "\n",
      "Cosine Similarity between the images user_7.png and user_1.png is 1.8781861537210577e-06\n",
      "Cosine Similarity between the images user_7.png and user_2.png is 8.509763045416297e-07\n",
      "Cosine Similarity between the images user_7.png and user_3.png is 1.5525148428099067e-06\n",
      "Cosine Similarity between the images user_7.png and user_4.png is 1.0075572359217634e-06\n",
      "Cosine Similarity between the images user_7.png and user_5.png is 1.6074366052725303e-06\n",
      "Cosine Similarity between the images user_7.png and user_6.png is 9.99791223876756e-07\n",
      "equal vectors\n",
      "Cosine Similarity between the images user_7.png and user_7.png is 1.2610305771295043e-06\n",
      "Cosine Similarity between the images user_7.png and user_8.png is 2.3493632840304624e-06\n",
      "Cosine Similarity between the images user_7.png and user_9.png is 4.6532762277173495e-07\n",
      "Cosine Similarity between the images user_7.png and user_10.png is 2.925594003119345e-06\n",
      "\n",
      "\n",
      "\n",
      "Cosine Similarity between the images user_8.png and user_1.png is 8.022588223149031e-07\n",
      "Cosine Similarity between the images user_8.png and user_2.png is 9.239307376257426e-07\n",
      "Cosine Similarity between the images user_8.png and user_3.png is 3.0552452522769038e-06\n",
      "Cosine Similarity between the images user_8.png and user_4.png is 1.8285451879826741e-06\n",
      "Cosine Similarity between the images user_8.png and user_5.png is 1.3217959359574553e-06\n",
      "Cosine Similarity between the images user_8.png and user_6.png is 2.767830904729839e-07\n",
      "Cosine Similarity between the images user_8.png and user_7.png is 2.3493632840304624e-06\n",
      "equal vectors\n",
      "Cosine Similarity between the images user_8.png and user_8.png is 1.270966079815487e-06\n",
      "Cosine Similarity between the images user_8.png and user_9.png is 9.720438343006172e-07\n",
      "Cosine Similarity between the images user_8.png and user_10.png is 8.705705287250396e-08\n",
      "\n",
      "\n",
      "\n",
      "Cosine Similarity between the images user_9.png and user_1.png is 1.8916634479779955e-07\n",
      "Cosine Similarity between the images user_9.png and user_2.png is 2.805980503555476e-06\n",
      "Cosine Similarity between the images user_9.png and user_3.png is 2.73288323423571e-06\n",
      "Cosine Similarity between the images user_9.png and user_4.png is 8.048257076841821e-07\n",
      "Cosine Similarity between the images user_9.png and user_5.png is 2.9542801901077224e-06\n",
      "Cosine Similarity between the images user_9.png and user_6.png is 3.0032460870630077e-06\n",
      "Cosine Similarity between the images user_9.png and user_7.png is 4.6532762277173495e-07\n",
      "Cosine Similarity between the images user_9.png and user_8.png is 9.720438343006172e-07\n",
      "equal vectors\n",
      "Cosine Similarity between the images user_9.png and user_9.png is 3.0360227055992723e-06\n",
      "Cosine Similarity between the images user_9.png and user_10.png is 9.606809626296175e-07\n",
      "\n",
      "\n",
      "\n",
      "Cosine Similarity between the images user_10.png and user_1.png is 7.299536432018359e-07\n",
      "Cosine Similarity between the images user_10.png and user_2.png is 1.7775603021077982e-06\n"
     ]
    },
    {
     "name": "stdout",
     "output_type": "stream",
     "text": [
      "Cosine Similarity between the images user_10.png and user_3.png is 3.5309025346654364e-07\n",
      "Cosine Similarity between the images user_10.png and user_4.png is 3.262946010481372e-07\n",
      "Cosine Similarity between the images user_10.png and user_5.png is 1.258405327073025e-06\n",
      "Cosine Similarity between the images user_10.png and user_6.png is 1.1536572167523883e-06\n",
      "Cosine Similarity between the images user_10.png and user_7.png is 2.925594003119345e-06\n",
      "Cosine Similarity between the images user_10.png and user_8.png is 8.705705287250396e-08\n",
      "Cosine Similarity between the images user_10.png and user_9.png is 9.606809626296175e-07\n",
      "equal vectors\n",
      "Cosine Similarity between the images user_10.png and user_10.png is 1.2291340664462503e-07\n",
      "\n",
      "\n",
      "\n"
     ]
    }
   ],
   "source": [
    "# distance_metric = []\n",
    "\n",
    "for index_i in range(1, 11):\n",
    "    folder_name, file_name_i = f'user_{index_i}', f'user_{index_i}.png'\n",
    "    image_filename = os.path.join('datasets', 'jabcode_exchange_XOR', folder_name, file_name_i)\n",
    "    # print(image_filename)\n",
    "    \n",
    "    image_i = cv2.imread(image_filename, cv2.IMREAD_GRAYSCALE)  # Load as grayscale image\n",
    "    \n",
    "    for index_j in range(1, 11):\n",
    "        folder_name, file_name_j = f'user_{index_j}', f'user_{index_j}.png'\n",
    "        image_filename = os.path.join('datasets', 'jabcode_exchange_XOR', folder_name, file_name_j)\n",
    "        # print(image_filename)\n",
    "\n",
    "        image_j = cv2.imread(image_filename, cv2.IMREAD_GRAYSCALE)  # Load as grayscale image\n",
    "        similarity_score = calculate_cosine_similarity(image_i, image_j)\n",
    "        # similarity_score = 0.5 * (similarity_score + 1) # UNCOMMENT THIS TO GET NORMALIZED SCORE BETWEEN 0 AND 1\n",
    "        print(f'Cosine Similarity between the images {file_name_i} and {file_name_j} is {similarity_score}')\n",
    "        # distance_metric.append(similarity_score)\n",
    "\n",
    "#UNCOMMENT THIS FOR DISSIMILARITY\n",
    "#         if index_j != index_i:\n",
    "#             folder_name, file_name_j = f'user_{index_j}', f'user_{index_j}.png'\n",
    "#             image_filename = os.path.join('datasets', 'jabcode_exchange_XOR', folder_name, file_name_j)\n",
    "#             # print(image_filename)\n",
    "\n",
    "#             image_j = cv2.imread(image_filename, cv2.IMREAD_GRAYSCALE)  # Load as grayscale image\n",
    "#             similarity_score = calculate_cosine_similarity(image_i, image_j)\n",
    "#             # similarity_score = 0.5 * (similarity_score + 1) # UNCOMMENT THIS TO GET NORMALIZED SCORE BETWEEN 0 AND 1\n",
    "#             print(f'Cosine Similarity between the images {file_name_i} and {file_name_j} is {similarity_score}')\n",
    "#             # distance_metric.append(similarity_score)       \n",
    "    print('\\n\\n')"
   ]
  },
  {
   "cell_type": "markdown",
   "id": "4baaa138",
   "metadata": {},
   "source": [
    "SSIM"
   ]
  },
  {
   "cell_type": "code",
   "execution_count": 146,
   "id": "25c27fa3",
   "metadata": {},
   "outputs": [],
   "source": [
    "from skimage.metrics import structural_similarity as ssim\n",
    "\n",
    "def calculate_SSIM(image1, image2):\n",
    "    similarity_index, _ = ssim(image1, image2, full=True)\n",
    "    return similarity"
   ]
  },
  {
   "cell_type": "code",
   "execution_count": 147,
   "id": "18ff14c1",
   "metadata": {
    "scrolled": true
   },
   "outputs": [
    {
     "name": "stdout",
     "output_type": "stream",
     "text": [
      "SSIM between the images user_1.png and user_1.png is 9.606809626296175e-07\n",
      "SSIM between the images user_1.png and user_2.png is 9.606809626296175e-07\n",
      "SSIM between the images user_1.png and user_3.png is 9.606809626296175e-07\n",
      "SSIM between the images user_1.png and user_4.png is 9.606809626296175e-07\n",
      "SSIM between the images user_1.png and user_5.png is 9.606809626296175e-07\n",
      "SSIM between the images user_1.png and user_6.png is 9.606809626296175e-07\n",
      "SSIM between the images user_1.png and user_7.png is 9.606809626296175e-07\n",
      "SSIM between the images user_1.png and user_8.png is 9.606809626296175e-07\n",
      "SSIM between the images user_1.png and user_9.png is 9.606809626296175e-07\n",
      "SSIM between the images user_1.png and user_10.png is 9.606809626296175e-07\n",
      "\n",
      "\n",
      "\n",
      "SSIM between the images user_2.png and user_1.png is 9.606809626296175e-07\n",
      "SSIM between the images user_2.png and user_2.png is 9.606809626296175e-07\n",
      "SSIM between the images user_2.png and user_3.png is 9.606809626296175e-07\n",
      "SSIM between the images user_2.png and user_4.png is 9.606809626296175e-07\n",
      "SSIM between the images user_2.png and user_5.png is 9.606809626296175e-07\n",
      "SSIM between the images user_2.png and user_6.png is 9.606809626296175e-07\n",
      "SSIM between the images user_2.png and user_7.png is 9.606809626296175e-07\n",
      "SSIM between the images user_2.png and user_8.png is 9.606809626296175e-07\n",
      "SSIM between the images user_2.png and user_9.png is 9.606809626296175e-07\n",
      "SSIM between the images user_2.png and user_10.png is 9.606809626296175e-07\n",
      "\n",
      "\n",
      "\n",
      "SSIM between the images user_3.png and user_1.png is 9.606809626296175e-07\n",
      "SSIM between the images user_3.png and user_2.png is 9.606809626296175e-07\n",
      "SSIM between the images user_3.png and user_3.png is 9.606809626296175e-07\n",
      "SSIM between the images user_3.png and user_4.png is 9.606809626296175e-07\n",
      "SSIM between the images user_3.png and user_5.png is 9.606809626296175e-07\n",
      "SSIM between the images user_3.png and user_6.png is 9.606809626296175e-07\n",
      "SSIM between the images user_3.png and user_7.png is 9.606809626296175e-07\n",
      "SSIM between the images user_3.png and user_8.png is 9.606809626296175e-07\n",
      "SSIM between the images user_3.png and user_9.png is 9.606809626296175e-07\n",
      "SSIM between the images user_3.png and user_10.png is 9.606809626296175e-07\n",
      "\n",
      "\n",
      "\n",
      "SSIM between the images user_4.png and user_1.png is 9.606809626296175e-07\n",
      "SSIM between the images user_4.png and user_2.png is 9.606809626296175e-07\n",
      "SSIM between the images user_4.png and user_3.png is 9.606809626296175e-07\n",
      "SSIM between the images user_4.png and user_4.png is 9.606809626296175e-07\n",
      "SSIM between the images user_4.png and user_5.png is 9.606809626296175e-07\n",
      "SSIM between the images user_4.png and user_6.png is 9.606809626296175e-07\n",
      "SSIM between the images user_4.png and user_7.png is 9.606809626296175e-07\n",
      "SSIM between the images user_4.png and user_8.png is 9.606809626296175e-07\n",
      "SSIM between the images user_4.png and user_9.png is 9.606809626296175e-07\n",
      "SSIM between the images user_4.png and user_10.png is 9.606809626296175e-07\n",
      "\n",
      "\n",
      "\n",
      "SSIM between the images user_5.png and user_1.png is 9.606809626296175e-07\n",
      "SSIM between the images user_5.png and user_2.png is 9.606809626296175e-07\n",
      "SSIM between the images user_5.png and user_3.png is 9.606809626296175e-07\n",
      "SSIM between the images user_5.png and user_4.png is 9.606809626296175e-07\n",
      "SSIM between the images user_5.png and user_5.png is 9.606809626296175e-07\n",
      "SSIM between the images user_5.png and user_6.png is 9.606809626296175e-07\n",
      "SSIM between the images user_5.png and user_7.png is 9.606809626296175e-07\n",
      "SSIM between the images user_5.png and user_8.png is 9.606809626296175e-07\n",
      "SSIM between the images user_5.png and user_9.png is 9.606809626296175e-07\n",
      "SSIM between the images user_5.png and user_10.png is 9.606809626296175e-07\n",
      "\n",
      "\n",
      "\n",
      "SSIM between the images user_6.png and user_1.png is 9.606809626296175e-07\n",
      "SSIM between the images user_6.png and user_2.png is 9.606809626296175e-07\n",
      "SSIM between the images user_6.png and user_3.png is 9.606809626296175e-07\n",
      "SSIM between the images user_6.png and user_4.png is 9.606809626296175e-07\n",
      "SSIM between the images user_6.png and user_5.png is 9.606809626296175e-07\n",
      "SSIM between the images user_6.png and user_6.png is 9.606809626296175e-07\n",
      "SSIM between the images user_6.png and user_7.png is 9.606809626296175e-07\n",
      "SSIM between the images user_6.png and user_8.png is 9.606809626296175e-07\n",
      "SSIM between the images user_6.png and user_9.png is 9.606809626296175e-07\n",
      "SSIM between the images user_6.png and user_10.png is 9.606809626296175e-07\n",
      "\n",
      "\n",
      "\n",
      "SSIM between the images user_7.png and user_1.png is 9.606809626296175e-07\n",
      "SSIM between the images user_7.png and user_2.png is 9.606809626296175e-07\n",
      "SSIM between the images user_7.png and user_3.png is 9.606809626296175e-07\n",
      "SSIM between the images user_7.png and user_4.png is 9.606809626296175e-07\n",
      "SSIM between the images user_7.png and user_5.png is 9.606809626296175e-07\n",
      "SSIM between the images user_7.png and user_6.png is 9.606809626296175e-07\n",
      "SSIM between the images user_7.png and user_7.png is 9.606809626296175e-07\n",
      "SSIM between the images user_7.png and user_8.png is 9.606809626296175e-07\n",
      "SSIM between the images user_7.png and user_9.png is 9.606809626296175e-07\n",
      "SSIM between the images user_7.png and user_10.png is 9.606809626296175e-07\n",
      "\n",
      "\n",
      "\n",
      "SSIM between the images user_8.png and user_1.png is 9.606809626296175e-07\n",
      "SSIM between the images user_8.png and user_2.png is 9.606809626296175e-07\n",
      "SSIM between the images user_8.png and user_3.png is 9.606809626296175e-07\n",
      "SSIM between the images user_8.png and user_4.png is 9.606809626296175e-07\n",
      "SSIM between the images user_8.png and user_5.png is 9.606809626296175e-07\n",
      "SSIM between the images user_8.png and user_6.png is 9.606809626296175e-07\n",
      "SSIM between the images user_8.png and user_7.png is 9.606809626296175e-07\n",
      "SSIM between the images user_8.png and user_8.png is 9.606809626296175e-07\n",
      "SSIM between the images user_8.png and user_9.png is 9.606809626296175e-07\n",
      "SSIM between the images user_8.png and user_10.png is 9.606809626296175e-07\n",
      "\n",
      "\n",
      "\n",
      "SSIM between the images user_9.png and user_1.png is 9.606809626296175e-07\n",
      "SSIM between the images user_9.png and user_2.png is 9.606809626296175e-07\n",
      "SSIM between the images user_9.png and user_3.png is 9.606809626296175e-07\n",
      "SSIM between the images user_9.png and user_4.png is 9.606809626296175e-07\n",
      "SSIM between the images user_9.png and user_5.png is 9.606809626296175e-07\n",
      "SSIM between the images user_9.png and user_6.png is 9.606809626296175e-07\n",
      "SSIM between the images user_9.png and user_7.png is 9.606809626296175e-07\n",
      "SSIM between the images user_9.png and user_8.png is 9.606809626296175e-07\n",
      "SSIM between the images user_9.png and user_9.png is 9.606809626296175e-07\n",
      "SSIM between the images user_9.png and user_10.png is 9.606809626296175e-07\n",
      "\n",
      "\n",
      "\n",
      "SSIM between the images user_10.png and user_1.png is 9.606809626296175e-07\n",
      "SSIM between the images user_10.png and user_2.png is 9.606809626296175e-07\n",
      "SSIM between the images user_10.png and user_3.png is 9.606809626296175e-07\n",
      "SSIM between the images user_10.png and user_4.png is 9.606809626296175e-07\n",
      "SSIM between the images user_10.png and user_5.png is 9.606809626296175e-07\n",
      "SSIM between the images user_10.png and user_6.png is 9.606809626296175e-07\n",
      "SSIM between the images user_10.png and user_7.png is 9.606809626296175e-07\n",
      "SSIM between the images user_10.png and user_8.png is 9.606809626296175e-07\n",
      "SSIM between the images user_10.png and user_9.png is 9.606809626296175e-07\n",
      "SSIM between the images user_10.png and user_10.png is 9.606809626296175e-07\n",
      "\n",
      "\n",
      "\n"
     ]
    }
   ],
   "source": [
    "# distance_metric = []\n",
    "\n",
    "for index_i in range(1, 11):\n",
    "    folder_name, file_name_i = f'user_{index_i}', f'user_{index_i}.png'\n",
    "    image_filename = os.path.join('datasets', 'jabcode_exchange_XOR', folder_name, file_name_i)\n",
    "    # print(image_filename)\n",
    "    \n",
    "    image_i = cv2.imread(image_filename, cv2.IMREAD_GRAYSCALE)  # Load as grayscale image\n",
    "    \n",
    "    for index_j in range(1, 11):\n",
    "        folder_name, file_name_j = f'user_{index_j}', f'user_{index_j}.png'\n",
    "        image_filename = os.path.join('datasets', 'jabcode_exchange_XOR', folder_name, file_name_j)\n",
    "        # print(image_filename)\n",
    "\n",
    "        image_j = cv2.imread(image_filename, cv2.IMREAD_GRAYSCALE)  # Load as grayscale image\n",
    "        similarity_score = calculate_SSIM(image_i, image_j)\n",
    "        # similarity_score = 0.5 * (similarity_score + 1) # UNCOMMENT THIS TO GET NORMALIZED SCORE BETWEEN 0 AND 1\n",
    "        print(f'SSIM between the images {file_name_i} and {file_name_j} is {similarity_score}')\n",
    "        # distance_metric.append(similarity_score)\n",
    "\n",
    "# UNCOMMENT THIS FOR DISSIMILAIRITY\n",
    "#         if index_j != index_i:\n",
    "#             folder_name, file_name = f'user_{index_j}', f'user_{index_j}.png'\n",
    "#             image_filename = os.path.join('datasets', 'jabcode_exchange_XOR', folder_name, file_name)\n",
    "#             # print(image_filename)\n",
    "\n",
    "#             image_j = cv2.imread(image_filename, cv2.IMREAD_GRAYSCALE)  # Load as grayscale image\n",
    "#             similarity_score = calculate_SSIM(image_i, image_j)\n",
    "#             # similarity_score = 0.5 * (similarity_score + 1) # UNCOMMENT THIS TO GET NORMALIZED SCORE BETWEEN 0 AND 1\n",
    "#             # print(similarity)\n",
    "#             print(f'SSIM between the images user_{index_i}.png and user_{index_j}.png is {similarity_score}')\n",
    "#             # distance_metric.append(similarity_score)       \n",
    "    print('\\n\\n')"
   ]
  },
  {
   "cell_type": "markdown",
   "id": "fc317fa6",
   "metadata": {},
   "source": [
    "PIXELWISE"
   ]
  },
  {
   "cell_type": "code",
   "execution_count": 19,
   "id": "2e413e6d",
   "metadata": {},
   "outputs": [],
   "source": [
    "def compare_images_pixelwise(image1, image2):\n",
    "    # Check if the images have the same dimensions\n",
    "    if image1.shape == image2.shape:\n",
    "        # Compute pixel-wise difference\n",
    "        difference = cv2.absdiff(image1, image2)\n",
    "        \n",
    "        # Calculate the percentage of similarity (lower percentage means higher similarity)\n",
    "        similarity_percentage = (np.sum(difference) / (image1.size))\n",
    "        \n",
    "        # plt.imshow(difference)\n",
    "        # plt.show()\n",
    "        \n",
    "        return similarity_percentage\n",
    "    else:\n",
    "        return \"Images have different dimensions\""
   ]
  },
  {
   "cell_type": "code",
   "execution_count": 36,
   "id": "11ec19c2",
   "metadata": {},
   "outputs": [],
   "source": [
    "img11 = os.path.join(os.getcwd(), 'datasets', 'jabcode_exchange_replace', 'user_1', '1.png')\n",
    "img12 = os.path.join(os.getcwd(), 'datasets', 'jabcode_exchange_replace', 'user_1', '2.png')\n",
    "\n",
    "img21 = os.path.join(os.getcwd(), 'datasets', 'jabcode_exchange_replace', 'user_2', '1.png')\n",
    "img22 = os.path.join(os.getcwd(), 'datasets', 'jabcode_exchange_replace', 'user_2', '2.png')\n",
    "\n",
    "img11 = cv2.imread(img11)\n",
    "img12 = cv2.imread(img12)\n",
    "img21 = cv2.imread(img21)\n",
    "img22 = cv2.imread(img22)"
   ]
  },
  {
   "cell_type": "code",
   "execution_count": 37,
   "id": "d5d379b1",
   "metadata": {},
   "outputs": [
    {
     "data": {
      "text/plain": [
       "0.0"
      ]
     },
     "execution_count": 37,
     "metadata": {},
     "output_type": "execute_result"
    }
   ],
   "source": [
    "compare_images_pixelwise(img11, img12)"
   ]
  },
  {
   "cell_type": "code",
   "execution_count": 38,
   "id": "15b651bd",
   "metadata": {},
   "outputs": [
    {
     "data": {
      "text/plain": [
       "0.0"
      ]
     },
     "execution_count": 38,
     "metadata": {},
     "output_type": "execute_result"
    }
   ],
   "source": [
    "compare_images_pixelwise(img22, img22)"
   ]
  },
  {
   "cell_type": "code",
   "execution_count": 39,
   "id": "8d8537e3",
   "metadata": {},
   "outputs": [
    {
     "data": {
      "text/plain": [
       "37.4687158814143"
      ]
     },
     "execution_count": 39,
     "metadata": {},
     "output_type": "execute_result"
    }
   ],
   "source": [
    "compare_images_pixelwise(img11, img21)"
   ]
  },
  {
   "cell_type": "code",
   "execution_count": 40,
   "id": "1368f226",
   "metadata": {},
   "outputs": [
    {
     "data": {
      "text/plain": [
       "37.4687158814143"
      ]
     },
     "execution_count": 40,
     "metadata": {},
     "output_type": "execute_result"
    }
   ],
   "source": [
    "compare_images_pixelwise(img11, img22)"
   ]
  },
  {
   "cell_type": "code",
   "execution_count": 41,
   "id": "56c5b28a",
   "metadata": {},
   "outputs": [
    {
     "data": {
      "text/plain": [
       "37.4687158814143"
      ]
     },
     "execution_count": 41,
     "metadata": {},
     "output_type": "execute_result"
    }
   ],
   "source": [
    "compare_images_pixelwise(img12, img21)"
   ]
  },
  {
   "cell_type": "code",
   "execution_count": 42,
   "id": "359fc359",
   "metadata": {},
   "outputs": [
    {
     "data": {
      "text/plain": [
       "37.4687158814143"
      ]
     },
     "execution_count": 42,
     "metadata": {},
     "output_type": "execute_result"
    }
   ],
   "source": [
    "compare_images_pixelwise(img12, img22)"
   ]
  },
  {
   "cell_type": "code",
   "execution_count": 149,
   "id": "64910217",
   "metadata": {
    "scrolled": true
   },
   "outputs": [
    {
     "name": "stdout",
     "output_type": "stream",
     "text": [
      "Pixelwise Percentage between the images user_1.png and user_1.png is 0.0\n",
      "Pixelwise Percentage between the images user_1.png and user_2.png is 8.05423772006201\n",
      "Pixelwise Percentage between the images user_1.png and user_3.png is 7.052708700545775\n",
      "Pixelwise Percentage between the images user_1.png and user_4.png is 7.717534880757714\n",
      "Pixelwise Percentage between the images user_1.png and user_5.png is 7.712820403915988\n",
      "Pixelwise Percentage between the images user_1.png and user_6.png is 6.996602178852811\n",
      "Pixelwise Percentage between the images user_1.png and user_7.png is 8.32907897810529\n",
      "Pixelwise Percentage between the images user_1.png and user_8.png is 7.969844337318694\n",
      "Pixelwise Percentage between the images user_1.png and user_9.png is 7.545902440060312\n",
      "Pixelwise Percentage between the images user_1.png and user_10.png is 6.042451527957697\n",
      "\n",
      "\n",
      "\n",
      "Pixelwise Percentage between the images user_2.png and user_1.png is 8.05423772006201\n",
      "Pixelwise Percentage between the images user_2.png and user_2.png is 0.0\n",
      "Pixelwise Percentage between the images user_2.png and user_3.png is 6.940410711631166\n",
      "Pixelwise Percentage between the images user_2.png and user_4.png is 8.269935653762024\n",
      "Pixelwise Percentage between the images user_2.png and user_5.png is 7.48227823907919\n",
      "Pixelwise Percentage between the images user_2.png and user_6.png is 7.676761026991442\n",
      "Pixelwise Percentage between the images user_2.png and user_7.png is 8.438403873516108\n",
      "Pixelwise Percentage between the images user_2.png and user_8.png is 7.360615005627642\n",
      "Pixelwise Percentage between the images user_2.png and user_9.png is 7.491537301705281\n",
      "Pixelwise Percentage between the images user_2.png and user_10.png is 7.315275329694833\n",
      "\n",
      "\n",
      "\n",
      "Pixelwise Percentage between the images user_3.png and user_1.png is 7.052708700545775\n",
      "Pixelwise Percentage between the images user_3.png and user_2.png is 6.940410711631166\n",
      "Pixelwise Percentage between the images user_3.png and user_3.png is 0.0\n",
      "Pixelwise Percentage between the images user_3.png and user_4.png is 8.107668457601562\n",
      "Pixelwise Percentage between the images user_3.png and user_5.png is 7.422327932213468\n",
      "Pixelwise Percentage between the images user_3.png and user_6.png is 8.170188366709848\n",
      "Pixelwise Percentage between the images user_3.png and user_7.png is 8.696701989849009\n",
      "Pixelwise Percentage between the images user_3.png and user_8.png is 7.346832593599355\n",
      "Pixelwise Percentage between the images user_3.png and user_9.png is 7.714073350464015\n",
      "Pixelwise Percentage between the images user_3.png and user_10.png is 6.956401707405126\n",
      "\n",
      "\n",
      "\n",
      "Pixelwise Percentage between the images user_4.png and user_1.png is 7.717534880757714\n",
      "Pixelwise Percentage between the images user_4.png and user_2.png is 8.269935653762024\n",
      "Pixelwise Percentage between the images user_4.png and user_3.png is 8.107668457601562\n",
      "Pixelwise Percentage between the images user_4.png and user_4.png is 0.0\n",
      "Pixelwise Percentage between the images user_4.png and user_5.png is 6.965023678566119\n",
      "Pixelwise Percentage between the images user_4.png and user_6.png is 8.180551721208776\n",
      "Pixelwise Percentage between the images user_4.png and user_7.png is 6.775191658349083\n",
      "Pixelwise Percentage between the images user_4.png and user_8.png is 7.157021809764489\n",
      "Pixelwise Percentage between the images user_4.png and user_9.png is 7.745842978190235\n",
      "Pixelwise Percentage between the images user_4.png and user_10.png is 7.218458663382107\n",
      "\n",
      "\n",
      "\n",
      "Pixelwise Percentage between the images user_5.png and user_1.png is 7.712820403915988\n",
      "Pixelwise Percentage between the images user_5.png and user_2.png is 7.48227823907919\n",
      "Pixelwise Percentage between the images user_5.png and user_3.png is 7.422327932213468\n",
      "Pixelwise Percentage between the images user_5.png and user_4.png is 6.965023678566119\n",
      "Pixelwise Percentage between the images user_5.png and user_5.png is 0.0\n",
      "Pixelwise Percentage between the images user_5.png and user_6.png is 8.0320669370766\n",
      "Pixelwise Percentage between the images user_5.png and user_7.png is 8.235405296353713\n",
      "Pixelwise Percentage between the images user_5.png and user_8.png is 8.4502750111491\n",
      "Pixelwise Percentage between the images user_5.png and user_9.png is 8.036399159039266\n",
      "Pixelwise Percentage between the images user_5.png and user_10.png is 7.666121599524305\n",
      "\n",
      "\n",
      "\n",
      "Pixelwise Percentage between the images user_6.png and user_1.png is 6.996602178852811\n",
      "Pixelwise Percentage between the images user_6.png and user_2.png is 7.676761026991442\n",
      "Pixelwise Percentage between the images user_6.png and user_3.png is 8.170188366709848\n",
      "Pixelwise Percentage between the images user_6.png and user_4.png is 8.180551721208776\n",
      "Pixelwise Percentage between the images user_6.png and user_5.png is 8.0320669370766\n",
      "Pixelwise Percentage between the images user_6.png and user_6.png is 0.0\n",
      "Pixelwise Percentage between the images user_6.png and user_7.png is 9.379281785555014\n",
      "Pixelwise Percentage between the images user_6.png and user_8.png is 8.193144895835545\n",
      "Pixelwise Percentage between the images user_6.png and user_9.png is 8.027309987470534\n",
      "Pixelwise Percentage between the images user_6.png and user_10.png is 8.124912399923549\n",
      "\n",
      "\n",
      "\n",
      "Pixelwise Percentage between the images user_7.png and user_1.png is 8.32907897810529\n",
      "Pixelwise Percentage between the images user_7.png and user_2.png is 8.438403873516108\n",
      "Pixelwise Percentage between the images user_7.png and user_3.png is 8.696701989849009\n",
      "Pixelwise Percentage between the images user_7.png and user_4.png is 6.775191658349083\n",
      "Pixelwise Percentage between the images user_7.png and user_5.png is 8.235405296353713\n",
      "Pixelwise Percentage between the images user_7.png and user_6.png is 9.379281785555014\n",
      "Pixelwise Percentage between the images user_7.png and user_7.png is 0.0\n",
      "Pixelwise Percentage between the images user_7.png and user_8.png is 9.759476735543332\n",
      "Pixelwise Percentage between the images user_7.png and user_9.png is 7.9986196351589545\n",
      "Pixelwise Percentage between the images user_7.png and user_10.png is 8.693686423580878\n",
      "\n",
      "\n",
      "\n",
      "Pixelwise Percentage between the images user_8.png and user_1.png is 7.969844337318694\n",
      "Pixelwise Percentage between the images user_8.png and user_2.png is 7.360615005627642\n",
      "Pixelwise Percentage between the images user_8.png and user_3.png is 7.346832593599355\n",
      "Pixelwise Percentage between the images user_8.png and user_4.png is 7.157021809764489\n",
      "Pixelwise Percentage between the images user_8.png and user_5.png is 8.4502750111491\n",
      "Pixelwise Percentage between the images user_8.png and user_6.png is 8.193144895835545\n",
      "Pixelwise Percentage between the images user_8.png and user_7.png is 9.759476735543332\n",
      "Pixelwise Percentage between the images user_8.png and user_8.png is 0.0\n",
      "Pixelwise Percentage between the images user_8.png and user_9.png is 8.179213829132069\n",
      "Pixelwise Percentage between the images user_8.png and user_10.png is 6.552379536622141\n",
      "\n",
      "\n",
      "\n",
      "Pixelwise Percentage between the images user_9.png and user_1.png is 7.545902440060312\n",
      "Pixelwise Percentage between the images user_9.png and user_2.png is 7.491537301705281\n",
      "Pixelwise Percentage between the images user_9.png and user_3.png is 7.714073350464015\n",
      "Pixelwise Percentage between the images user_9.png and user_4.png is 7.745842978190235\n",
      "Pixelwise Percentage between the images user_9.png and user_5.png is 8.036399159039266\n",
      "Pixelwise Percentage between the images user_9.png and user_6.png is 8.027309987470534\n",
      "Pixelwise Percentage between the images user_9.png and user_7.png is 7.9986196351589545\n",
      "Pixelwise Percentage between the images user_9.png and user_8.png is 8.179213829132069\n",
      "Pixelwise Percentage between the images user_9.png and user_9.png is 0.0\n",
      "Pixelwise Percentage between the images user_9.png and user_10.png is 7.759009535135594\n",
      "\n",
      "\n",
      "\n",
      "Pixelwise Percentage between the images user_10.png and user_1.png is 6.042451527957697\n",
      "Pixelwise Percentage between the images user_10.png and user_2.png is 7.315275329694833\n",
      "Pixelwise Percentage between the images user_10.png and user_3.png is 6.956401707405126\n",
      "Pixelwise Percentage between the images user_10.png and user_4.png is 7.218458663382107\n",
      "Pixelwise Percentage between the images user_10.png and user_5.png is 7.666121599524305\n",
      "Pixelwise Percentage between the images user_10.png and user_6.png is 8.124912399923549\n",
      "Pixelwise Percentage between the images user_10.png and user_7.png is 8.693686423580878\n",
      "Pixelwise Percentage between the images user_10.png and user_8.png is 6.552379536622141\n",
      "Pixelwise Percentage between the images user_10.png and user_9.png is 7.759009535135594\n",
      "Pixelwise Percentage between the images user_10.png and user_10.png is 0.0\n",
      "\n",
      "\n",
      "\n"
     ]
    }
   ],
   "source": [
    "# distance_metric = []\n",
    "\n",
    "for index_i in range(1, 11):\n",
    "    folder_name, file_name_i = f'user_{index_i}', f'user_{index_i}.png'\n",
    "    image_filename = os.path.join('datasets', 'jabcode_exchange_XOR', folder_name, file_name_i)\n",
    "    # print(image_filename)\n",
    "    \n",
    "    image_i = cv2.imread(image_filename, cv2.IMREAD_GRAYSCALE)  # Load as grayscale image\n",
    "    \n",
    "    for index_j in range(1, 11):\n",
    "        folder_name, file_name_j = f'user_{index_j}', f'user_{index_j}.png'\n",
    "        image_filename = os.path.join('datasets', 'jabcode_exchange_XOR', folder_name, file_name_j)\n",
    "        # print(image_filename)\n",
    "\n",
    "        image_j = cv2.imread(image_filename, cv2.IMREAD_GRAYSCALE)  # Load as grayscale image\n",
    "        similarity_score = compare_images_pixelwise(image_i, image_j)\n",
    "        # similarity_score = 0.5 * (similarity_score + 1) # UNCOMMENT THIS TO GET NORMALIZED SCORE BETWEEN 0 AND 1\n",
    "        print(f'Pixelwise Percentage between the images {file_name_i} and {file_name_j} is {similarity_score}')\n",
    "        # distance_metric.append(similarity_score)\n",
    "\n",
    "# UNCOMMENT THIS FOR DISSIMILAIRITY\n",
    "#         if index_j != index_i:\n",
    "#             folder_name, file_name = f'user_{index_j}', f'user_{index_j}.png'\n",
    "#             image_filename = os.path.join('datasets', 'jabcode_exchange_XOR', folder_name, file_name)\n",
    "#             # print(image_filename)\n",
    "\n",
    "#             image_j = cv2.imread(image_filename, cv2.IMREAD_GRAYSCALE)  # Load as grayscale image\n",
    "#             similarity_score = compare_images_pixelwise(image_i, image_j)\n",
    "#             # similarity_score = 0.5 * (similarity_score + 1) # UNCOMMENT THIS TO GET NORMALIZED SCORE BETWEEN 0 AND 1\n",
    "#             # print(similarity)\n",
    "#             print(f'Pixelwise Percentage between the images user_{index_i}.png and user_{index_j}.png is {similarity_score}')\n",
    "#             # distance_metric.append(similarity_score)       \n",
    "    print('\\n\\n')"
   ]
  },
  {
   "cell_type": "markdown",
   "id": "cb970cef",
   "metadata": {},
   "source": [
    "Mean Square Error"
   ]
  },
  {
   "cell_type": "code",
   "execution_count": 28,
   "id": "911671f2",
   "metadata": {},
   "outputs": [],
   "source": [
    "def mse(image1, image2):\n",
    "    diff = cv2.subtract(image1, image2)\n",
    "    err = np.sum(diff**2)\n",
    "    mse = err/(float(image1.size))\n",
    "    return mse"
   ]
  },
  {
   "cell_type": "code",
   "execution_count": 43,
   "id": "54fdec43",
   "metadata": {},
   "outputs": [],
   "source": [
    "img11 = os.path.join(os.getcwd(), 'datasets', 'jabcode_exchange_replace', 'user_1', '1.png')\n",
    "img12 = os.path.join(os.getcwd(), 'datasets', 'jabcode_exchange_replace', 'user_1', '2.png')\n",
    "\n",
    "img21 = os.path.join(os.getcwd(), 'datasets', 'jabcode_exchange_replace', 'user_2', '1.png')\n",
    "img22 = os.path.join(os.getcwd(), 'datasets', 'jabcode_exchange_replace', 'user_2', '2.png')\n",
    "\n",
    "img11 = cv2.imread(img11)\n",
    "img12 = cv2.imread(img12)\n",
    "img21 = cv2.imread(img21)\n",
    "img22 = cv2.imread(img22)"
   ]
  },
  {
   "cell_type": "code",
   "execution_count": 44,
   "id": "34bf883e",
   "metadata": {},
   "outputs": [
    {
     "data": {
      "text/plain": [
       "0.0"
      ]
     },
     "execution_count": 44,
     "metadata": {},
     "output_type": "execute_result"
    }
   ],
   "source": [
    "mse(img11, img12)"
   ]
  },
  {
   "cell_type": "code",
   "execution_count": 45,
   "id": "e1104e64",
   "metadata": {},
   "outputs": [
    {
     "data": {
      "text/plain": [
       "0.0"
      ]
     },
     "execution_count": 45,
     "metadata": {},
     "output_type": "execute_result"
    }
   ],
   "source": [
    "mse(img22, img22)"
   ]
  },
  {
   "cell_type": "code",
   "execution_count": 46,
   "id": "fb178d27",
   "metadata": {},
   "outputs": [
    {
     "data": {
      "text/plain": [
       "2.4265558075081883"
      ]
     },
     "execution_count": 46,
     "metadata": {},
     "output_type": "execute_result"
    }
   ],
   "source": [
    "mse(img11, img21)"
   ]
  },
  {
   "cell_type": "code",
   "execution_count": 47,
   "id": "0da90f56",
   "metadata": {},
   "outputs": [
    {
     "data": {
      "text/plain": [
       "2.4265558075081883"
      ]
     },
     "execution_count": 47,
     "metadata": {},
     "output_type": "execute_result"
    }
   ],
   "source": [
    "mse(img11, img22)"
   ]
  },
  {
   "cell_type": "code",
   "execution_count": 48,
   "id": "f2bfe054",
   "metadata": {},
   "outputs": [
    {
     "data": {
      "text/plain": [
       "2.4265558075081883"
      ]
     },
     "execution_count": 48,
     "metadata": {},
     "output_type": "execute_result"
    }
   ],
   "source": [
    "mse(img12, img21)"
   ]
  },
  {
   "cell_type": "code",
   "execution_count": 49,
   "id": "89dda635",
   "metadata": {},
   "outputs": [
    {
     "data": {
      "text/plain": [
       "2.4265558075081883"
      ]
     },
     "execution_count": 49,
     "metadata": {},
     "output_type": "execute_result"
    }
   ],
   "source": [
    "mse(img12, img22)"
   ]
  },
  {
   "cell_type": "code",
   "execution_count": 50,
   "id": "d7e7cfc6",
   "metadata": {
    "scrolled": true
   },
   "outputs": [
    {
     "ename": "TypeError",
     "evalue": "unsupported operand type(s) for ** or pow(): 'NoneType' and 'int'",
     "output_type": "error",
     "traceback": [
      "\u001b[1;31m---------------------------------------------------------------------------\u001b[0m",
      "\u001b[1;31mTypeError\u001b[0m                                 Traceback (most recent call last)",
      "Cell \u001b[1;32mIn[50], line 16\u001b[0m\n\u001b[0;32m     13\u001b[0m \u001b[38;5;66;03m# print(image_filename)\u001b[39;00m\n\u001b[0;32m     15\u001b[0m image_j \u001b[38;5;241m=\u001b[39m cv2\u001b[38;5;241m.\u001b[39mimread(image_filename, cv2\u001b[38;5;241m.\u001b[39mIMREAD_GRAYSCALE)  \u001b[38;5;66;03m# Load as grayscale image\u001b[39;00m\n\u001b[1;32m---> 16\u001b[0m similarity_score \u001b[38;5;241m=\u001b[39m mse(image_i, image_j)\n\u001b[0;32m     17\u001b[0m \u001b[38;5;66;03m# similarity_score = 0.5 * (similarity_score + 1) # UNCOMMENT THIS TO GET NORMALIZED SCORE BETWEEN 0 AND 1\u001b[39;00m\n\u001b[0;32m     18\u001b[0m \u001b[38;5;28mprint\u001b[39m(\u001b[38;5;124mf\u001b[39m\u001b[38;5;124m'\u001b[39m\u001b[38;5;124mMSE between the images \u001b[39m\u001b[38;5;132;01m{\u001b[39;00mfile_name_i\u001b[38;5;132;01m}\u001b[39;00m\u001b[38;5;124m and \u001b[39m\u001b[38;5;132;01m{\u001b[39;00mfile_name_j\u001b[38;5;132;01m}\u001b[39;00m\u001b[38;5;124m is \u001b[39m\u001b[38;5;132;01m{\u001b[39;00msimilarity_score\u001b[38;5;132;01m}\u001b[39;00m\u001b[38;5;124m'\u001b[39m)\n",
      "Cell \u001b[1;32mIn[28], line 3\u001b[0m, in \u001b[0;36mmse\u001b[1;34m(image1, image2)\u001b[0m\n\u001b[0;32m      1\u001b[0m \u001b[38;5;28;01mdef\u001b[39;00m \u001b[38;5;21mmse\u001b[39m(image1, image2):\n\u001b[0;32m      2\u001b[0m     diff \u001b[38;5;241m=\u001b[39m cv2\u001b[38;5;241m.\u001b[39msubtract(image1, image2)\n\u001b[1;32m----> 3\u001b[0m     err \u001b[38;5;241m=\u001b[39m np\u001b[38;5;241m.\u001b[39msum(diff\u001b[38;5;241m*\u001b[39m\u001b[38;5;241m*\u001b[39m\u001b[38;5;241m2\u001b[39m)\n\u001b[0;32m      4\u001b[0m     mse \u001b[38;5;241m=\u001b[39m err\u001b[38;5;241m/\u001b[39m(\u001b[38;5;28mfloat\u001b[39m(image1\u001b[38;5;241m.\u001b[39msize))\n\u001b[0;32m      5\u001b[0m     \u001b[38;5;28;01mreturn\u001b[39;00m mse\n",
      "\u001b[1;31mTypeError\u001b[0m: unsupported operand type(s) for ** or pow(): 'NoneType' and 'int'"
     ]
    }
   ],
   "source": [
    "# distance_metric = []\n",
    "\n",
    "for index_i in range(1, 11):\n",
    "    folder_name, file_name_i = f'user_{index_i}', f'user_{index_i}.png'\n",
    "    image_filename = os.path.join('datasets', 'jabcode_exchange_XOR', folder_name, file_name_i)\n",
    "    # print(image_filename)\n",
    "    \n",
    "    image_i = cv2.imread(image_filename, cv2.IMREAD_GRAYSCALE)  # Load as grayscale image\n",
    "    \n",
    "    for index_j in range(1, 11):\n",
    "        folder_name, file_name_j = f'user_{index_j}', f'user_{index_j}.png'\n",
    "        image_filename = os.path.join('datasets', 'jabcode_exchange_XOR', folder_name, file_name_j)\n",
    "        # print(image_filename)\n",
    "\n",
    "        image_j = cv2.imread(image_filename, cv2.IMREAD_GRAYSCALE)  # Load as grayscale image\n",
    "        similarity_score = mse(image_i, image_j)\n",
    "        # similarity_score = 0.5 * (similarity_score + 1) # UNCOMMENT THIS TO GET NORMALIZED SCORE BETWEEN 0 AND 1\n",
    "        print(f'MSE between the images {file_name_i} and {file_name_j} is {similarity_score}')\n",
    "        # distance_metric.append(similarity_score)\n",
    "\n",
    "# UNCOMMENT THIS FOR DISSIMILAIRITY\n",
    "#         if index_j != index_i:\n",
    "#             folder_name, file_name = f'user_{index_j}', f'user_{index_j}.png'\n",
    "#             image_filename = os.path.join('datasets', 'jabcode_exchange_XOR', folder_name, file_name)\n",
    "#             # print(image_filename)\n",
    "\n",
    "#             image_j = cv2.imread(image_filename, cv2.IMREAD_GRAYSCALE)  # Load as grayscale image\n",
    "#             similarity_score = mse(image_i, image_j)\n",
    "#             # similarity_score = 0.5 * (similarity_score + 1) # UNCOMMENT THIS TO GET NORMALIZED SCORE BETWEEN 0 AND 1\n",
    "#             # print(similarity)\n",
    "#             print(f'MSE between the images user_{index_i}.png and user_{index_j}.png is {similarity_score}')\n",
    "#             # distance_metric.append(similarity_score)       \n",
    "    print('\\n\\n')"
   ]
  },
  {
   "cell_type": "markdown",
   "id": "4255388d",
   "metadata": {},
   "source": [
    "RMSE"
   ]
  },
  {
   "cell_type": "code",
   "execution_count": 152,
   "id": "b311f46d",
   "metadata": {},
   "outputs": [],
   "source": [
    "def rmse(image1, image2):\n",
    "    diff = cv2.subtract(image1, image2)\n",
    "    err = np.sum(diff**2)\n",
    "    mse = err/(float(image1.size))\n",
    "    rmse = np.sqrt(mse)\n",
    "    return rmse"
   ]
  },
  {
   "cell_type": "code",
   "execution_count": 153,
   "id": "b31568e3",
   "metadata": {
    "scrolled": true
   },
   "outputs": [
    {
     "name": "stdout",
     "output_type": "stream",
     "text": [
      "MSE between the images user_10.png and user_1.png is 0.0\n",
      "MSE between the images user_10.png and user_2.png is 2.187746460876454\n",
      "MSE between the images user_10.png and user_3.png is 2.0315369108267247\n",
      "MSE between the images user_10.png and user_4.png is 2.22589708910876\n",
      "MSE between the images user_10.png and user_5.png is 2.0133608382451174\n",
      "MSE between the images user_10.png and user_6.png is 2.1655063866829676\n",
      "MSE between the images user_10.png and user_7.png is 2.0811592569297654\n",
      "MSE between the images user_10.png and user_8.png is 2.227480264824645\n",
      "MSE between the images user_10.png and user_9.png is 2.142842277338061\n",
      "MSE between the images user_10.png and user_10.png is 1.9968651768508907\n",
      "\n",
      "\n",
      "\n",
      "MSE between the images user_10.png and user_1.png is 2.216426984636357\n",
      "MSE between the images user_10.png and user_2.png is 0.0\n",
      "MSE between the images user_10.png and user_3.png is 2.067070712136572\n",
      "MSE between the images user_10.png and user_4.png is 2.2180504303959867\n",
      "MSE between the images user_10.png and user_5.png is 2.019164272200345\n",
      "MSE between the images user_10.png and user_6.png is 2.0995929804605327\n",
      "MSE between the images user_10.png and user_7.png is 2.0655702131322418\n",
      "MSE between the images user_10.png and user_8.png is 2.214859878469662\n",
      "MSE between the images user_10.png and user_9.png is 2.105199056575831\n",
      "MSE between the images user_10.png and user_10.png is 2.054658824312549\n",
      "\n",
      "\n",
      "\n",
      "MSE between the images user_10.png and user_1.png is 2.072831345322053\n",
      "MSE between the images user_10.png and user_2.png is 2.030778900972913\n",
      "MSE between the images user_10.png and user_3.png is 0.0\n",
      "MSE between the images user_10.png and user_4.png is 2.153849216783712\n",
      "MSE between the images user_10.png and user_5.png is 2.03663176078771\n",
      "MSE between the images user_10.png and user_6.png is 2.0995676939999557\n",
      "MSE between the images user_10.png and user_7.png is 2.0588921092919783\n",
      "MSE between the images user_10.png and user_8.png is 2.1107248468353674\n",
      "MSE between the images user_10.png and user_9.png is 2.023261904999671\n",
      "MSE between the images user_10.png and user_10.png is 2.0314898701721016\n",
      "\n",
      "\n",
      "\n",
      "MSE between the images user_10.png and user_1.png is 2.119009063130353\n",
      "MSE between the images user_10.png and user_2.png is 2.0928407933157795\n",
      "MSE between the images user_10.png and user_3.png is 2.021109056813418\n",
      "MSE between the images user_10.png and user_4.png is 0.0\n",
      "MSE between the images user_10.png and user_5.png is 1.897834387281832\n",
      "MSE between the images user_10.png and user_6.png is 2.099254116583735\n",
      "MSE between the images user_10.png and user_7.png is 1.842205885733342\n",
      "MSE between the images user_10.png and user_8.png is 2.0692629760761094\n",
      "MSE between the images user_10.png and user_9.png is 2.0441151744971737\n",
      "MSE between the images user_10.png and user_10.png is 2.0383150591824943\n",
      "\n",
      "\n",
      "\n",
      "MSE between the images user_10.png and user_1.png is 2.352975716568072\n",
      "MSE between the images user_10.png and user_2.png is 2.288611216085512\n",
      "MSE between the images user_10.png and user_3.png is 2.238592806946901\n",
      "MSE between the images user_10.png and user_4.png is 2.263765961170752\n",
      "MSE between the images user_10.png and user_5.png is 0.0\n",
      "MSE between the images user_10.png and user_6.png is 2.2767262334211873\n",
      "MSE between the images user_10.png and user_7.png is 2.247369575271825\n",
      "MSE between the images user_10.png and user_8.png is 2.3857486006634803\n",
      "MSE between the images user_10.png and user_9.png is 2.3449928084851193\n",
      "MSE between the images user_10.png and user_10.png is 2.3030135458719254\n",
      "\n",
      "\n",
      "\n",
      "MSE between the images user_10.png and user_1.png is 2.1669817862173812\n",
      "MSE between the images user_10.png and user_2.png is 2.1839380150215395\n",
      "MSE between the images user_10.png and user_3.png is 2.208806284701843\n",
      "MSE between the images user_10.png and user_4.png is 2.2579939799008524\n",
      "MSE between the images user_10.png and user_5.png is 2.147292372528282\n",
      "MSE between the images user_10.png and user_6.png is 0.0\n",
      "MSE between the images user_10.png and user_7.png is 2.214778377797146\n",
      "MSE between the images user_10.png and user_8.png is 2.178797749651117\n",
      "MSE between the images user_10.png and user_9.png is 2.1995136330863145\n",
      "MSE between the images user_10.png and user_10.png is 2.243250569817703\n",
      "\n",
      "\n",
      "\n",
      "MSE between the images user_10.png and user_1.png is 2.3681749213500334\n",
      "MSE between the images user_10.png and user_2.png is 2.2881796946154824\n",
      "MSE between the images user_10.png and user_3.png is 2.3274718083323447\n",
      "MSE between the images user_10.png and user_4.png is 2.270856272325622\n",
      "MSE between the images user_10.png and user_5.png is 2.260414464226861\n",
      "MSE between the images user_10.png and user_6.png is 2.307803550982256\n",
      "MSE between the images user_10.png and user_7.png is 0.0\n",
      "MSE between the images user_10.png and user_8.png is 2.53042393626111\n",
      "MSE between the images user_10.png and user_9.png is 2.2111077383062447\n",
      "MSE between the images user_10.png and user_10.png is 2.3544328561672594\n",
      "\n",
      "\n",
      "\n",
      "MSE between the images user_10.png and user_1.png is 2.178939074175251\n",
      "MSE between the images user_10.png and user_2.png is 2.071704076858528\n",
      "MSE between the images user_10.png and user_3.png is 2.0733742649747646\n",
      "MSE between the images user_10.png and user_4.png is 2.1212327461436256\n",
      "MSE between the images user_10.png and user_5.png is 2.126926562578873\n",
      "MSE between the images user_10.png and user_6.png is 2.0713555243088257\n",
      "MSE between the images user_10.png and user_7.png is 2.1578583975150307\n",
      "MSE between the images user_10.png and user_8.png is 0.0\n",
      "MSE between the images user_10.png and user_9.png is 2.1121429967736813\n",
      "MSE between the images user_10.png and user_10.png is 2.002355850912482\n",
      "\n",
      "\n",
      "\n",
      "MSE between the images user_10.png and user_1.png is 2.2813014858275746\n",
      "MSE between the images user_10.png and user_2.png is 2.140745205737826\n",
      "MSE between the images user_10.png and user_3.png is 2.1934757762059536\n",
      "MSE between the images user_10.png and user_4.png is 2.317468406342149\n",
      "MSE between the images user_10.png and user_5.png is 2.2546762880375284\n",
      "MSE between the images user_10.png and user_6.png is 2.212346360088673\n",
      "MSE between the images user_10.png and user_7.png is 2.129087118011652\n",
      "MSE between the images user_10.png and user_8.png is 2.306026883279706\n",
      "MSE between the images user_10.png and user_9.png is 0.0\n",
      "MSE between the images user_10.png and user_10.png is 2.2656413837638367\n",
      "\n",
      "\n",
      "\n",
      "MSE between the images user_10.png and user_1.png is 1.944072451942288\n",
      "MSE between the images user_10.png and user_2.png is 2.026471169819817\n",
      "MSE between the images user_10.png and user_3.png is 1.972221021651738\n",
      "MSE between the images user_10.png and user_4.png is 2.0823680931282844\n",
      "MSE between the images user_10.png and user_5.png is 1.980033701208166\n",
      "MSE between the images user_10.png and user_6.png is 2.0956750043362193\n",
      "MSE between the images user_10.png and user_7.png is 2.0123321719974427\n",
      "MSE between the images user_10.png and user_8.png is 2.069617011557714\n",
      "MSE between the images user_10.png and user_9.png is 2.077896485510735\n",
      "MSE between the images user_10.png and user_10.png is 0.0\n",
      "\n",
      "\n",
      "\n"
     ]
    }
   ],
   "source": [
    "# distance_metric = []\n",
    "\n",
    "for index_i in range(1, 11):\n",
    "    folder_name, file_name = f'user_{index_i}', f'user_{index_i}.png'\n",
    "    image_filename = os.path.join('datasets', 'jabcode_exchange_XOR', folder_name, file_name)\n",
    "    # print(image_filename)\n",
    "    \n",
    "    image_i = cv2.imread(image_filename, cv2.IMREAD_GRAYSCALE)  # Load as grayscale image\n",
    "    \n",
    "    for index_j in range(1, 11):\n",
    "        folder_name, file_name_j = f'user_{index_j}', f'user_{index_j}.png'\n",
    "        image_filename = os.path.join('datasets', 'jabcode_exchange_XOR', folder_name, file_name_j)\n",
    "        # print(image_filename)\n",
    "\n",
    "        image_j = cv2.imread(image_filename, cv2.IMREAD_GRAYSCALE)  # Load as grayscale image\n",
    "        similarity_score = rmse(image_i, image_j)\n",
    "        # similarity_score = 0.5 * (similarity_score + 1) # UNCOMMENT THIS TO GET NORMALIZED SCORE BETWEEN 0 AND 1\n",
    "        print(f'MSE between the images {file_name_i} and {file_name_j} is {similarity_score}')\n",
    "        # distance_metric.append(similarity_score)\n",
    "\n",
    "# UNCOMMENT THIS FOR DISSIMILAIRITY\n",
    "#         if index_j != index_i:\n",
    "#             folder_name, file_name = f'user_{index_j}', f'user_{index_j}.png'\n",
    "#             image_filename = os.path.join('datasets', 'jabcode_exchange_XOR', folder_name, file_name)\n",
    "#             # print(image_filename)\n",
    "\n",
    "#             image_j = cv2.imread(image_filename, cv2.IMREAD_GRAYSCALE)  # Load as grayscale image\n",
    "#             similarity_score = rmse(image_i, image_j)\n",
    "#             # similarity_score = 0.5 * (similarity_score + 1) # UNCOMMENT THIS TO GET NORMALIZED SCORE BETWEEN 0 AND 1\n",
    "#             # print(similarity)\n",
    "#             print(f'MSE between the images user_{index_i}.png and user_{index_j}.png is {similarity_score}')\n",
    "#             # distance_metric.append(similarity_score)       \n",
    "    print('\\n\\n')"
   ]
  },
  {
   "cell_type": "code",
   "execution_count": null,
   "id": "8edeb0a7",
   "metadata": {},
   "outputs": [],
   "source": []
  }
 ],
 "metadata": {
  "kernelspec": {
   "display_name": "tensorflow_env",
   "language": "python",
   "name": "tensorflow_env"
  },
  "language_info": {
   "codemirror_mode": {
    "name": "ipython",
    "version": 3
   },
   "file_extension": ".py",
   "mimetype": "text/x-python",
   "name": "python",
   "nbconvert_exporter": "python",
   "pygments_lexer": "ipython3",
   "version": "3.11.2"
  }
 },
 "nbformat": 4,
 "nbformat_minor": 5
}
