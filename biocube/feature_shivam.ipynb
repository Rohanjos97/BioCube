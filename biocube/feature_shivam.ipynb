{
  "nbformat": 4,
  "nbformat_minor": 0,
  "metadata": {
    "colab": {
      "provenance": []
    },
    "kernelspec": {
      "name": "python3",
      "display_name": "Python 3"
    },
    "language_info": {
      "name": "python"
    }
  },
  "cells": [
    {
      "cell_type": "code",
      "execution_count": 47,
      "metadata": {
        "colab": {
          "base_uri": "https://localhost:8080/"
        },
        "id": "eljDmCZFu0e2",
        "outputId": "50747358-5bdd-459f-9aa4-724e21cf9814"
      },
      "outputs": [
        {
          "output_type": "stream",
          "name": "stdout",
          "text": [
            "Feature Vector: [  13.04399175   11.36779529   10.99303559 ... 4564.83682898 7295.51841398\n",
            " 7321.96945977]\n"
          ]
        }
      ],
      "source": [
        "import cv2\n",
        "import numpy as np\n",
        "from scipy.fftpack import fft2, ifft2\n",
        "from skimage import exposure\n",
        "import pywt\n",
        "\n",
        "def wavelet_transform(image):\n",
        "    # Apply wavelet transformation\n",
        "    coeffs = pywt.dwt2(image, 'bior1.3')\n",
        "    cA, (cH, cV, cD) = coeffs\n",
        "    return cA\n",
        "\n",
        "def fft_transform(image):\n",
        "    # Apply FFT transformation\n",
        "    fft_result = fft2(image)\n",
        "    return fft_result\n",
        "\n",
        "def log_prob_transform(image):\n",
        "    # Apply log probability transform\n",
        "    log_prob_result = np.log(1 + np.abs(image))\n",
        "    return log_prob_result\n",
        "\n",
        "def high_pass_filtering(image):\n",
        "    # Apply high-pass filtering\n",
        "    rows, cols = image.shape\n",
        "    crow, ccol = rows // 2, cols // 2\n",
        "\n",
        "    # Create a mask for high-pass filtering\n",
        "    mask = np.ones((rows, cols), np.uint8)\n",
        "    r = 30  # Adjust this parameter for the size of the high-pass filter\n",
        "    center = [crow, ccol]\n",
        "    x, y = np.ogrid[:rows, :cols]\n",
        "    mask_area = (x - center[0]) ** 2 + (y - center[1]) ** 2 <= r*r\n",
        "    mask[mask_area] = 0\n",
        "\n",
        "    # Apply high-pass filter\n",
        "    image_filtered = image * mask\n",
        "    return image_filtered\n",
        "\n",
        "# Load the finger vein image (replace 'your_image_path' with the actual path)\n",
        "finger_vein_image = cv2.imread('/content/001_L_1.png', cv2.IMREAD_GRAYSCALE)\n",
        "\n",
        "# Step 1: Apply wavelet transformation\n",
        "output1 = wavelet_transform(finger_vein_image)\n",
        "\n",
        "# Step 2: Apply FFT to output 1\n",
        "output2 = fft_transform(output1)\n",
        "\n",
        "# Step 3: Apply log probability transform on output 2\n",
        "output3 = log_prob_transform(output2)\n",
        "\n",
        "# Step 4: High-pass filtering on output 3\n",
        "output4 = high_pass_filtering(output3)\n",
        "\n",
        "# Step 5: Apply FFT to output 4\n",
        "output5 = fft_transform(output4)\n",
        "\n",
        "# Concatenate output 4 and output 5\n",
        "concatenated_output = np.concatenate((output4, np.abs(output5)), axis=None)\n",
        "\n",
        "# Extract feature vector from concatenated output\n",
        "feature_vector1 = concatenated_output.flatten()\n",
        "\n",
        "# Print or use the feature vector as needed\n",
        "print(\"Feature Vector:\", feature_vector1)\n"
      ]
    },
    {
      "cell_type": "code",
      "source": [
        "import cv2\n",
        "import numpy as np\n",
        "from scipy.fftpack import fft2, ifft2\n",
        "from skimage import exposure\n",
        "import pywt\n",
        "\n",
        "def wavelet_transform(image):\n",
        "    # Apply wavelet transformation\n",
        "    coeffs = pywt.dwt2(image, 'bior1.3')\n",
        "    cA, (cH, cV, cD) = coeffs\n",
        "    return cA\n",
        "\n",
        "def fft_transform(image):\n",
        "    # Apply FFT transformation\n",
        "    fft_result = fft2(image)\n",
        "    return fft_result\n",
        "\n",
        "def log_prob_transform(image):\n",
        "    # Apply log probability transform\n",
        "    log_prob_result = np.log(1 + np.abs(image))\n",
        "    return log_prob_result\n",
        "\n",
        "def high_pass_filtering(image):\n",
        "    # Apply high-pass filtering\n",
        "    rows, cols = image.shape\n",
        "    crow, ccol = rows // 2, cols // 2\n",
        "\n",
        "    # Create a mask for high-pass filtering\n",
        "    mask = np.ones((rows, cols), np.uint8)\n",
        "    r = 30  # Adjust this parameter for the size of the high-pass filter\n",
        "    center = [crow, ccol]\n",
        "    x, y = np.ogrid[:rows, :cols]\n",
        "    mask_area = (x - center[0]) ** 2 + (y - center[1]) ** 2 <= r*r\n",
        "    mask[mask_area] = 0\n",
        "\n",
        "    # Apply high-pass filter\n",
        "    image_filtered = image * mask\n",
        "    return image_filtered\n",
        "\n",
        "# Load the finger vein image (replace 'your_image_path' with the actual path)\n",
        "finger_vein_image = cv2.imread('/content/001_L_2.png', cv2.IMREAD_GRAYSCALE)\n",
        "\n",
        "# Step 1: Apply wavelet transformation\n",
        "output1 = wavelet_transform(finger_vein_image)\n",
        "\n",
        "# Step 2: Apply FFT to output 1\n",
        "output2 = fft_transform(output1)\n",
        "\n",
        "# Step 3: Apply log probability transform on output 2\n",
        "output3 = log_prob_transform(output2)\n",
        "\n",
        "# Step 4: High-pass filtering on output 3\n",
        "output4 = high_pass_filtering(output3)\n",
        "\n",
        "# Step 5: Apply FFT to output 4\n",
        "output5 = fft_transform(output4)\n",
        "\n",
        "# Concatenate output 4 and output 5\n",
        "concatenated_output = np.concatenate((output4, np.abs(output5)), axis=None)\n",
        "\n",
        "# Extract feature vector from concatenated output\n",
        "feature_vector2 = concatenated_output.flatten()\n",
        "\n",
        "# Print or use the feature vector as needed\n",
        "print(\"Feature Vector:\", feature_vector2)\n"
      ],
      "metadata": {
        "colab": {
          "base_uri": "https://localhost:8080/"
        },
        "id": "-R0QVS6dv9B5",
        "outputId": "cf4ab3b2-1a79-4017-ee79-70a1cc266a4e"
      },
      "execution_count": 48,
      "outputs": [
        {
          "output_type": "stream",
          "name": "stdout",
          "text": [
            "Feature Vector: [  13.0032273    11.20306054   11.34804125 ... 4927.88162812 7616.28283579\n",
            " 7217.86923476]\n"
          ]
        }
      ]
    },
    {
      "cell_type": "code",
      "source": [
        "def biohashing(Γ, M, m, k, τ):\n",
        "    # Step 1: Generate pseudo-random vectors {ri} based on user's seed k\n",
        "    np.random.seed(k)\n",
        "    r = np.random.rand(m, M)\n",
        "\n",
        "    # Step 2: Apply Gram-Schmidt process to transform r into an orthonormal set of matrices\n",
        "    r_orthogonal = np.array([r[0]])\n",
        "    for i in range(1, m):\n",
        "        ri = r[i]\n",
        "        for j in range(i):\n",
        "            ri -= np.dot(r[i], r_orthogonal[j]) * r_orthogonal[j]\n",
        "        ri /= np.linalg.norm(ri)\n",
        "        r_orthogonal = np.vstack([r_orthogonal, ri])\n",
        "\n",
        "    # Step 3: Compute ⟨Γ, r⊥i⟩ for each r⊥i\n",
        "    inner_products = np.dot(Γ, r_orthogonal.T)\n",
        "\n",
        "    # Step 4: Compute m bits BioHash {bi}\n",
        "    bi = []\n",
        "    for i in range(m):\n",
        "        if inner_products[i] <= τ:\n",
        "            bi.append(0)\n",
        "        else:\n",
        "            bi.append(1)\n",
        "\n",
        "    return bi\n",
        "\n",
        "# Example usage:\n",
        "Γ = feature_vector2.copy()\n",
        "M = len(Γ)\n",
        "m = 20# Replace with the desired length of the protected template\n",
        "k = 202211050 # Replace with the user's seed\n",
        "τ = 0.4  # Replace with the preset threshold\n",
        "\n",
        "protected_template = biohashing(Γ, M, m, k, τ)\n",
        "print(protected_template)\n",
        "\n",
        "\n",
        "\n"
      ],
      "metadata": {
        "colab": {
          "base_uri": "https://localhost:8080/"
        },
        "id": "FpbDlFEjwdSW",
        "outputId": "f0da8369-7b3c-41a6-a7d6-c922b2841167"
      },
      "execution_count": 49,
      "outputs": [
        {
          "output_type": "stream",
          "name": "stdout",
          "text": [
            "[1, 0, 0, 0, 0, 1, 0, 1, 0, 0, 0, 0, 0, 1, 1, 1, 1, 1, 0, 1]\n"
          ]
        }
      ]
    },
    {
      "cell_type": "code",
      "source": [
        "def biohashing(Γ, M, m, k, τ):\n",
        "    # Step 1: Generate pseudo-random vectors {ri} based on user's seed k\n",
        "    np.random.seed(k)\n",
        "    r = np.random.rand(m, M)\n",
        "\n",
        "    # Step 2: Apply Gram-Schmidt process to transform r into an orthonormal set of matrices\n",
        "    r_orthogonal = np.array([r[0]])\n",
        "    for i in range(1, m):\n",
        "        ri = r[i]\n",
        "        for j in range(i):\n",
        "            ri -= np.dot(r[i], r_orthogonal[j]) * r_orthogonal[j]\n",
        "        ri /= np.linalg.norm(ri)\n",
        "        r_orthogonal = np.vstack([r_orthogonal, ri])\n",
        "\n",
        "    # Step 3: Compute ⟨Γ, r⊥i⟩ for each r⊥i\n",
        "    inner_products = np.dot(Γ, r_orthogonal.T)\n",
        "\n",
        "    # Step 4: Compute m bits BioHash {bi}\n",
        "    bi = []\n",
        "    for i in range(m):\n",
        "        if inner_products[i] <= τ:\n",
        "            bi.append(0)\n",
        "        else:\n",
        "            bi.append(1)\n",
        "\n",
        "    return bi\n",
        "\n",
        "# Example usage:\n",
        "Γ = feature_vector1.copy()\n",
        "M = len(Γ)\n",
        "m = 20# Replace with the desired length of the protected template\n",
        "k = 202211050 # Replace with the user's seed\n",
        "τ = 0. # Replace with the preset threshold\n",
        "\n",
        "protected_template = biohashing(Γ, M, m, k, τ)\n",
        "print(protected_template)\n"
      ],
      "metadata": {
        "id": "56Q79FeyxGPP",
        "colab": {
          "base_uri": "https://localhost:8080/"
        },
        "outputId": "2f2c8b5b-792e-45c1-a038-639fe8188cc4"
      },
      "execution_count": 50,
      "outputs": [
        {
          "output_type": "stream",
          "name": "stdout",
          "text": [
            "[1, 0, 0, 0, 0, 1, 0, 1, 0, 0, 0, 0, 0, 1, 1, 1, 1, 1, 0, 1]\n"
          ]
        }
      ]
    },
    {
      "cell_type": "code",
      "source": [
        "def hamming_distance(list1, list2):\n",
        "    # Check if the lists have the same length\n",
        "    if len(list1) != len(list2):\n",
        "        raise ValueError(\"Input lists must have the same length\")\n",
        "\n",
        "    # Calculate the Hamming distance\n",
        "    distance = sum(el1 != el2 for el1, el2 in zip(list1, list2))\n",
        "\n",
        "    return distance\n",
        "\n",
        "# Example usage:\n",
        "list_a = [1, 0, 0, 0, 0, 1, 0, 1, 0, 0, 0, 0, 0, 1, 1, 1, 1, 1, 0, 1]\n",
        "\n",
        "\n",
        "list_b =[1, 0, 0, 0, 0, 1, 0, 1, 0, 0, 0, 0, 0, 1, 1, 1, 1, 1, 0, 1]\n",
        "\n",
        "\n",
        "distance = hamming_distance(list_a, list_b)\n",
        "print(f\"The Hamming distance is: {distance}\")\n"
      ],
      "metadata": {
        "colab": {
          "base_uri": "https://localhost:8080/"
        },
        "id": "M6KjoaBG3OH2",
        "outputId": "04cf18e9-427b-467f-b378-764adb4de13b"
      },
      "execution_count": 51,
      "outputs": [
        {
          "output_type": "stream",
          "name": "stdout",
          "text": [
            "The Hamming distance is: 0\n"
          ]
        }
      ]
    },
    {
      "cell_type": "code",
      "source": [],
      "metadata": {
        "id": "qiruK0Bd4Lv2"
      },
      "execution_count": null,
      "outputs": []
    }
  ]
}