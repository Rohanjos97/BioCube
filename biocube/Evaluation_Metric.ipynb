{
 "cells": [
  {
   "cell_type": "markdown",
   "id": "58fd329a",
   "metadata": {
    "colab_type": "text",
    "id": "view-in-github"
   },
   "source": [
    "<a href=\"https://colab.research.google.com/github/Rohanjos97/major_project/blob/CNN_for_ear_recognition/biocube/Evaluation_Metric.ipynb\" target=\"_parent\"><img src=\"https://colab.research.google.com/assets/colab-badge.svg\" alt=\"Open In Colab\"/></a>"
   ]
  },
  {
   "cell_type": "code",
   "execution_count": 25,
   "id": "3c30d3a9",
   "metadata": {
    "id": "3c30d3a9"
   },
   "outputs": [
    {
     "name": "stderr",
     "output_type": "stream",
     "text": [
      "/var/folders/66/tyvn43rs4_q5ty7s6l_dlzy40000gn/T/ipykernel_91621/3739439451.py:12: MatplotlibDeprecationWarning: Auto-close()ing of figures upon backend switching is deprecated since 3.8 and will be removed two minor releases later.  To suppress this warning, explicitly call plt.close('all') first.\n",
      "  matplotlib.use('TkAgg')\n"
     ]
    }
   ],
   "source": [
    "import os\n",
    "import numpy as np\n",
    "import cv2\n",
    "import matplotlib.pyplot as plt\n",
    "import matplotlib\n",
    "import seaborn as sns\n",
    "\n",
    "from skimage.metrics import structural_similarity as ssim\n",
    "from sklearn.metrics import roc_curve, auc\n",
    "\n",
    "import numpy\n",
    "matplotlib.use('TkAgg')\n",
    "import pylab"
   ]
  },
  {
   "cell_type": "code",
   "execution_count": 14,
   "id": "9725e5ca",
   "metadata": {
    "id": "9725e5ca"
   },
   "outputs": [],
   "source": [
    "dataset_path = os.path.join(os.getcwd(), 'PRP_with_ICT')"
   ]
  },
  {
   "cell_type": "code",
   "execution_count": 15,
   "id": "696a6941",
   "metadata": {
    "id": "696a6941"
   },
   "outputs": [],
   "source": [
    "def compare_images_pixelwise(image1, image2):\n",
    "    image1, image2 = cv2.imread(image1), cv2.imread(image2)\n",
    "#     plt.imshow(image1)\n",
    "#     plt.show()\n",
    "#     plt.imshow(image2)\n",
    "#     plt.show()\n",
    "\n",
    "    # Check if the images have the same dimensions\n",
    "    if image1.shape == image2.shape:\n",
    "        # Compute pixel-wise difference\n",
    "        difference = cv2.absdiff(image1, image2)\n",
    "\n",
    "        # Calculate the percentage of similarity (lower percentage means higher similarity)\n",
    "        similarity_percentage = (np.sum(difference) / (image1.size))\n",
    "\n",
    "        # plt.imshow(difference)\n",
    "        # plt.show()\n",
    "\n",
    "        return similarity_percentage\n",
    "    else:\n",
    "        return \"Images have different dimensions\"\n",
    "\n",
    "def compare_images_correlation(image1, image2):\n",
    "    image1, image2 = cv2.imread(image1), cv2.imread(image2)\n",
    "#     plt.imshow(image1)\n",
    "#     plt.show()\n",
    "#     plt.imshow(image2)\n",
    "#     plt.show()\n",
    "\n",
    "    # Check if the images have the same dimensions\n",
    "    if image1.shape == image2.shape:\n",
    "\n",
    "        correlation = np.corrcoef(image1.flatten(), image2.flatten())[0, 1]\n",
    "        return correlation\n",
    "    else:\n",
    "        return \"Images have different dimensions\"\n",
    "\n",
    "def compare_images_ssim(image1, image2):\n",
    "    image1, image2 = cv2.imread(image1), cv2.imread(image2)\n",
    "\n",
    "#     # Convert images to grayscale if necessary\n",
    "#     if img1.shape[-1] == 3:\n",
    "#         img1 = color.rgb2gray(img1)\n",
    "#         img2 = color.rgb2gray(img2)\n",
    "\n",
    "    # Calculate Structural Similarity Index (SSI)\n",
    "    similarity_index, _ = ssim(image1, image2, channel_axis=-1, full=True)\n",
    "    return similarity_index\n",
    "\n",
    "def compare_images_mse(image1, image2):\n",
    "    image1, image2 = cv2.imread(image1), cv2.imread(image2)\n",
    "#     plt.imshow(image1)\n",
    "#     plt.show()\n",
    "#     plt.imshow(image2)\n",
    "#     plt.show()\n",
    "\n",
    "    diff = cv2.subtract(image1, image2)\n",
    "    err = np.sum(diff**2)\n",
    "    mse = err/(float(image1.size))\n",
    "    return mse"
   ]
  },
  {
   "cell_type": "code",
   "execution_count": 16,
   "id": "5ff7afdf",
   "metadata": {
    "id": "5ff7afdf"
   },
   "outputs": [],
   "source": [
    "def calculate_scores(dataset_path, score_type='pixelwise'):\n",
    "    genuine_scores = []\n",
    "    impostor_scores = []\n",
    "\n",
    "    folders = os.listdir(dataset_path)\n",
    "    for folder1 in folders:\n",
    "        folder1_path = os.path.join(dataset_path, folder1)\n",
    "        # print(folder1_path)\n",
    "        for folder2 in folders:\n",
    "            folder2_path = os.path.join(dataset_path, folder2)\n",
    "            # print(folder2_path)\n",
    "            for file1 in os.listdir(folder1_path):\n",
    "                if file1.endswith('.png'):\n",
    "                    img1_path = os.path.join(folder1_path, file1)\n",
    "                    for file2 in os.listdir(folder2_path):\n",
    "                        if file2.endswith('.png'):\n",
    "                            img2_path = os.path.join(folder2_path, file2)\n",
    "\n",
    "                            # Calculate similarity score\n",
    "                            if score_type == 'pixelwise':\n",
    "                                similarity_score = compare_images_pixelwise(img1_path, img2_path)\n",
    "                            elif score_type == 'correlation':\n",
    "                                similarity_score = compare_images_correlation(img1_path, img2_path)\n",
    "                            elif score_type =='mse':\n",
    "                                similarity_score = compare_images_mse(img1_path, img2_path)\n",
    "                            elif score_type == 'ssim':\n",
    "                                similarity_score = compare_images_ssim(img1_path, img2_path)\n",
    "#                             print(similarity_score)\n",
    "#                 break\n",
    "#             break\n",
    "#         break\n",
    "                            if folder1 == folder2:\n",
    "                                genuine_scores.append(similarity_score)\n",
    "                            else:\n",
    "                                impostor_scores.append(similarity_score)\n",
    "\n",
    "    return genuine_scores, impostor_scores\n",
    "\n",
    "def calculate_unlinkability_mated_score(dataset_path, keys, score_type='correlation', total_users= 220):\n",
    "    mated_scores = []\n",
    "\n",
    "    for key_folder in range(1, keys+1):\n",
    "        key1 = f'k{key_folder}'\n",
    "        key1_path = os.path.join(dataset_path, key1)\n",
    "        # print(key1_path) # PRP_with_ICT/k1\n",
    "\n",
    "        for users in range(1, total_users+1):\n",
    "            user = f'user_{users}'\n",
    "            # print(user) # user_1\n",
    "            user_path = os.path.join(key1_path, user)\n",
    "\n",
    "            # print(user_path) # PRP_with_ICT/k1/user_\n",
    "            \n",
    "            # for file1 in os.listdir(users_path):\n",
    "            #     print(file1)\n",
    "            img1_path = os.path.join(user_path, '1.png')\n",
    "            # print(img1_path) # PRP_with_ICT/k1/user_1/1.png\n",
    "            # GOT THE FIRST IMAGE FOR COMPARISON\n",
    "\n",
    "            # FIND THE SECOND IMAGE TO COMPARE\n",
    "            other_keys = list(range(key_folder+1, keys+1))\n",
    "            for key2_folder in other_keys:\n",
    "                other_key = f'k{key2_folder}'\n",
    "                img2_path = os.path.join(dataset_path, other_key, user, '1.png')\n",
    "                # print(img2_path)\n",
    "\n",
    "                # Calculate similarity score\n",
    "                if score_type == 'pixelwise':\n",
    "                    mated_score = compare_images_pixelwise(img1_path, img2_path)\n",
    "                elif score_type == 'correlation':\n",
    "                    mated_score = compare_images_correlation(img1_path, img2_path)\n",
    "                elif score_type =='mse':\n",
    "                    mated_score = compare_images_mse(img1_path, img2_path)\n",
    "                elif score_type == 'ssim':\n",
    "                    mated_score = compare_images_ssim(img1_path, img2_path)\n",
    "                # print(mated_score)\n",
    "                mated_scores.append(mated_score)\n",
    "    return mated_scores\n",
    "\n",
    "def calculate_unlinkability_non_mated_score(dataset_path, keys, score_type='correlation', total_users= 220):\n",
    "    non_mated_scores = []\n",
    "\n",
    "    for key_folder in range(1, keys+1):\n",
    "        key1 = f'k{key_folder}'\n",
    "        key1_path = os.path.join(dataset_path, key1)\n",
    "        # print(key1_path) # PRP_with_ICT/k1\n",
    "\n",
    "        for users in range(1, total_users+1):\n",
    "            user = f'user_{users}'\n",
    "            # print(user) # user_1\n",
    "            user_path = os.path.join(key1_path, user)\n",
    "\n",
    "            # print(user_path) # PRP_with_ICT/k1/user_\n",
    "            \n",
    "            # for file1 in os.listdir(users_path):\n",
    "            #     print(file1)\n",
    "            img1_path = os.path.join(user_path, '1.png')\n",
    "            # print(img1_path) # PRP_with_ICT/k1/user_1/1.png\n",
    "            # GOT THE FIRST IMAGE FOR COMPARISON\n",
    "\n",
    "            # FIND THE SECOND IMAGE TO COMPARE\n",
    "            other_users = list(range(users+1, total_users+1))\n",
    "            for other_user in other_users:\n",
    "                user2 = f'user_{other_user}'\n",
    "                if user == other_user:\n",
    "                    continue\n",
    "                other_keys = list(range(key_folder+1, keys+1))\n",
    "                for key2_folder in other_keys:\n",
    "                    other_key = f'k{key2_folder}'\n",
    "                    img2_path = os.path.join(dataset_path, other_key, user2, '1.png')\n",
    "                    # print(img2_path)\n",
    "\n",
    "                # Calculate similarity score\n",
    "                if score_type == 'pixelwise':\n",
    "                    non_mated_score = compare_images_pixelwise(img1_path, img2_path)\n",
    "                elif score_type == 'correlation':\n",
    "                    non_mated_score = compare_images_correlation(img1_path, img2_path)\n",
    "                elif score_type =='mse':\n",
    "                    non_mated_score = compare_images_mse(img1_path, img2_path)\n",
    "                elif score_type == 'ssim':\n",
    "                    non_mated_score = compare_images_ssim(img1_path, img2_path)\n",
    "                # print(non_mated_score)\n",
    "                non_mated_scores.append(non_mated_score)\n",
    "    return non_mated_scores"
   ]
  },
  {
   "cell_type": "code",
   "execution_count": 10,
   "id": "89e15039-f1a7-4058-aa5b-6ba408702265",
   "metadata": {},
   "outputs": [],
   "source": [
    "# Calculated mated and non-mated score for unlinkability analysis\n",
    "\n",
    "mated_score = calculate_unlinkability_mated_score(dataset_path, keys=6)\n",
    "non_mated_score = calculate_unlinkability_non_mated_score(dataset_path, keys=6)\n",
    "mated_score_ssim = calculate_unlinkability_mated_score(dataset_path, keys=6, score_type='ssim')\n",
    "non_mated_score_ssim = calculate_unlinkability_non_mated_score(dataset_path, keys=6, score_type='ssim')\n",
    "\n",
    "# Save the results in a textfile\n",
    "with open('mated_corr.txt', 'w') as file:\n",
    "    for item in mated_score:\n",
    "        file.write(str(item) + '\\n')\n",
    "\n",
    "with open('non_mated_corr.txt', 'w') as file:\n",
    "    for item in non_mated_score:\n",
    "        file.write(str(item) + '\\n')\n",
    "\n",
    "with open('mated_ssim.txt', 'w') as file:\n",
    "    for item in mated_score_ssim:\n",
    "        file.write(str(item) + '\\n')\n",
    "\n",
    "with open('non_corr_ssim.txt', 'w') as file:\n",
    "    for item in non_mated_score_ssim:\n",
    "        file.write(str(item) + '\\n')"
   ]
  },
  {
   "cell_type": "code",
   "execution_count": 12,
   "id": "7945a86d-93ed-475e-a25e-593e0935f776",
   "metadata": {},
   "outputs": [
    {
     "data": {
      "image/png": "[encoded data removed]",
      "text/plain": [
       "<Figure size 640x480 with 1 Axes>"
      ]
     },
     "metadata": {},
     "output_type": "display_data"
    },
    {
     "data": {
      "image/png": "[encoded data removed]",
      "text/plain": [
       "<Figure size 640x480 with 1 Axes>"
      ]
     },
     "metadata": {},
     "output_type": "display_data"
    },
    {
     "data": {
      "image/png": "[encoded data removed]",
      "text/plain": [
       "<Figure size 640x480 with 1 Axes>"
      ]
     },
     "metadata": {},
     "output_type": "display_data"
    },
    {
     "data": {
      "image/png": "[encoded data removed]",
      "text/plain": [
       "<Figure size 640x480 with 1 Axes>"
      ]
     },
     "metadata": {},
     "output_type": "display_data"
    }
   ],
   "source": [
    "sns.histplot(mated_score, color='blue', label='Genuine Scores', bins=50, kde=True, stat='probability', fill=False)\n",
    "plt.show()\n",
    "sns.histplot(non_mated_score, color='red', label='Impostor Scores', bins=50, kde=True, stat='probability', fill=False)\n",
    "plt.show()\n",
    "sns.histplot(mated_score_ssim, color='blue', label='Genuine Scores', bins=50, kde=True, stat='probability', fill=False)\n",
    "plt.show()\n",
    "sns.histplot(non_mated_score_ssim, color='red', label='Impostor Scores', bins=50, kde=True, stat='probability', fill=False)\n",
    "plt.show()"
   ]
  },
  {
   "cell_type": "code",
   "execution_count": 25,
   "id": "d4ed328f-7313-41e0-8a9c-ca32988c8eac",
   "metadata": {},
   "outputs": [
    {
     "name": "stderr",
     "output_type": "stream",
     "text": [
      "<>:47: SyntaxWarning: invalid escape sequence '\\m'\n",
      "<>:62: SyntaxWarning: invalid escape sequence '\\m'\n",
      "<>:71: SyntaxWarning: invalid escape sequence '\\m'\n",
      "<>:47: SyntaxWarning: invalid escape sequence '\\m'\n",
      "<>:62: SyntaxWarning: invalid escape sequence '\\m'\n",
      "<>:71: SyntaxWarning: invalid escape sequence '\\m'\n",
      "/var/folders/66/tyvn43rs4_q5ty7s6l_dlzy40000gn/T/ipykernel_55328/3428340334.py:47: SyntaxWarning: invalid escape sequence '\\m'\n",
      "  lns3, = ax2.plot(bin_centers, D, label='$\\mathrm{D}_{\\leftrightarrow}(s)$', color=sns.xkcd_rgb[\"denim blue\"],linewidth=5)\n",
      "/var/folders/66/tyvn43rs4_q5ty7s6l_dlzy40000gn/T/ipykernel_55328/3428340334.py:62: SyntaxWarning: invalid escape sequence '\\m'\n",
      "  ax.set_title(\"%s, $\\mathrm{D}_{\\leftrightarrow}^{\\mathit{sys}}$ = %.2f\" % (figureTitle, Dsys),  y = 1.02)\n",
      "/var/folders/66/tyvn43rs4_q5ty7s6l_dlzy40000gn/T/ipykernel_55328/3428340334.py:71: SyntaxWarning: invalid escape sequence '\\m'\n",
      "  ax2.set_ylabel(\"$\\mathrm{D}_{\\leftrightarrow}(s)$\")\n",
      "/var/folders/66/tyvn43rs4_q5ty7s6l_dlzy40000gn/T/ipykernel_55328/3428340334.py:41: FutureWarning: \n",
      "\n",
      "`shade` is now deprecated in favor of `fill`; setting `fill=False`.\n",
      "This will become an error in seaborn v0.14.0; please update your code.\n",
      "\n",
      "  ax = sns.kdeplot(matedScores, shade=False, label='Mated', color=sns.xkcd_rgb[\"medium green\"])\n",
      "/var/folders/66/tyvn43rs4_q5ty7s6l_dlzy40000gn/T/ipykernel_55328/3428340334.py:43: FutureWarning: \n",
      "\n",
      "`shade` is now deprecated in favor of `fill`; setting `fill=False`.\n",
      "This will become an error in seaborn v0.14.0; please update your code.\n",
      "\n",
      "  ax = sns.kdeplot(nonMatedScores, shade=False, label='Non-Mated', color=sns.xkcd_rgb[\"pale red\"],linewidth=5, linestyle='--')\n"
     ]
    },
    {
     "name": "stdout",
     "output_type": "stream",
     "text": [
      "0.037524954138452665\n",
      "0.0\n"
     ]
    },
    {
     "name": "stderr",
     "output_type": "stream",
     "text": [
      "/var/folders/66/tyvn43rs4_q5ty7s6l_dlzy40000gn/T/ipykernel_55328/3428340334.py:41: FutureWarning: \n",
      "\n",
      "`shade` is now deprecated in favor of `fill`; setting `fill=False`.\n",
      "This will become an error in seaborn v0.14.0; please update your code.\n",
      "\n",
      "  ax = sns.kdeplot(matedScores, shade=False, label='Mated', color=sns.xkcd_rgb[\"medium green\"])\n",
      "/var/folders/66/tyvn43rs4_q5ty7s6l_dlzy40000gn/T/ipykernel_55328/3428340334.py:43: FutureWarning: \n",
      "\n",
      "`shade` is now deprecated in favor of `fill`; setting `fill=False`.\n",
      "This will become an error in seaborn v0.14.0; please update your code.\n",
      "\n",
      "  ax = sns.kdeplot(nonMatedScores, shade=False, label='Non-Mated', color=sns.xkcd_rgb[\"pale red\"],linewidth=5, linestyle='--')\n"
     ]
    },
    {
     "name": "stdout",
     "output_type": "stream",
     "text": [
      "0.838502670979875\n"
     ]
    },
    {
     "name": "stderr",
     "output_type": "stream",
     "text": [
      "/var/folders/66/tyvn43rs4_q5ty7s6l_dlzy40000gn/T/ipykernel_55328/3428340334.py:41: FutureWarning: \n",
      "\n",
      "`shade` is now deprecated in favor of `fill`; setting `fill=False`.\n",
      "This will become an error in seaborn v0.14.0; please update your code.\n",
      "\n",
      "  ax = sns.kdeplot(matedScores, shade=False, label='Mated', color=sns.xkcd_rgb[\"medium green\"])\n",
      "/var/folders/66/tyvn43rs4_q5ty7s6l_dlzy40000gn/T/ipykernel_55328/3428340334.py:43: FutureWarning: \n",
      "\n",
      "`shade` is now deprecated in favor of `fill`; setting `fill=False`.\n",
      "This will become an error in seaborn v0.14.0; please update your code.\n",
      "\n",
      "  ax = sns.kdeplot(nonMatedScores, shade=False, label='Non-Mated', color=sns.xkcd_rgb[\"pale red\"],linewidth=5, linestyle='--')\n"
     ]
    },
    {
     "name": "stdout",
     "output_type": "stream",
     "text": [
      "0.0013636363636363653\n"
     ]
    },
    {
     "name": "stderr",
     "output_type": "stream",
     "text": [
      "/var/folders/66/tyvn43rs4_q5ty7s6l_dlzy40000gn/T/ipykernel_55328/3428340334.py:41: FutureWarning: \n",
      "\n",
      "`shade` is now deprecated in favor of `fill`; setting `fill=False`.\n",
      "This will become an error in seaborn v0.14.0; please update your code.\n",
      "\n",
      "  ax = sns.kdeplot(matedScores, shade=False, label='Mated', color=sns.xkcd_rgb[\"medium green\"])\n",
      "/var/folders/66/tyvn43rs4_q5ty7s6l_dlzy40000gn/T/ipykernel_55328/3428340334.py:43: FutureWarning: \n",
      "\n",
      "`shade` is now deprecated in favor of `fill`; setting `fill=False`.\n",
      "This will become an error in seaborn v0.14.0; please update your code.\n",
      "\n",
      "  ax = sns.kdeplot(nonMatedScores, shade=False, label='Non-Mated', color=sns.xkcd_rgb[\"pale red\"],linewidth=5, linestyle='--')\n"
     ]
    }
   ],
   "source": [
    "################################################################# CREDIT ###############################################################\n",
    "# Github Implementation: https://github.com/dasec/unlinkability-metric\n",
    "# Cited from: M. Gomez-Barrero, J. Galbally, C. Rathgeb and C. Busch,\n",
    "# \"General Framework to Evaluate Unlinkability in Biometric Template Protection Systems,\"\n",
    "# in IEEE Transactions on Information Forensics and Security, vol. 13, no. 6, pp. 1406-1420, June 2018,\n",
    "# doi: 10.1109/TIFS.2017.2788000.\n",
    "# keywords: {Measurement;Privacy;Benchmark testing;Bioinformatics;Cryptography;Magnetic resonance;IEC Standards;Unlinkability;privacy;template protection;biometrics;performance testing},\n",
    "#########################################################################################################################################\n",
    "\n",
    "\n",
    "def unlinkability_analysis(matedScores, nonMatedScores, figureFile='file', omega=1, figureTitle='Unlinkability Analysis', nBins=30, legendLocation='upper right'):\n",
    "    if nBins == -1:\n",
    "    \tnBins = min(len(matedScores)/10,100)\n",
    "    \n",
    "    # define range of scores to compute D\n",
    "    bin_edges = numpy.linspace(min([min(matedScores), min(nonMatedScores)]), max([max(matedScores), max(nonMatedScores)]), num=nBins + 1, endpoint=True)\n",
    "    bin_centers = (bin_edges[1:] + bin_edges[:-1]) / 2 # find bin centers\n",
    "    \n",
    "    # compute score distributions (normalised histogram)\n",
    "    y1 = numpy.histogram(matedScores, bins = bin_edges, density = True)[0]\n",
    "    y2 = numpy.histogram(nonMatedScores, bins = bin_edges, density = True)[0]\n",
    "    \n",
    "    # Compute LR and D\n",
    "    LR = numpy.divide(y1, y2, out=numpy.ones_like(y1), where=y2!=0)\n",
    "    D = 2*(omega*LR/(1 + omega*LR)) - 1\n",
    "    D[omega*LR <= 1] = 0\n",
    "    D[y2 == 0] = 1 # this is the definition of D, and at the same time takes care of inf / nan\n",
    "    \n",
    "    # Compute and print Dsys\n",
    "    Dsys = numpy.trapz(x = bin_centers, y = D* y1)\n",
    "    print(Dsys)\n",
    "    \n",
    "    \n",
    "    ### Plot final figure of D + score distributions\n",
    "    \n",
    "    plt.clf()\n",
    "    \n",
    "    sns.set_context(\"paper\",font_scale=1.7, rc={\"lines.linewidth\": 2.5})\n",
    "    sns.set_style(\"white\")\n",
    "    \n",
    "    ax = sns.kdeplot(matedScores, shade=False, label='Mated', color=sns.xkcd_rgb[\"medium green\"])\n",
    "    x1,y1 = ax.get_lines()[0].get_data()\n",
    "    ax = sns.kdeplot(nonMatedScores, shade=False, label='Non-Mated', color=sns.xkcd_rgb[\"pale red\"],linewidth=5, linestyle='--')\n",
    "    x2,y2 = ax.get_lines()[1].get_data()\n",
    "    \n",
    "    ax2 = ax.twinx()\n",
    "    lns3, = ax2.plot(bin_centers, D, label='$\\mathrm{D}_{\\leftrightarrow}(s)$', color=sns.xkcd_rgb[\"denim blue\"],linewidth=5)\n",
    "    \n",
    "    # print omega * LR = 1 lines\n",
    "    index = numpy.where(D <= 0)\n",
    "    ax.axvline(bin_centers[index[0][0]], color='k', linestyle='--')\n",
    "    \n",
    "    #index = numpy.where(LR > 1)\n",
    "    #ax.axvline(bin_centers[index[0][2]], color='k', linestyle='--')\n",
    "    #ax.axvline(bin_centers[index[0][-1]], color='k', linestyle='--')\n",
    "    \n",
    "    \n",
    "    # Figure formatting\n",
    "    ax.spines['top'].set_visible(False)\n",
    "    ax.set_ylabel(\"Probability Density\")\n",
    "    ax.set_xlabel(\"Score\")\n",
    "    ax.set_title(\"%s, $\\mathrm{D}_{\\leftrightarrow}^{\\mathit{sys}}$ = %.2f\" % (figureTitle, Dsys),  y = 1.02)\n",
    "    \n",
    "    labs = [ax.get_lines()[0].get_label(), ax.get_lines()[1].get_label(), ax2.get_lines()[0].get_label()]\n",
    "    lns = [ax.get_lines()[0], ax.get_lines()[1], lns3]\n",
    "    ax.legend(lns, labs, loc = legendLocation)\n",
    "    \n",
    "    ax.set_ylim([0, max(max(y1), max(y2)) * 1.05])\n",
    "    ax.set_xlim([bin_edges[0]*0.98, bin_edges[-1]*1.02])\n",
    "    ax2.set_ylim([0, 1.1])\n",
    "    ax2.set_ylabel(\"$\\mathrm{D}_{\\leftrightarrow}(s)$\")\n",
    "    \n",
    "    plt.gcf().subplots_adjust(bottom=0.15)\n",
    "    plt.gcf().subplots_adjust(left=0.15)\n",
    "    plt.gcf().subplots_adjust(right=0.88)\n",
    "    pylab.savefig(figureFile)\n",
    "\n",
    "unlinkability_analysis(np.array(mated_score), np.array(non_mated_score), 'corr_omega1', 1)\n",
    "unlinkability_analysis(np.array(mated_score), np.array(non_mated_score), 'corr_omega0001', 0.0001)\n",
    "\n",
    "unlinkability_analysis(np.array(mated_score_ssim), np.array(non_mated_score), 'ssim_omega1', 1)\n",
    "unlinkability_analysis(np.array(mated_score_ssim), np.array(non_mated_score), 'ssim_omega0001', 0.0001)"
   ]
  },
  {
   "cell_type": "code",
   "execution_count": 11,
   "id": "2d958c10",
   "metadata": {
    "id": "2d958c10"
   },
   "outputs": [],
   "source": [
    "def plot_roc_curve(genuine_scores, impostor_scores, score_type):\n",
    "\n",
    "    # Create labels for ROC curve\n",
    "    labels = [1] * len(genuine_scores) + [0] * len(impostor_scores)\n",
    "    scores = genuine_scores + impostor_scores\n",
    "\n",
    "    # Calculate ROC curve\n",
    "    fpr, tpr, _ = roc_curve(labels, scores)\n",
    "\n",
    "    plt.figure()\n",
    "    plt.plot(tpr, fpr, color='darkorange', lw=2, label='ROC curve (area = {:.2f})'.format(auc(fpr, tpr)))\n",
    "    plt.xlim([0.0, 1.0])\n",
    "    plt.ylim([0.0, 1.05])\n",
    "    plt.xlabel('False Positive Rate')\n",
    "    plt.ylabel('True Positive Rate')\n",
    "    plt.title(f'ROC Curve for {str.capitalize(score_type)} Metric')\n",
    "    plt.legend(loc='lower right')\n",
    "    plt.show()\n",
    "\n",
    "def plot_histograms(genuine_scores, impostor_scores, score_type):\n",
    "    plt.figure(figsize=(10, 6))\n",
    "\n",
    "    sns.histplot(genuine_scores, color='blue', label='Genuine Scores', bins=50, kde=True, stat='probability', fill=False)\n",
    "    sns.histplot(impostor_scores, color='red', label='Impostor Scores', bins=50, kde=True, stat='probability', fill=False)\n",
    "#     plt.yscale('log')\n",
    "    plt.title(f'Histogram of Similarity Scores for {str.capitalize(score_type)} Metric')\n",
    "    plt.xlabel('Similarity Score')\n",
    "    plt.ylabel('Frequency')\n",
    "    plt.legend(loc='upper right')\n",
    "\n",
    "    plt.show()\n",
    "\n",
    "# To plot two scores in same plot\n",
    "def plot_histograms_comb(genuine_scores_c, impostor_scores_c, score_type1, genuine_scores_ss, impostor_scores_ss, score_type2, template):\n",
    "    plt.figure(figsize=(10, 6))\n",
    "    plt.xlim([0.0, 1.1])\n",
    "    sns.histplot(genuine_scores_c, color='black', label=f'{score_type1}: Genuine Scores', bins=50, kde=True, stat='probability', fill=False, alpha=1, linewidth=2)\n",
    "    sns.histplot(impostor_scores_c, color='green', label=f'{score_type1}: Impostor Scores', bins=50, kde=True, stat='probability', fill=False, alpha=1, linewidth=2)\n",
    "    sns.histplot(genuine_scores_ss, color='yellow', label=f'{score_type2}: Genuine Scores', bins=50, kde=True, stat='probability', fill=False, alpha=0.5, linewidth=2)\n",
    "    sns.histplot(impostor_scores_ss, color='violet', label=f'{score_type2}: Impostor Scores', bins=50, kde=True, stat='probability', fill=False, alpha=1, linewidth=2)\n",
    "\n",
    "    plt.title(f'Histogram Plot for {template} Template')\n",
    "    plt.xlabel('Similarity Score', fontsize=16)\n",
    "    plt.ylabel('Frequency', fontsize=16)\n",
    "    plt.legend(loc='upper left', fontsize=12)\n",
    "\n",
    "    plt.show()\n",
    "\n",
    "def calculate_far_frr(genuine_scores, impostor_scores, threshold):\n",
    "    far = sum(score > threshold for score in impostor_scores) / len(impostor_scores)\n",
    "    frr = sum(score <= threshold for score in genuine_scores) / len(genuine_scores)\n",
    "    return far, frr"
   ]
  },
  {
   "cell_type": "code",
   "execution_count": 17,
   "id": "465c7f62-0013-4765-9351-111241f2687d",
   "metadata": {},
   "outputs": [],
   "source": [
    "dataset_path = os.path.join(os.getcwd(), 'PRP_with_ICT', 'k1')\n",
    "gs_corr, ims_corr = calculate_scores(dataset_path, score_type='correlation')\n",
    "gs_ssim, ims_ssim = calculate_scores(dataset_path, score_type='ssim')\n",
    "\n",
    "# Save the results in a textfile\n",
    "with open('genuine_scores_c.txt', 'w') as file:\n",
    "    for item in gs_corr:\n",
    "        file.write(str(item) + '\\n')\n",
    "\n",
    "with open('impostor_scores_c.txt', 'w') as file:\n",
    "    for item in ims_corr:\n",
    "        file.write(str(item) + '\\n')\n",
    "\n",
    "with open('genuine_scores_ss.txt', 'w') as file:\n",
    "    for item in gs_ssim:\n",
    "        file.write(str(item) + '\\n')\n",
    "\n",
    "with open('impostor_scores_ss.txt', 'w') as file:\n",
    "    for item in ims_ssim:\n",
    "        file.write(str(item) + '\\n')"
   ]
  },
  {
   "cell_type": "code",
   "execution_count": null,
   "id": "02334ade-d5e7-4fe4-a038-ea5651881603",
   "metadata": {},
   "outputs": [],
   "source": [
    "plot_histograms_comb(gs_corr, ims_corr, \"Correlation\", gs_ssim, ims_ssim, \"SSIM\", \"PRP\")"
   ]
  },
  {
   "cell_type": "code",
   "execution_count": 24,
   "id": "22602824-02d4-41c3-8b71-eac7ab0a572c",
   "metadata": {},
   "outputs": [
    {
     "name": "stderr",
     "output_type": "stream",
     "text": [
      "/var/folders/66/tyvn43rs4_q5ty7s6l_dlzy40000gn/T/ipykernel_91621/1319229166.py:18: UserWarning: FigureCanvasAgg is non-interactive, and thus cannot be shown\n",
      "  plt.show()\n",
      "/var/folders/66/tyvn43rs4_q5ty7s6l_dlzy40000gn/T/ipykernel_91621/1319229166.py:31: UserWarning: FigureCanvasAgg is non-interactive, and thus cannot be shown\n",
      "  plt.show()\n"
     ]
    }
   ],
   "source": [
    "plot_roc_curve(gs_corr, ims_corr, 'correlation')\n",
    "plot_histograms(gs_corr, ims_corr, 'ssim')\n"
   ]
  },
  {
   "cell_type": "code",
   "execution_count": null,
   "id": "88d717e6-0238-4d3a-9372-62ea65f58529",
   "metadata": {},
   "outputs": [],
   "source": [
    "plot_roc_curve(genuine_scores_p_tmp, impostor_scores_p_tmp, score_type)\n",
    "plot_histograms(gs_ssim, ims_ssim, score_type)\n"
   ]
  },
  {
   "cell_type": "markdown",
   "id": "ddc93ee5",
   "metadata": {
    "id": "ddc93ee5"
   },
   "source": [
    "## Metric = Pixelwise Comparision (NOT GOOD as it is a measure of dissimilarity)\n",
    "\n",
    "### calculated 1/(1+score) to get higher value of score for similar images and lower value of score that are dissimilar"
   ]
  },
  {
   "cell_type": "code",
   "execution_count": null,
   "id": "538ca0dc",
   "metadata": {
    "id": "538ca0dc"
   },
   "outputs": [],
   "source": [
    "score_type = 'pixelwise'"
   ]
  },
  {
   "cell_type": "code",
   "execution_count": null,
   "id": "c6f8700e",
   "metadata": {
    "id": "c6f8700e",
    "scrolled": true
   },
   "outputs": [],
   "source": [
    "genuine_scores_p, impostor_scores_p = calculate_scores(dataset_path)"
   ]
  },
  {
   "cell_type": "code",
   "execution_count": null,
   "id": "634ebc4a",
   "metadata": {
    "id": "634ebc4a"
   },
   "outputs": [],
   "source": [
    "#TO assign higher weights to lower values and vice versa\n",
    "genuine_scores_p_tmp = [1 / (1 + element) for element in genuine_scores_p]\n",
    "impostor_scores_p_tmp = [1 / (1 + element) for element in impostor_scores_p]"
   ]
  },
  {
   "cell_type": "code",
   "execution_count": null,
   "id": "4c3e216a",
   "metadata": {
    "id": "4c3e216a",
    "outputId": "6709431e-dca9-422b-dfd2-3e889194d083"
   },
   "outputs": [],
   "source": [
    "plot_roc_curve(genuine_scores_p_tmp, impostor_scores_p_tmp, score_type)\n",
    "plot_histograms(genuine_scores_p_tmp, impostor_scores_p_tmp, score_type)\n",
    "\n",
    "# Choose a threshold (you may want to optimize this based on your specific requirements)\n",
    "threshold_p = 50\n",
    "\n",
    "# Calculate FAR and FRR\n",
    "far, frr = calculate_far_frr(genuine_scores_p_tmp, impostor_scores_p_tmp, threshold_p)\n",
    "print(f\"FAR: {far}, FRR: {frr}\")"
   ]
  },
  {
   "cell_type": "markdown",
   "id": "5f5cde74",
   "metadata": {
    "id": "5f5cde74"
   },
   "source": [
    "## Metric = Correlation Comparision (GOOD)"
   ]
  },
  {
   "cell_type": "code",
   "execution_count": null,
   "id": "6ac21c3b",
   "metadata": {
    "id": "6ac21c3b"
   },
   "outputs": [],
   "source": [
    "score_type = 'correlation'"
   ]
  },
  {
   "cell_type": "code",
   "execution_count": null,
   "id": "ff54668f",
   "metadata": {
    "id": "ff54668f",
    "scrolled": true
   },
   "outputs": [],
   "source": [
    "genuine_scores_c, impostor_scores_c = calculate_scores(dataset_path, score_type)"
   ]
  },
  {
   "cell_type": "code",
   "execution_count": null,
   "id": "d4a4410c",
   "metadata": {
    "id": "d4a4410c"
   },
   "outputs": [],
   "source": [
    "# impostor_scores_c"
   ]
  },
  {
   "cell_type": "code",
   "execution_count": null,
   "id": "e99209fa",
   "metadata": {
    "id": "e99209fa",
    "outputId": "6668a571-b6f9-40c7-936d-8bd90a7071cb"
   },
   "outputs": [],
   "source": [
    "plot_roc_curve(genuine_scores_c, impostor_scores_c, score_type)\n",
    "plot_histograms(genuine_scores_c, impostor_scores_c, score_type)\n",
    "\n",
    "# Choose a threshold (you may want to optimize this based on your specific requirements)\n",
    "threshold_c = 0.5\n",
    "\n",
    "# Calculate FAR and FRR\n",
    "far, frr = calculate_far_frr(genuine_scores_c, impostor_scores_c, threshold_c)\n",
    "print(f\"FAR: {far}, FRR: {frr}\")"
   ]
  },
  {
   "cell_type": "markdown",
   "id": "64f3c4a9",
   "metadata": {
    "id": "64f3c4a9"
   },
   "source": [
    "## Metric = MSE Comparision (NOT GOOD as it is a measure of dissimilarity)"
   ]
  },
  {
   "cell_type": "code",
   "execution_count": null,
   "id": "91ac4f03",
   "metadata": {
    "id": "91ac4f03"
   },
   "outputs": [],
   "source": [
    "score_type = 'mse'"
   ]
  },
  {
   "cell_type": "code",
   "execution_count": null,
   "id": "04064e3a",
   "metadata": {
    "id": "04064e3a",
    "scrolled": true
   },
   "outputs": [],
   "source": [
    "genuine_scores_m, impostor_scores_m = calculate_scores(dataset_path, score_type)"
   ]
  },
  {
   "cell_type": "code",
   "execution_count": null,
   "id": "3a176fd3",
   "metadata": {
    "id": "3a176fd3",
    "outputId": "9ccaba33-6aef-4696-d0e4-7d546d78036c"
   },
   "outputs": [],
   "source": [
    "plot_roc_curve(genuine_scores_m, impostor_scores_m, score_type)\n",
    "plot_histograms(genuine_scores_m, impostor_scores_m, score_type)\n",
    "\n",
    "# Choose a threshold (you may want to optimize this based on your specific requirements)\n",
    "threshold_m = 2\n",
    "\n",
    "# Calculate FAR and FRR\n",
    "far, frr = calculate_far_frr(genuine_scores_m, impostor_scores_m, threshold_m)\n",
    "print(f\"FAR: {far}, FRR: {frr}\")"
   ]
  },
  {
   "cell_type": "markdown",
   "id": "2dcdfc90",
   "metadata": {
    "id": "2dcdfc90"
   },
   "source": [
    "## Metric = SSIM Comparision"
   ]
  },
  {
   "cell_type": "code",
   "execution_count": null,
   "id": "e926372d",
   "metadata": {
    "id": "e926372d"
   },
   "outputs": [],
   "source": [
    "score_type = 'ssim'"
   ]
  },
  {
   "cell_type": "code",
   "execution_count": null,
   "id": "f0c95284",
   "metadata": {
    "id": "f0c95284",
    "scrolled": true
   },
   "outputs": [],
   "source": [
    "genuine_scores_ss, impostor_scores_ss = calculate_scores(dataset_path, score_type)"
   ]
  },
  {
   "cell_type": "code",
   "execution_count": null,
   "id": "f5f7e7ec",
   "metadata": {
    "id": "f5f7e7ec"
   },
   "outputs": [],
   "source": [
    "# impostor_scores_ss"
   ]
  },
  {
   "cell_type": "code",
   "execution_count": null,
   "id": "1052496c",
   "metadata": {
    "id": "1052496c",
    "outputId": "c5d8a59a-991d-4e15-bb8d-a0b13773bb12",
    "scrolled": true
   },
   "outputs": [],
   "source": [
    "plot_roc_curve(genuine_scores_ss, impostor_scores_ss, score_type)\n",
    "plot_histograms(genuine_scores_ss, impostor_scores_ss, score_type)\n",
    "\n",
    "# Choose a threshold (you may want to optimize this based on your specific requirements)\n",
    "threshold_ss = 0.7\n",
    "\n",
    "# Calculate FAR and FRR\n",
    "far, frr = calculate_far_frr(genuine_scores_ss, impostor_scores_ss, threshold_ss)\n",
    "print(f\"FAR: {far}, FRR: {frr}\")"
   ]
  },
  {
   "cell_type": "markdown",
   "id": "118436be-e28b-4dc1-b6c3-90058cba6514",
   "metadata": {},
   "source": [
    "## If we have already calculated the score and saved them in a file in the following format, can use those to save calculation time"
   ]
  },
  {
   "cell_type": "code",
   "execution_count": null,
   "id": "UkKD3tOMQrxk",
   "metadata": {
    "colab": {
     "base_uri": "https://localhost:8080/",
     "height": 570
    },
    "id": "UkKD3tOMQrxk",
    "outputId": "807b3d45-1cdf-4a88-e8cd-56342368f85c"
   },
   "outputs": [],
   "source": [
    "# Use previously calculated score, (saves time by not calculation score again and again)\n",
    "\n",
    "# The data for JAB code templates\n",
    "genuine_scores_c, impostor_scores_c, genuine_scores_ss, impostor_scores_ss = [], [], [], []\n",
    "\n",
    "# Open the file in read mode\n",
    "with open('genuine_scores_c.txt', 'r') as file:\n",
    "    # Read each line in the file\n",
    "    for line in file:\n",
    "        # Convert the line to an integer and append it to the list\n",
    "        genuine_scores_c.append(float(line.strip()))\n",
    "\n",
    "with open('impostor_scores_c.txt', 'r') as file:\n",
    "    # Read each line in the file\n",
    "    for line in file:\n",
    "        # Convert the line to an integer and append it to the list\n",
    "        impostor_scores_c.append(float(line.strip()))\n",
    "\n",
    "with open('genuine_scores_ss.txt', 'r') as file:\n",
    "    # Read each line in the file\n",
    "    for line in file:\n",
    "        # Convert the line to an integer and append it to the list\n",
    "        genuine_scores_ss.append(float(line.strip()))\n",
    "\n",
    "with open('impostor_scores_ss.txt', 'r') as file:\n",
    "    # Read each line in the file\n",
    "    for line in file:\n",
    "        # Convert the line to an integer and append it to the list\n",
    "        impostor_scores_ss.append(float(line.strip()))\n",
    "\n",
    "# The data for PGP generated templates\n",
    "genuine_scores_c_mg, impostor_scores_c_mg, genuine_scores_ss_mg, impostor_scores_ss_mg = [], [], [], []\n",
    "\n",
    "# Open the file in read mode\n",
    "with open('genuine_scores_c_MG.txt', 'r') as file:\n",
    "    # Read each line in the file\n",
    "    for line in file:\n",
    "        # Convert the line to an integer and append it to the list\n",
    "        genuine_scores_c_mg.append(float(line.strip()))\n",
    "\n",
    "with open('impostor_scores_c_MG.txt', 'r') as file:\n",
    "    # Read each line in the file\n",
    "    for line in file:\n",
    "        # Convert the line to an integer and append it to the list\n",
    "        impostor_scores_c_mg.append(float(line.strip()))\n",
    "\n",
    "with open('genuine_scores_ss_MG.txt', 'r') as file:\n",
    "    # Read each line in the file\n",
    "    for line in file:\n",
    "        # Convert the line to an integer and append it to the list\n",
    "        genuine_scores_ss_mg.append(float(line.strip()))\n",
    "\n",
    "with open('impostor_scores_ss_MG.txt', 'r') as file:\n",
    "    # Read each line in the file\n",
    "    for line in file:\n",
    "        # Convert the line to an integer and append it to the list\n",
    "        impostor_scores_ss_mg.append(float(line.strip()))\n",
    "plot_histograms_comb(genuine_scores_c, impostor_scores_c, \"Correlation\", genuine_scores_ss_mg, impostor_scores_ss_mg, \"SSIM\", \"JAB Code\")"
   ]
  }
 ],
 "metadata": {
  "colab": {
   "include_colab_link": true,
   "provenance": []
  },
  "kernelspec": {
   "display_name": "icpr",
   "language": "python",
   "name": "icpr"
  },
  "language_info": {
   "codemirror_mode": {
    "name": "ipython",
    "version": 3
   },
   "file_extension": ".py",
   "mimetype": "text/x-python",
   "name": "python",
   "nbconvert_exporter": "python",
   "pygments_lexer": "ipython3",
   "version": "3.12.2"
  }
 },
 "nbformat": 4,
 "nbformat_minor": 5
}
