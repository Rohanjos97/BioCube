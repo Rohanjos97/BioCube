{
 "cells": [
  {
   "cell_type": "markdown",
   "metadata": {
    "id": "TZgu_4fve9Py"
   },
   "source": [
    "calculating the fractal dimension of two images using the box-counting method."
   ]
  },
  {
   "cell_type": "code",
   "execution_count": 5,
   "metadata": {
    "colab": {
     "base_uri": "https://localhost:8080/"
    },
    "id": "EeCZaJa0bSAU",
    "outputId": "58664f32-24b6-465c-9cfe-15365f873f1b"
   },
   "outputs": [
    {
     "name": "stdout",
     "output_type": "stream",
     "text": [
      "Fractal Dimension of Image 1: 1.0046988156812982\n",
      "Fractal Dimension of Image 2: 0.9806797239682078\n"
     ]
    }
   ],
   "source": [
    "\n",
    "import cv2\n",
    "import numpy as np\n",
    "import matplotlib.pyplot as plt\n",
    "\n",
    "def calculate_fractal_dimension(image_path):\n",
    "    # Load the image\n",
    "    img = cv2.imread(image_path, cv2.IMREAD_GRAYSCALE)\n",
    "\n",
    "    # Apply edge detection (you can use other methods for feature extraction)\n",
    "    edges = cv2.Canny(img, 100, 200)\n",
    "\n",
    "    # Calculate the fractal dimension using the box-counting method\n",
    "    width, height = edges.shape\n",
    "    box_size = min(width, height) // 2\n",
    "    counts = []\n",
    "\n",
    "    while box_size >= 2:\n",
    "        count = 0\n",
    "        for x in range(0, width, box_size):\n",
    "            for y in range(0, height, box_size):\n",
    "                sub_image = edges[x:x + box_size, y:y + box_size]\n",
    "                if np.sum(sub_image) > 0:\n",
    "                    count += 1\n",
    "        counts.append(count)\n",
    "        box_size //= 2\n",
    "\n",
    "    # Fit a linear regression line to the data points (log-log plot)\n",
    "    x = np.log(1 / np.array(counts[:-1]))\n",
    "    y = np.log(counts[1:])\n",
    "    slope, intercept = np.polyfit(x, y, 1)\n",
    "\n",
    "    return -slope  # Fractal dimension is the negative of the slope\n",
    "\n",
    "if __name__ == \"__main__\":\n",
    "    image_path1 = \"/content/001_L_1rot-2.png\"\n",
    "    image_path2 = \"/content/001_L_1rot-7.png\"\n",
    "\n",
    "    fd1 = calculate_fractal_dimension(image_path1)\n",
    "    fd2 = calculate_fractal_dimension(image_path2)\n",
    "\n",
    "    print(f\"Fractal Dimension of Image 1: {fd1}\")\n",
    "    print(f\"Fractal Dimension of Image 2: {fd2}\")\n"
   ]
  },
  {
   "cell_type": "code",
   "execution_count": 19,
   "metadata": {
    "colab": {
     "base_uri": "https://localhost:8080/"
    },
    "id": "FZvEhMfuc6Yo",
    "outputId": "4f331365-8e14-4b35-8925-4e8fccbb113f"
   },
   "outputs": [
    {
     "name": "stdout",
     "output_type": "stream",
     "text": [
      "Requirement already satisfied: scikit-image in /usr/local/lib/python3.10/dist-packages (0.19.3)\n",
      "Requirement already satisfied: numpy>=1.17.0 in /usr/local/lib/python3.10/dist-packages (from scikit-image) (1.23.5)\n",
      "Requirement already satisfied: scipy>=1.4.1 in /usr/local/lib/python3.10/dist-packages (from scikit-image) (1.11.2)\n",
      "Requirement already satisfied: networkx>=2.2 in /usr/local/lib/python3.10/dist-packages (from scikit-image) (3.1)\n",
      "Requirement already satisfied: pillow!=7.1.0,!=7.1.1,!=8.3.0,>=6.1.0 in /usr/local/lib/python3.10/dist-packages (from scikit-image) (9.4.0)\n",
      "Requirement already satisfied: imageio>=2.4.1 in /usr/local/lib/python3.10/dist-packages (from scikit-image) (2.31.3)\n",
      "Requirement already satisfied: tifffile>=2019.7.26 in /usr/local/lib/python3.10/dist-packages (from scikit-image) (2023.8.30)\n",
      "Requirement already satisfied: PyWavelets>=1.1.1 in /usr/local/lib/python3.10/dist-packages (from scikit-image) (1.4.1)\n",
      "Requirement already satisfied: packaging>=20.0 in /usr/local/lib/python3.10/dist-packages (from scikit-image) (23.1)\n"
     ]
    }
   ],
   "source": [
    "pip install scikit-image\n"
   ]
  },
  {
   "cell_type": "markdown",
   "metadata": {
    "id": "qEAkgxL1ejo8"
   },
   "source": [
    "different method : Structural Similarity Index (SSIM) and Mean Squared Error (MSE) between them."
   ]
  },
  {
   "cell_type": "code",
   "execution_count": 20,
   "metadata": {
    "colab": {
     "base_uri": "https://localhost:8080/"
    },
    "id": "orr33eJNeDTw",
    "outputId": "05e31f24-db7e-44f2-ed9b-148ac052f7f7"
   },
   "outputs": [
    {
     "name": "stdout",
     "output_type": "stream",
     "text": [
      "The images are different.\n"
     ]
    }
   ],
   "source": [
    "import cv2\n",
    "import numpy as np\n",
    "from skimage import io, color, metrics\n",
    "\n",
    "# Load the two images\n",
    "image1 = io.imread('/content/001_L_1rot-2.png')\n",
    "image2 = io.imread('/content/001_L_1rot-7.png')\n",
    "\n",
    "# Convert images to grayscale for SSIM calculation\n",
    "image1_gray = color.rgb2gray(image1)\n",
    "image2_gray = color.rgb2gray(image2)\n",
    "\n",
    "# Calculate SSIM\n",
    "ssim = metrics.structural_similarity(image1_gray, image2_gray)\n",
    "\n",
    "# Calculate the Mean Squared Error (MSE) between the images\n",
    "mse = np.mean((image1 - image2) ** 2)\n",
    "\n",
    "# You can define a threshold for SSIM and MSE to determine similarity\n",
    "ssim_threshold = 0.9\n",
    "mse_threshold = 1000\n",
    "\n",
    "if ssim > ssim_threshold and mse < mse_threshold:\n",
    "    print(\"The images are similar.\")\n",
    "else:\n",
    "    print(\"The images are different.\")\n"
   ]
  },
  {
   "cell_type": "code",
   "execution_count": null,
   "metadata": {
    "id": "_IX-IcT3eSRj"
   },
   "outputs": [],
   "source": []
  }
 ],
 "metadata": {
  "colab": {
   "provenance": []
  },
  "kernelspec": {
   "display_name": "Python 3 (ipykernel)",
   "language": "python",
   "name": "python3"
  },
  "language_info": {
   "codemirror_mode": {
    "name": "ipython",
    "version": 3
   },
   "file_extension": ".py",
   "mimetype": "text/x-python",
   "name": "python",
   "nbconvert_exporter": "python",
   "pygments_lexer": "ipython3",
   "version": "3.11.2"
  }
 },
 "nbformat": 4,
 "nbformat_minor": 1
}
