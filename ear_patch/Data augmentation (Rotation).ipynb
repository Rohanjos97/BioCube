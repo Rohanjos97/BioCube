{
 "cells": [
  {
   "cell_type": "code",
   "execution_count": 1,
   "id": "3c6ede5b",
   "metadata": {},
   "outputs": [
    {
     "data": {
      "text/plain": [
       "'C:\\\\Users\\\\HK Joshi\\\\Documents\\\\Github\\\\major_project'"
      ]
     },
     "execution_count": 1,
     "metadata": {},
     "output_type": "execute_result"
    }
   ],
   "source": [
    "import os\n",
    "import cv2\n",
    "import random\n",
    "\n",
    "ROOT_DIR = os.getcwd()\n",
    "ROOT_DIR"
   ]
  },
  {
   "cell_type": "code",
   "execution_count": 5,
   "id": "6b6a641f",
   "metadata": {},
   "outputs": [],
   "source": [
    "def rotation(img, angle):\n",
    "    # angle = int(random.uniform(-angle, angle))\n",
    "    h, w = img.shape[:2]\n",
    "    M = cv2.getRotationMatrix2D((int(w/2), int(h/2)), angle, 1)\n",
    "    img = cv2.warpAffine(img, M, (w, h))\n",
    "    return img"
   ]
  },
  {
   "cell_type": "code",
   "execution_count": 6,
   "id": "3e33f4b0",
   "metadata": {},
   "outputs": [],
   "source": [
    "os.chdir(ROOT_DIR)\n",
    "angle = 7"
   ]
  },
  {
   "cell_type": "code",
   "execution_count": 7,
   "id": "09c2d486",
   "metadata": {},
   "outputs": [],
   "source": [
    "img_path = os.path.join(ROOT_DIR, 'IITD')\n",
    "os.chdir(img_path)\n",
    "for folder in os.listdir():\n",
    "    # print(folder)\n",
    "    os.chdir(folder)\n",
    "    for file in os.listdir():\n",
    "        # print(file)\n",
    "        file_name, ext = file.split('.')\n",
    "        img = cv2.imread(file)\n",
    "        img = rotation(img, angle)    \n",
    "        # cv2.imshow('Result', img)\n",
    "        # cv2.waitKey(0)\n",
    "        # cv2.destroyAllWindows()\n",
    "        cv2.imwrite(file_name+'_rot.'+ext, img)\n",
    "    os.chdir('..')"
   ]
  },
  {
   "cell_type": "code",
   "execution_count": null,
   "id": "e9e789f2",
   "metadata": {},
   "outputs": [],
   "source": []
  }
 ],
 "metadata": {
  "kernelspec": {
   "display_name": "tensorflow_env",
   "language": "python",
   "name": "tensorflow_env"
  },
  "language_info": {
   "codemirror_mode": {
    "name": "ipython",
    "version": 3
   },
   "file_extension": ".py",
   "mimetype": "text/x-python",
   "name": "python",
   "nbconvert_exporter": "python",
   "pygments_lexer": "ipython3",
   "version": "3.11.2"
  }
 },
 "nbformat": 4,
 "nbformat_minor": 5
}
